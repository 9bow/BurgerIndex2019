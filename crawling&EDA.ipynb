{
 "cells": [
  {
   "cell_type": "code",
   "execution_count": 2,
   "metadata": {},
   "outputs": [],
   "source": [
    "import urllib.request\n",
    "import json\n",
    "import pandas as pd\n",
    "import bs4\n",
    "import numpy as np"
   ]
  },
  {
   "cell_type": "code",
   "execution_count": 126,
   "metadata": {},
   "outputs": [
    {
     "data": {
      "text/html": [
       "<div>\n",
       "<style scoped>\n",
       "    .dataframe tbody tr th:only-of-type {\n",
       "        vertical-align: middle;\n",
       "    }\n",
       "\n",
       "    .dataframe tbody tr th {\n",
       "        vertical-align: top;\n",
       "    }\n",
       "\n",
       "    .dataframe thead th {\n",
       "        text-align: right;\n",
       "    }\n",
       "</style>\n",
       "<table border=\"1\" class=\"dataframe\">\n",
       "  <thead>\n",
       "    <tr style=\"text-align: right;\">\n",
       "      <th></th>\n",
       "      <th>AllHour</th>\n",
       "      <th>CloseCleaning</th>\n",
       "      <th>ClosePeakSeason</th>\n",
       "      <th>CloseWeekday</th>\n",
       "      <th>Delivery</th>\n",
       "      <th>DriveThrough</th>\n",
       "      <th>Morning</th>\n",
       "      <th>NewAddr</th>\n",
       "      <th>NewAddr2</th>\n",
       "      <th>OpenTime</th>\n",
       "      <th>PhoneNumber</th>\n",
       "      <th>PointX</th>\n",
       "      <th>PointY</th>\n",
       "      <th>StoreNM</th>\n",
       "      <th>StoreSQ</th>\n",
       "    </tr>\n",
       "  </thead>\n",
       "  <tbody>\n",
       "    <tr>\n",
       "      <th>0</th>\n",
       "      <td>N</td>\n",
       "      <td></td>\n",
       "      <td></td>\n",
       "      <td>22:00</td>\n",
       "      <td>Y</td>\n",
       "      <td>N</td>\n",
       "      <td>N</td>\n",
       "      <td>서울특별시 금천구 가산디지털1로</td>\n",
       "      <td>168 우림라이온스밸리 A동</td>\n",
       "      <td>09:00</td>\n",
       "      <td>02-853-0332</td>\n",
       "      <td>37.480896</td>\n",
       "      <td>126.882133</td>\n",
       "      <td>가산디지털점</td>\n",
       "      <td>1</td>\n",
       "    </tr>\n",
       "    <tr>\n",
       "      <th>1</th>\n",
       "      <td>N</td>\n",
       "      <td></td>\n",
       "      <td></td>\n",
       "      <td>22:00</td>\n",
       "      <td>Y</td>\n",
       "      <td>N</td>\n",
       "      <td>Y</td>\n",
       "      <td>서울특별시 금천구 디지털로9길 46</td>\n",
       "      <td>이앤씨드림타워7차 101호</td>\n",
       "      <td>08:00</td>\n",
       "      <td>070-7438-8601</td>\n",
       "      <td>37.480247</td>\n",
       "      <td>126.886978</td>\n",
       "      <td>가산이앤씨7점</td>\n",
       "      <td>325</td>\n",
       "    </tr>\n",
       "    <tr>\n",
       "      <th>2</th>\n",
       "      <td>N</td>\n",
       "      <td></td>\n",
       "      <td>/ 토: 10:00 ~ 23:00 / 일: 10:00 ~ 22:00</td>\n",
       "      <td>22:00 /  금: 11:00~23:00</td>\n",
       "      <td>N</td>\n",
       "      <td>N</td>\n",
       "      <td>N</td>\n",
       "      <td>서울특별시 금천구 디지털로10길</td>\n",
       "      <td>9 HYHILL 6층</td>\n",
       "      <td>월~목: 11:00</td>\n",
       "      <td>02-2136-9962</td>\n",
       "      <td>37.477620</td>\n",
       "      <td>126.889053</td>\n",
       "      <td>가산현대시티아울렛점</td>\n",
       "      <td>2</td>\n",
       "    </tr>\n",
       "    <tr>\n",
       "      <th>3</th>\n",
       "      <td>N</td>\n",
       "      <td></td>\n",
       "      <td></td>\n",
       "      <td>22:00</td>\n",
       "      <td>N</td>\n",
       "      <td>N</td>\n",
       "      <td>N</td>\n",
       "      <td>서울특별시 강서구 양천로</td>\n",
       "      <td>559 이마트3층 (가양동)</td>\n",
       "      <td>10:00</td>\n",
       "      <td>02-3664-0221</td>\n",
       "      <td>37.558193</td>\n",
       "      <td>126.861816</td>\n",
       "      <td>가양이마트점</td>\n",
       "      <td>3</td>\n",
       "    </tr>\n",
       "    <tr>\n",
       "      <th>4</th>\n",
       "      <td>N</td>\n",
       "      <td></td>\n",
       "      <td></td>\n",
       "      <td>23:00</td>\n",
       "      <td>Y</td>\n",
       "      <td>N</td>\n",
       "      <td>N</td>\n",
       "      <td>서울특별시 서대문구 북가좌동</td>\n",
       "      <td>487 성공타워 1층</td>\n",
       "      <td>09:00</td>\n",
       "      <td>02-303-0392</td>\n",
       "      <td>37.570650</td>\n",
       "      <td>126.912750</td>\n",
       "      <td>가재울뉴타운점</td>\n",
       "      <td>275</td>\n",
       "    </tr>\n",
       "  </tbody>\n",
       "</table>\n",
       "</div>"
      ],
      "text/plain": [
       "  AllHour CloseCleaning                        ClosePeakSeason  \\\n",
       "0       N                                                        \n",
       "1       N                                                        \n",
       "2       N                / 토: 10:00 ~ 23:00 / 일: 10:00 ~ 22:00   \n",
       "3       N                                                        \n",
       "4       N                                                        \n",
       "\n",
       "               CloseWeekday Delivery DriveThrough Morning  \\\n",
       "0                     22:00        Y            N       N   \n",
       "1                     22:00        Y            N       Y   \n",
       "2   22:00 /  금: 11:00~23:00        N            N       N   \n",
       "3                     22:00        N            N       N   \n",
       "4                     23:00        Y            N       N   \n",
       "\n",
       "               NewAddr         NewAddr2    OpenTime    PhoneNumber     PointX  \\\n",
       "0   서울특별시 금천구 가산디지털1로   168 우림라이온스밸리 A동       09:00    02-853-0332  37.480896   \n",
       "1  서울특별시 금천구 디지털로9길 46   이앤씨드림타워7차 101호       08:00  070-7438-8601  37.480247   \n",
       "2    서울특별시 금천구 디지털로10길      9 HYHILL 6층  월~목: 11:00   02-2136-9962  37.477620   \n",
       "3        서울특별시 강서구 양천로  559 이마트3층 (가양동)       10:00   02-3664-0221  37.558193   \n",
       "4      서울특별시 서대문구 북가좌동      487 성공타워 1층       09:00    02-303-0392  37.570650   \n",
       "\n",
       "       PointY     StoreNM  StoreSQ  \n",
       "0  126.882133      가산디지털점        1  \n",
       "1  126.886978    가산이앤씨7점       325  \n",
       "2  126.889053  가산현대시티아울렛점        2  \n",
       "3  126.861816      가양이마트점        3  \n",
       "4  126.912750     가재울뉴타운점      275  "
      ]
     },
     "execution_count": 126,
     "metadata": {},
     "output_type": "execute_result"
    }
   ],
   "source": [
    "response = urllib.request.urlopen('http://www.burgerking.co.kr/api/store/searchmap/empty/?areacd=')\n",
    "bgk_data = json.loads(response.read().decode('utf-8'))\n",
    "bgk_tbl = pd.DataFrame(bgk_data)\n",
    "bgk_tbl.head()"
   ]
  },
  {
   "cell_type": "code",
   "execution_count": 127,
   "metadata": {},
   "outputs": [
    {
     "data": {
      "text/html": [
       "<div>\n",
       "<style scoped>\n",
       "    .dataframe tbody tr th:only-of-type {\n",
       "        vertical-align: middle;\n",
       "    }\n",
       "\n",
       "    .dataframe tbody tr th {\n",
       "        vertical-align: top;\n",
       "    }\n",
       "\n",
       "    .dataframe thead th {\n",
       "        text-align: right;\n",
       "    }\n",
       "</style>\n",
       "<table border=\"1\" class=\"dataframe\">\n",
       "  <thead>\n",
       "    <tr style=\"text-align: right;\">\n",
       "      <th></th>\n",
       "      <th>d1</th>\n",
       "      <th>d2</th>\n",
       "    </tr>\n",
       "  </thead>\n",
       "  <tbody>\n",
       "    <tr>\n",
       "      <th>0</th>\n",
       "      <td>서울특별시</td>\n",
       "      <td>금천구</td>\n",
       "    </tr>\n",
       "    <tr>\n",
       "      <th>1</th>\n",
       "      <td>서울특별시</td>\n",
       "      <td>금천구</td>\n",
       "    </tr>\n",
       "    <tr>\n",
       "      <th>2</th>\n",
       "      <td>서울특별시</td>\n",
       "      <td>금천구</td>\n",
       "    </tr>\n",
       "    <tr>\n",
       "      <th>3</th>\n",
       "      <td>서울특별시</td>\n",
       "      <td>강서구</td>\n",
       "    </tr>\n",
       "    <tr>\n",
       "      <th>4</th>\n",
       "      <td>서울특별시</td>\n",
       "      <td>서대문구</td>\n",
       "    </tr>\n",
       "  </tbody>\n",
       "</table>\n",
       "</div>"
      ],
      "text/plain": [
       "      d1    d2\n",
       "0  서울특별시   금천구\n",
       "1  서울특별시   금천구\n",
       "2  서울특별시   금천구\n",
       "3  서울특별시   강서구\n",
       "4  서울특별시  서대문구"
      ]
     },
     "execution_count": 127,
     "metadata": {},
     "output_type": "execute_result"
    }
   ],
   "source": [
    "bgk_locs = pd.DataFrame(bgk_tbl['NewAddr'].apply(lambda v: v.split()[:2]).tolist(),\n",
    "                        columns=('d1', 'd2'))\n",
    "bgk_locs.head()"
   ]
  },
  {
   "cell_type": "code",
   "execution_count": 128,
   "metadata": {},
   "outputs": [
    {
     "data": {
      "text/plain": [
       "array(['서울특별시', '서울시', '경기도', '인천시', '경상남도', '인천광역시', '인천', '강원도', '충청남도',\n",
       "       '충남', '세종특별자치시', '대전광역시', '대전시', '충청북도', '부산광역시', '부산시', '부산',\n",
       "       '울산광역시', '대구광역시', '경상북도', '경남', '전라남도', '광주광역시', '전라북도', '전주시',\n",
       "       '전북', '제주특별자치도'], dtype=object)"
      ]
     },
     "execution_count": 128,
     "metadata": {},
     "output_type": "execute_result"
    }
   ],
   "source": [
    "bgk_locs['d1'].unique()"
   ]
  },
  {
   "cell_type": "code",
   "execution_count": 129,
   "metadata": {},
   "outputs": [],
   "source": [
    "d1_aliases = \"\"\"서울시:서울특별시 충남:충청남도 강원:강원도 경기:경기도 충북:충청북도 경남:경상남도 경북:경상북도\n",
    "전남:전라남도 전북:전라북도 제주도:제주특별자치도 제주:제주특별자치도 대전시:대전광역시 대구시:대구광역시 인천:인천광역시\n",
    "광주시:광주광역시 울산시:울산광역시 부산시:부산광역시 부산:부산광역시 인천시:인천광역시\"\"\"\n",
    "d1_aliases = dict(aliasset.split(':') for aliasset in d1_aliases.split())\n",
    "bgk_locs['d1'] = bgk_locs['d1'].apply(lambda v: d1_aliases.get(v, v))"
   ]
  },
  {
   "cell_type": "code",
   "execution_count": 130,
   "metadata": {},
   "outputs": [
    {
     "data": {
      "text/html": [
       "<div>\n",
       "<style scoped>\n",
       "    .dataframe tbody tr th:only-of-type {\n",
       "        vertical-align: middle;\n",
       "    }\n",
       "\n",
       "    .dataframe tbody tr th {\n",
       "        vertical-align: top;\n",
       "    }\n",
       "\n",
       "    .dataframe thead th {\n",
       "        text-align: right;\n",
       "    }\n",
       "</style>\n",
       "<table border=\"1\" class=\"dataframe\">\n",
       "  <thead>\n",
       "    <tr style=\"text-align: right;\">\n",
       "      <th></th>\n",
       "      <th>d1</th>\n",
       "      <th>d2</th>\n",
       "    </tr>\n",
       "  </thead>\n",
       "  <tbody>\n",
       "    <tr>\n",
       "      <th>341</th>\n",
       "      <td>전주시</td>\n",
       "      <td>덕진구</td>\n",
       "    </tr>\n",
       "  </tbody>\n",
       "</table>\n",
       "</div>"
      ],
      "text/plain": [
       "      d1   d2\n",
       "341  전주시  덕진구"
      ]
     },
     "execution_count": 130,
     "metadata": {},
     "output_type": "execute_result"
    }
   ],
   "source": [
    "bgk_locs[bgk_locs['d1'] == '전주시']"
   ]
  },
  {
   "cell_type": "code",
   "execution_count": 131,
   "metadata": {},
   "outputs": [],
   "source": [
    "bgk_locs.iloc[341] = ['전라북도', '전주시']"
   ]
  },
  {
   "cell_type": "code",
   "execution_count": 132,
   "metadata": {},
   "outputs": [
    {
     "data": {
      "text/html": [
       "<div>\n",
       "<style scoped>\n",
       "    .dataframe tbody tr th:only-of-type {\n",
       "        vertical-align: middle;\n",
       "    }\n",
       "\n",
       "    .dataframe tbody tr th {\n",
       "        vertical-align: top;\n",
       "    }\n",
       "\n",
       "    .dataframe thead th {\n",
       "        text-align: right;\n",
       "    }\n",
       "</style>\n",
       "<table border=\"1\" class=\"dataframe\">\n",
       "  <thead>\n",
       "    <tr style=\"text-align: right;\">\n",
       "      <th></th>\n",
       "      <th>d1</th>\n",
       "      <th>d2</th>\n",
       "    </tr>\n",
       "  </thead>\n",
       "  <tbody>\n",
       "    <tr>\n",
       "      <th>210</th>\n",
       "      <td>세종특별자치시</td>\n",
       "      <td>보듬5로</td>\n",
       "    </tr>\n",
       "    <tr>\n",
       "      <th>232</th>\n",
       "      <td>세종특별자치시</td>\n",
       "      <td>한누리대로</td>\n",
       "    </tr>\n",
       "    <tr>\n",
       "      <th>233</th>\n",
       "      <td>세종특별자치시</td>\n",
       "      <td>None</td>\n",
       "    </tr>\n",
       "  </tbody>\n",
       "</table>\n",
       "</div>"
      ],
      "text/plain": [
       "          d1     d2\n",
       "210  세종특별자치시   보듬5로\n",
       "232  세종특별자치시  한누리대로\n",
       "233  세종특별자치시   None"
      ]
     },
     "execution_count": 132,
     "metadata": {},
     "output_type": "execute_result"
    }
   ],
   "source": [
    "bgk_locs[bgk_locs['d1'] == '세종특별자치시']"
   ]
  },
  {
   "cell_type": "code",
   "execution_count": 133,
   "metadata": {},
   "outputs": [],
   "source": [
    "bgk_locs.iloc[210] = ['충청남도', '세종시']\n",
    "bgk_locs.iloc[232] = ['충청남도', '세종시']\n",
    "bgk_locs.iloc[233] = ['충청남도', '세종시']"
   ]
  },
  {
   "cell_type": "code",
   "execution_count": 134,
   "metadata": {},
   "outputs": [
    {
     "data": {
      "text/plain": [
       "array(['금천구', '강서구', '서대문구', '서초구', '강남구', '구로구', '송파구', '광진구', '성북구',\n",
       "       '마포구', '노원구', '관악구', '용산구', '강동구', '동작구', '영등포구', '중구', '중랑구',\n",
       "       '양천구', '강북구', '은평구', '안산시', '동대문구', '도봉구', '성동구', '서구', '종로구',\n",
       "       '진주시', '양평군', '고양시', '과천시', '수원시', '광명시', '광주시', '구리시', '파주시',\n",
       "       '김포시', '남양주시', '동두천시', '화성시', '부천시', '성남시', '군포시', '용인시', '시흥시',\n",
       "       '안양시', '양주시', '오산시', '의정부시', '이천시', '평택시', '하남시', '남구', '부평구',\n",
       "       '송도국제대로', '계양구', '남동구', '연수구', '강릉시', '홍천군', '속초시', '원주시', '춘천시',\n",
       "       '당진시', '서산시', '천안시', '세종시', '홍성군', '유성구', '동구', '청주시', '청원군',\n",
       "       '진천군', '충주시', '금정구', '사하구', '연제구', '사상구', '해운대구', '동래구', '부산진구',\n",
       "       '기장군', '수성구', '북구', '달서구', '달성군', '안동시', '상주시', '영주시', '경산시',\n",
       "       '경주시', '구미시', '김천시', '포항시', '거제시', '창원시', '사천시', '김해시', '양산시',\n",
       "       '광양시', '나주시', '목포시', '순천시', '여수시', '무안군', '광산구', '군산시', '익산시',\n",
       "       '전주시', '정읍시', '제주시'], dtype=object)"
      ]
     },
     "execution_count": 134,
     "metadata": {},
     "output_type": "execute_result"
    }
   ],
   "source": [
    "bgk_locs['d2'].unique()"
   ]
  },
  {
   "cell_type": "code",
   "execution_count": 135,
   "metadata": {},
   "outputs": [
    {
     "data": {
      "text/html": [
       "<div>\n",
       "<style scoped>\n",
       "    .dataframe tbody tr th:only-of-type {\n",
       "        vertical-align: middle;\n",
       "    }\n",
       "\n",
       "    .dataframe tbody tr th {\n",
       "        vertical-align: top;\n",
       "    }\n",
       "\n",
       "    .dataframe thead th {\n",
       "        text-align: right;\n",
       "    }\n",
       "</style>\n",
       "<table border=\"1\" class=\"dataframe\">\n",
       "  <thead>\n",
       "    <tr style=\"text-align: right;\">\n",
       "      <th></th>\n",
       "      <th>d1</th>\n",
       "      <th>d2</th>\n",
       "    </tr>\n",
       "  </thead>\n",
       "  <tbody>\n",
       "    <tr>\n",
       "      <th>182</th>\n",
       "      <td>인천광역시</td>\n",
       "      <td>송도국제대로</td>\n",
       "    </tr>\n",
       "  </tbody>\n",
       "</table>\n",
       "</div>"
      ],
      "text/plain": [
       "        d1      d2\n",
       "182  인천광역시  송도국제대로"
      ]
     },
     "execution_count": 135,
     "metadata": {},
     "output_type": "execute_result"
    }
   ],
   "source": [
    "bgk_locs[bgk_locs['d2'] == '송도국제대로']"
   ]
  },
  {
   "cell_type": "code",
   "execution_count": 136,
   "metadata": {},
   "outputs": [],
   "source": [
    "bgk_locs.iloc[182] = ['인천광역시', '연수구']"
   ]
  },
  {
   "cell_type": "code",
   "execution_count": 137,
   "metadata": {},
   "outputs": [
    {
     "data": {
      "text/plain": [
       "경기도 수원시      13\n",
       "서울특별시 강남구    13\n",
       "경기도 성남시       8\n",
       "서울특별시 중구      8\n",
       "경기도 고양시       7\n",
       "dtype: int64"
      ]
     },
     "execution_count": 137,
     "metadata": {},
     "output_type": "execute_result"
    }
   ],
   "source": [
    "B = bgk_locs.apply(lambda r: r['d1'] + ' ' + r['d2'], axis=1).value_counts()\n",
    "B.head()"
   ]
  },
  {
   "cell_type": "code",
   "execution_count": 138,
   "metadata": {},
   "outputs": [],
   "source": [
    "MCDONALDS_URL = 'http://www.mcdonalds.co.kr/www/kor/findus/district.do?sSearch_yn=Y&skey=2&pageIndex={page}&skeyword={location}'"
   ]
  },
  {
   "cell_type": "code",
   "execution_count": 139,
   "metadata": {},
   "outputs": [],
   "source": [
    "def search_mcdonalds_stores_one_page(location, page):\n",
    "    response = urllib.request.urlopen(\n",
    "        MCDONALDS_URL.format(location=urllib.parse.quote(location.encode('utf-8')), page=page))\n",
    "    mcd_data = response.read().decode('utf-8')\n",
    "    soup = bs4.BeautifulSoup(mcd_data)\n",
    "    \n",
    "    ret = []\n",
    "    for storetag in soup.findAll('dl', attrs={'class': 'clearFix'}):\n",
    "        storename = storetag.findAll('a')[0].contents[-1].strip()\n",
    "        storeaddr = storetag.findAll('dd', attrs={'class': 'road'})[0].contents[0].split(']')[1]\n",
    "        storeaddr_district = storeaddr.split()[:2]\n",
    "        ret.append([storename] + storeaddr_district)\n",
    "\n",
    "    return pd.DataFrame(ret, columns=('store', 'd1', 'd2')) if ret else None"
   ]
  },
  {
   "cell_type": "code",
   "execution_count": 140,
   "metadata": {},
   "outputs": [],
   "source": [
    "def search_mcdonalds_stores(location):\n",
    "    from itertools import count\n",
    "    \n",
    "    found = []\n",
    "    for pg in count():\n",
    "        foundinpage = search_mcdonalds_stores_one_page(location, pg+1)\n",
    "        if foundinpage is None:\n",
    "            break\n",
    "        found.append(foundinpage)\n",
    "\n",
    "    return pd.concat(found)"
   ]
  },
  {
   "cell_type": "code",
   "execution_count": 141,
   "metadata": {},
   "outputs": [
    {
     "data": {
      "text/html": [
       "<div>\n",
       "<style scoped>\n",
       "    .dataframe tbody tr th:only-of-type {\n",
       "        vertical-align: middle;\n",
       "    }\n",
       "\n",
       "    .dataframe tbody tr th {\n",
       "        vertical-align: top;\n",
       "    }\n",
       "\n",
       "    .dataframe thead th {\n",
       "        text-align: right;\n",
       "    }\n",
       "</style>\n",
       "<table border=\"1\" class=\"dataframe\">\n",
       "  <thead>\n",
       "    <tr style=\"text-align: right;\">\n",
       "      <th></th>\n",
       "      <th>store</th>\n",
       "      <th>d1</th>\n",
       "      <th>d2</th>\n",
       "    </tr>\n",
       "  </thead>\n",
       "  <tbody>\n",
       "    <tr>\n",
       "      <th>0</th>\n",
       "      <td>가락DT점</td>\n",
       "      <td>서울특별시</td>\n",
       "      <td>송파구</td>\n",
       "    </tr>\n",
       "    <tr>\n",
       "      <th>1</th>\n",
       "      <td>가산디지털점</td>\n",
       "      <td>서울특별시</td>\n",
       "      <td>금천구</td>\n",
       "    </tr>\n",
       "    <tr>\n",
       "      <th>2</th>\n",
       "      <td>가산비지니스센터점</td>\n",
       "      <td>서울특별시</td>\n",
       "      <td>금천구</td>\n",
       "    </tr>\n",
       "    <tr>\n",
       "      <th>3</th>\n",
       "      <td>강남2호점</td>\n",
       "      <td>서울특별시</td>\n",
       "      <td>강남구</td>\n",
       "    </tr>\n",
       "    <tr>\n",
       "      <th>4</th>\n",
       "      <td>강남구청점</td>\n",
       "      <td>서울특별시</td>\n",
       "      <td>강남구</td>\n",
       "    </tr>\n",
       "  </tbody>\n",
       "</table>\n",
       "</div>"
      ],
      "text/plain": [
       "       store     d1   d2\n",
       "0      가락DT점  서울특별시  송파구\n",
       "1     가산디지털점  서울특별시  금천구\n",
       "2  가산비지니스센터점  서울특별시  금천구\n",
       "3      강남2호점  서울특별시  강남구\n",
       "4      강남구청점  서울특별시  강남구"
      ]
     },
     "execution_count": 141,
     "metadata": {},
     "output_type": "execute_result"
    }
   ],
   "source": [
    "search_mcdonalds_stores('서울특별시').head()"
   ]
  },
  {
   "cell_type": "code",
   "execution_count": 314,
   "metadata": {},
   "outputs": [
    {
     "name": "stdout",
     "output_type": "stream",
     "text": [
      "processing--> 서울특별시\n",
      "processing--> 경기도\n",
      "processing--> 인천광역시\n",
      "processing--> 경상남도\n",
      "processing--> 강원도\n",
      "processing--> 충청남도\n",
      "processing--> 대전광역시\n",
      "processing--> 충청북도\n",
      "processing--> 부산광역시\n",
      "processing--> 울산광역시\n",
      "processing--> 대구광역시\n",
      "processing--> 경상북도\n",
      "processing--> 전라남도\n",
      "processing--> 광주광역시\n",
      "processing--> 전라북도\n",
      "processing--> 제주특별자치도\n"
     ]
    }
   ],
   "source": [
    "found = []\n",
    "for distr in bgk_locs['d1'].unique():\n",
    "    print(\"processing-->\",distr)\n",
    "    found.append(search_mcdonalds_stores(distr))\n",
    "mcd_tbl = pd.concat(found)"
   ]
  },
  {
   "cell_type": "code",
   "execution_count": 315,
   "metadata": {},
   "outputs": [
    {
     "data": {
      "text/plain": [
       "파리공원점      1\n",
       "이마트 만촌점    1\n",
       "신내점        1\n",
       "동판교점       1\n",
       "동아대점       1\n",
       "Name: store, dtype: int64"
      ]
     },
     "execution_count": 315,
     "metadata": {},
     "output_type": "execute_result"
    }
   ],
   "source": [
    "mcd_tbl['store'].value_counts().head()"
   ]
  },
  {
   "cell_type": "code",
   "execution_count": 320,
   "metadata": {},
   "outputs": [
    {
     "data": {
      "text/html": [
       "<div>\n",
       "<style scoped>\n",
       "    .dataframe tbody tr th:only-of-type {\n",
       "        vertical-align: middle;\n",
       "    }\n",
       "\n",
       "    .dataframe tbody tr th {\n",
       "        vertical-align: top;\n",
       "    }\n",
       "\n",
       "    .dataframe thead th {\n",
       "        text-align: right;\n",
       "    }\n",
       "</style>\n",
       "<table border=\"1\" class=\"dataframe\">\n",
       "  <thead>\n",
       "    <tr style=\"text-align: right;\">\n",
       "      <th></th>\n",
       "      <th>store</th>\n",
       "      <th>d1</th>\n",
       "      <th>d2</th>\n",
       "    </tr>\n",
       "  </thead>\n",
       "  <tbody>\n",
       "    <tr>\n",
       "      <th>0</th>\n",
       "      <td>가락DT점</td>\n",
       "      <td>서울특별시</td>\n",
       "      <td>송파구</td>\n",
       "    </tr>\n",
       "    <tr>\n",
       "      <th>1</th>\n",
       "      <td>가산디지털점</td>\n",
       "      <td>서울특별시</td>\n",
       "      <td>금천구</td>\n",
       "    </tr>\n",
       "    <tr>\n",
       "      <th>2</th>\n",
       "      <td>가산비지니스센터점</td>\n",
       "      <td>서울특별시</td>\n",
       "      <td>금천구</td>\n",
       "    </tr>\n",
       "    <tr>\n",
       "      <th>3</th>\n",
       "      <td>강남2호점</td>\n",
       "      <td>서울특별시</td>\n",
       "      <td>강남구</td>\n",
       "    </tr>\n",
       "    <tr>\n",
       "      <th>4</th>\n",
       "      <td>강남구청점</td>\n",
       "      <td>서울특별시</td>\n",
       "      <td>강남구</td>\n",
       "    </tr>\n",
       "  </tbody>\n",
       "</table>\n",
       "</div>"
      ],
      "text/plain": [
       "       store     d1   d2\n",
       "0      가락DT점  서울특별시  송파구\n",
       "1     가산디지털점  서울특별시  금천구\n",
       "2  가산비지니스센터점  서울특별시  금천구\n",
       "3      강남2호점  서울특별시  강남구\n",
       "4      강남구청점  서울특별시  강남구"
      ]
     },
     "execution_count": 320,
     "metadata": {},
     "output_type": "execute_result"
    }
   ],
   "source": [
    "mcd_tbl.head()"
   ]
  },
  {
   "cell_type": "code",
   "execution_count": 322,
   "metadata": {},
   "outputs": [
    {
     "ename": "ValueError",
     "evalue": "cannot set using a list-like indexer with a different length than the value",
     "output_type": "error",
     "traceback": [
      "\u001b[1;31m---------------------------------------------------------------------------\u001b[0m",
      "\u001b[1;31mValueError\u001b[0m                                Traceback (most recent call last)",
      "\u001b[1;32m<ipython-input-322-736ab15bad34>\u001b[0m in \u001b[0;36m<module>\u001b[1;34m\u001b[0m\n\u001b[1;32m----> 1\u001b[1;33m \u001b[0mmcd_tbl\u001b[0m\u001b[1;33m[\u001b[0m\u001b[0mmcd_tbl\u001b[0m\u001b[1;33m[\u001b[0m\u001b[1;34m'd2'\u001b[0m\u001b[1;33m]\u001b[0m\u001b[1;33m==\u001b[0m\u001b[1;34m\"광역시\"\u001b[0m\u001b[1;33m]\u001b[0m \u001b[1;33m=\u001b[0m \u001b[1;33m[\u001b[0m\u001b[1;34m\"부산동명대DT점\"\u001b[0m\u001b[1;33m,\u001b[0m \u001b[1;34m\"부산광역시\"\u001b[0m\u001b[1;33m,\u001b[0m \u001b[1;34m\"남구\"\u001b[0m\u001b[1;33m]\u001b[0m\u001b[1;33m\u001b[0m\u001b[1;33m\u001b[0m\u001b[0m\n\u001b[0m",
      "\u001b[1;32m~\\Anaconda3\\lib\\site-packages\\pandas\\core\\frame.py\u001b[0m in \u001b[0;36m__setitem__\u001b[1;34m(self, key, value)\u001b[0m\n\u001b[0;32m   3114\u001b[0m             \u001b[0mself\u001b[0m\u001b[1;33m.\u001b[0m\u001b[0m_setitem_frame\u001b[0m\u001b[1;33m(\u001b[0m\u001b[0mkey\u001b[0m\u001b[1;33m,\u001b[0m \u001b[0mvalue\u001b[0m\u001b[1;33m)\u001b[0m\u001b[1;33m\u001b[0m\u001b[1;33m\u001b[0m\u001b[0m\n\u001b[0;32m   3115\u001b[0m         \u001b[1;32melif\u001b[0m \u001b[0misinstance\u001b[0m\u001b[1;33m(\u001b[0m\u001b[0mkey\u001b[0m\u001b[1;33m,\u001b[0m \u001b[1;33m(\u001b[0m\u001b[0mSeries\u001b[0m\u001b[1;33m,\u001b[0m \u001b[0mnp\u001b[0m\u001b[1;33m.\u001b[0m\u001b[0mndarray\u001b[0m\u001b[1;33m,\u001b[0m \u001b[0mlist\u001b[0m\u001b[1;33m,\u001b[0m \u001b[0mIndex\u001b[0m\u001b[1;33m)\u001b[0m\u001b[1;33m)\u001b[0m\u001b[1;33m:\u001b[0m\u001b[1;33m\u001b[0m\u001b[1;33m\u001b[0m\u001b[0m\n\u001b[1;32m-> 3116\u001b[1;33m             \u001b[0mself\u001b[0m\u001b[1;33m.\u001b[0m\u001b[0m_setitem_array\u001b[0m\u001b[1;33m(\u001b[0m\u001b[0mkey\u001b[0m\u001b[1;33m,\u001b[0m \u001b[0mvalue\u001b[0m\u001b[1;33m)\u001b[0m\u001b[1;33m\u001b[0m\u001b[1;33m\u001b[0m\u001b[0m\n\u001b[0m\u001b[0;32m   3117\u001b[0m         \u001b[1;32melse\u001b[0m\u001b[1;33m:\u001b[0m\u001b[1;33m\u001b[0m\u001b[1;33m\u001b[0m\u001b[0m\n\u001b[0;32m   3118\u001b[0m             \u001b[1;31m# set column\u001b[0m\u001b[1;33m\u001b[0m\u001b[1;33m\u001b[0m\u001b[1;33m\u001b[0m\u001b[0m\n",
      "\u001b[1;32m~\\Anaconda3\\lib\\site-packages\\pandas\\core\\frame.py\u001b[0m in \u001b[0;36m_setitem_array\u001b[1;34m(self, key, value)\u001b[0m\n\u001b[0;32m   3132\u001b[0m             \u001b[0mindexer\u001b[0m \u001b[1;33m=\u001b[0m \u001b[0mkey\u001b[0m\u001b[1;33m.\u001b[0m\u001b[0mnonzero\u001b[0m\u001b[1;33m(\u001b[0m\u001b[1;33m)\u001b[0m\u001b[1;33m[\u001b[0m\u001b[1;36m0\u001b[0m\u001b[1;33m]\u001b[0m\u001b[1;33m\u001b[0m\u001b[1;33m\u001b[0m\u001b[0m\n\u001b[0;32m   3133\u001b[0m             \u001b[0mself\u001b[0m\u001b[1;33m.\u001b[0m\u001b[0m_check_setitem_copy\u001b[0m\u001b[1;33m(\u001b[0m\u001b[1;33m)\u001b[0m\u001b[1;33m\u001b[0m\u001b[1;33m\u001b[0m\u001b[0m\n\u001b[1;32m-> 3134\u001b[1;33m             \u001b[0mself\u001b[0m\u001b[1;33m.\u001b[0m\u001b[0mloc\u001b[0m\u001b[1;33m.\u001b[0m\u001b[0m_setitem_with_indexer\u001b[0m\u001b[1;33m(\u001b[0m\u001b[0mindexer\u001b[0m\u001b[1;33m,\u001b[0m \u001b[0mvalue\u001b[0m\u001b[1;33m)\u001b[0m\u001b[1;33m\u001b[0m\u001b[1;33m\u001b[0m\u001b[0m\n\u001b[0m\u001b[0;32m   3135\u001b[0m         \u001b[1;32melse\u001b[0m\u001b[1;33m:\u001b[0m\u001b[1;33m\u001b[0m\u001b[1;33m\u001b[0m\u001b[0m\n\u001b[0;32m   3136\u001b[0m             \u001b[1;32mif\u001b[0m \u001b[0misinstance\u001b[0m\u001b[1;33m(\u001b[0m\u001b[0mvalue\u001b[0m\u001b[1;33m,\u001b[0m \u001b[0mDataFrame\u001b[0m\u001b[1;33m)\u001b[0m\u001b[1;33m:\u001b[0m\u001b[1;33m\u001b[0m\u001b[1;33m\u001b[0m\u001b[0m\n",
      "\u001b[1;32m~\\Anaconda3\\lib\\site-packages\\pandas\\core\\indexing.py\u001b[0m in \u001b[0;36m_setitem_with_indexer\u001b[1;34m(self, indexer, value)\u001b[0m\n\u001b[0;32m    649\u001b[0m             \u001b[0mself\u001b[0m\u001b[1;33m.\u001b[0m\u001b[0mobj\u001b[0m\u001b[1;33m.\u001b[0m\u001b[0m_consolidate_inplace\u001b[0m\u001b[1;33m(\u001b[0m\u001b[1;33m)\u001b[0m\u001b[1;33m\u001b[0m\u001b[1;33m\u001b[0m\u001b[0m\n\u001b[0;32m    650\u001b[0m             self.obj._data = self.obj._data.setitem(indexer=indexer,\n\u001b[1;32m--> 651\u001b[1;33m                                                     value=value)\n\u001b[0m\u001b[0;32m    652\u001b[0m             \u001b[0mself\u001b[0m\u001b[1;33m.\u001b[0m\u001b[0mobj\u001b[0m\u001b[1;33m.\u001b[0m\u001b[0m_maybe_update_cacher\u001b[0m\u001b[1;33m(\u001b[0m\u001b[0mclear\u001b[0m\u001b[1;33m=\u001b[0m\u001b[1;32mTrue\u001b[0m\u001b[1;33m)\u001b[0m\u001b[1;33m\u001b[0m\u001b[1;33m\u001b[0m\u001b[0m\n\u001b[0;32m    653\u001b[0m \u001b[1;33m\u001b[0m\u001b[0m\n",
      "\u001b[1;32m~\\Anaconda3\\lib\\site-packages\\pandas\\core\\internals.py\u001b[0m in \u001b[0;36msetitem\u001b[1;34m(self, **kwargs)\u001b[0m\n\u001b[0;32m   3691\u001b[0m \u001b[1;33m\u001b[0m\u001b[0m\n\u001b[0;32m   3692\u001b[0m     \u001b[1;32mdef\u001b[0m \u001b[0msetitem\u001b[0m\u001b[1;33m(\u001b[0m\u001b[0mself\u001b[0m\u001b[1;33m,\u001b[0m \u001b[1;33m**\u001b[0m\u001b[0mkwargs\u001b[0m\u001b[1;33m)\u001b[0m\u001b[1;33m:\u001b[0m\u001b[1;33m\u001b[0m\u001b[1;33m\u001b[0m\u001b[0m\n\u001b[1;32m-> 3693\u001b[1;33m         \u001b[1;32mreturn\u001b[0m \u001b[0mself\u001b[0m\u001b[1;33m.\u001b[0m\u001b[0mapply\u001b[0m\u001b[1;33m(\u001b[0m\u001b[1;34m'setitem'\u001b[0m\u001b[1;33m,\u001b[0m \u001b[1;33m**\u001b[0m\u001b[0mkwargs\u001b[0m\u001b[1;33m)\u001b[0m\u001b[1;33m\u001b[0m\u001b[1;33m\u001b[0m\u001b[0m\n\u001b[0m\u001b[0;32m   3694\u001b[0m \u001b[1;33m\u001b[0m\u001b[0m\n\u001b[0;32m   3695\u001b[0m     \u001b[1;32mdef\u001b[0m \u001b[0mputmask\u001b[0m\u001b[1;33m(\u001b[0m\u001b[0mself\u001b[0m\u001b[1;33m,\u001b[0m \u001b[1;33m**\u001b[0m\u001b[0mkwargs\u001b[0m\u001b[1;33m)\u001b[0m\u001b[1;33m:\u001b[0m\u001b[1;33m\u001b[0m\u001b[1;33m\u001b[0m\u001b[0m\n",
      "\u001b[1;32m~\\Anaconda3\\lib\\site-packages\\pandas\\core\\internals.py\u001b[0m in \u001b[0;36mapply\u001b[1;34m(self, f, axes, filter, do_integrity_check, consolidate, **kwargs)\u001b[0m\n\u001b[0;32m   3579\u001b[0m \u001b[1;33m\u001b[0m\u001b[0m\n\u001b[0;32m   3580\u001b[0m             \u001b[0mkwargs\u001b[0m\u001b[1;33m[\u001b[0m\u001b[1;34m'mgr'\u001b[0m\u001b[1;33m]\u001b[0m \u001b[1;33m=\u001b[0m \u001b[0mself\u001b[0m\u001b[1;33m\u001b[0m\u001b[1;33m\u001b[0m\u001b[0m\n\u001b[1;32m-> 3581\u001b[1;33m             \u001b[0mapplied\u001b[0m \u001b[1;33m=\u001b[0m \u001b[0mgetattr\u001b[0m\u001b[1;33m(\u001b[0m\u001b[0mb\u001b[0m\u001b[1;33m,\u001b[0m \u001b[0mf\u001b[0m\u001b[1;33m)\u001b[0m\u001b[1;33m(\u001b[0m\u001b[1;33m**\u001b[0m\u001b[0mkwargs\u001b[0m\u001b[1;33m)\u001b[0m\u001b[1;33m\u001b[0m\u001b[1;33m\u001b[0m\u001b[0m\n\u001b[0m\u001b[0;32m   3582\u001b[0m             \u001b[0mresult_blocks\u001b[0m \u001b[1;33m=\u001b[0m \u001b[0m_extend_blocks\u001b[0m\u001b[1;33m(\u001b[0m\u001b[0mapplied\u001b[0m\u001b[1;33m,\u001b[0m \u001b[0mresult_blocks\u001b[0m\u001b[1;33m)\u001b[0m\u001b[1;33m\u001b[0m\u001b[1;33m\u001b[0m\u001b[0m\n\u001b[0;32m   3583\u001b[0m \u001b[1;33m\u001b[0m\u001b[0m\n",
      "\u001b[1;32m~\\Anaconda3\\lib\\site-packages\\pandas\\core\\internals.py\u001b[0m in \u001b[0;36msetitem\u001b[1;34m(self, indexer, value, mgr)\u001b[0m\n\u001b[0;32m    890\u001b[0m \u001b[1;33m\u001b[0m\u001b[0m\n\u001b[0;32m    891\u001b[0m         \u001b[1;31m# length checking\u001b[0m\u001b[1;33m\u001b[0m\u001b[1;33m\u001b[0m\u001b[1;33m\u001b[0m\u001b[0m\n\u001b[1;32m--> 892\u001b[1;33m         \u001b[0mcheck_setitem_lengths\u001b[0m\u001b[1;33m(\u001b[0m\u001b[0mindexer\u001b[0m\u001b[1;33m,\u001b[0m \u001b[0mvalue\u001b[0m\u001b[1;33m,\u001b[0m \u001b[0mvalues\u001b[0m\u001b[1;33m)\u001b[0m\u001b[1;33m\u001b[0m\u001b[1;33m\u001b[0m\u001b[0m\n\u001b[0m\u001b[0;32m    893\u001b[0m \u001b[1;33m\u001b[0m\u001b[0m\n\u001b[0;32m    894\u001b[0m         \u001b[1;32mdef\u001b[0m \u001b[0m_is_scalar_indexer\u001b[0m\u001b[1;33m(\u001b[0m\u001b[0mindexer\u001b[0m\u001b[1;33m)\u001b[0m\u001b[1;33m:\u001b[0m\u001b[1;33m\u001b[0m\u001b[1;33m\u001b[0m\u001b[0m\n",
      "\u001b[1;32m~\\Anaconda3\\lib\\site-packages\\pandas\\core\\indexing.py\u001b[0m in \u001b[0;36mcheck_setitem_lengths\u001b[1;34m(indexer, value, values)\u001b[0m\n\u001b[0;32m   2401\u001b[0m                     \u001b[0mindexer\u001b[0m\u001b[1;33m.\u001b[0m\u001b[0mdtype\u001b[0m \u001b[1;33m==\u001b[0m \u001b[0mnp\u001b[0m\u001b[1;33m.\u001b[0m\u001b[0mbool_\u001b[0m \u001b[1;32mand\u001b[0m\u001b[1;33m\u001b[0m\u001b[1;33m\u001b[0m\u001b[0m\n\u001b[0;32m   2402\u001b[0m                     len(indexer[indexer]) == len(value)):\n\u001b[1;32m-> 2403\u001b[1;33m                 raise ValueError(\"cannot set using a list-like indexer \"\n\u001b[0m\u001b[0;32m   2404\u001b[0m                                  \"with a different length than the value\")\n\u001b[0;32m   2405\u001b[0m     \u001b[1;31m# slice\u001b[0m\u001b[1;33m\u001b[0m\u001b[1;33m\u001b[0m\u001b[1;33m\u001b[0m\u001b[0m\n",
      "\u001b[1;31mValueError\u001b[0m: cannot set using a list-like indexer with a different length than the value"
     ]
    }
   ],
   "source": [
    "mcd_tbl[mcd_tbl['d2']==\"광역시\"] = [\"부산동명대DT점\", \"부산광역시\", \"남구\"]"
   ]
  },
  {
   "cell_type": "code",
   "execution_count": 321,
   "metadata": {},
   "outputs": [
    {
     "ename": "NotImplementedError",
     "evalue": "iLocation based boolean indexing on an integer type is not available",
     "output_type": "error",
     "traceback": [
      "\u001b[1;31m---------------------------------------------------------------------------\u001b[0m",
      "\u001b[1;31mNotImplementedError\u001b[0m                       Traceback (most recent call last)",
      "\u001b[1;32m<ipython-input-321-e004ab0ca70a>\u001b[0m in \u001b[0;36m<module>\u001b[1;34m\u001b[0m\n\u001b[1;32m----> 1\u001b[1;33m \u001b[0mmcd_tbl\u001b[0m\u001b[1;33m.\u001b[0m\u001b[0miloc\u001b[0m\u001b[1;33m[\u001b[0m\u001b[0mmcd_tbl\u001b[0m\u001b[1;33m[\u001b[0m\u001b[1;34m'd2'\u001b[0m\u001b[1;33m]\u001b[0m\u001b[1;33m==\u001b[0m\u001b[1;34m\"광역시\"\u001b[0m\u001b[1;33m]\u001b[0m \u001b[1;33m=\u001b[0m \u001b[1;33m[\u001b[0m\u001b[1;34m\"부산동명대DT점\"\u001b[0m\u001b[1;33m,\u001b[0m \u001b[1;34m\"부산광역시\"\u001b[0m\u001b[1;33m,\u001b[0m \u001b[1;34m\"남구\"\u001b[0m\u001b[1;33m]\u001b[0m\u001b[1;33m\u001b[0m\u001b[1;33m\u001b[0m\u001b[0m\n\u001b[0m",
      "\u001b[1;32m~\\Anaconda3\\lib\\site-packages\\pandas\\core\\indexing.py\u001b[0m in \u001b[0;36m__setitem__\u001b[1;34m(self, key, value)\u001b[0m\n\u001b[0;32m    186\u001b[0m         \u001b[1;32melse\u001b[0m\u001b[1;33m:\u001b[0m\u001b[1;33m\u001b[0m\u001b[1;33m\u001b[0m\u001b[0m\n\u001b[0;32m    187\u001b[0m             \u001b[0mkey\u001b[0m \u001b[1;33m=\u001b[0m \u001b[0mcom\u001b[0m\u001b[1;33m.\u001b[0m\u001b[0m_apply_if_callable\u001b[0m\u001b[1;33m(\u001b[0m\u001b[0mkey\u001b[0m\u001b[1;33m,\u001b[0m \u001b[0mself\u001b[0m\u001b[1;33m.\u001b[0m\u001b[0mobj\u001b[0m\u001b[1;33m)\u001b[0m\u001b[1;33m\u001b[0m\u001b[1;33m\u001b[0m\u001b[0m\n\u001b[1;32m--> 188\u001b[1;33m         \u001b[0mindexer\u001b[0m \u001b[1;33m=\u001b[0m \u001b[0mself\u001b[0m\u001b[1;33m.\u001b[0m\u001b[0m_get_setitem_indexer\u001b[0m\u001b[1;33m(\u001b[0m\u001b[0mkey\u001b[0m\u001b[1;33m)\u001b[0m\u001b[1;33m\u001b[0m\u001b[1;33m\u001b[0m\u001b[0m\n\u001b[0m\u001b[0;32m    189\u001b[0m         \u001b[0mself\u001b[0m\u001b[1;33m.\u001b[0m\u001b[0m_setitem_with_indexer\u001b[0m\u001b[1;33m(\u001b[0m\u001b[0mindexer\u001b[0m\u001b[1;33m,\u001b[0m \u001b[0mvalue\u001b[0m\u001b[1;33m)\u001b[0m\u001b[1;33m\u001b[0m\u001b[1;33m\u001b[0m\u001b[0m\n\u001b[0;32m    190\u001b[0m \u001b[1;33m\u001b[0m\u001b[0m\n",
      "\u001b[1;32m~\\Anaconda3\\lib\\site-packages\\pandas\\core\\indexing.py\u001b[0m in \u001b[0;36m_get_setitem_indexer\u001b[1;34m(self, key)\u001b[0m\n\u001b[0;32m    172\u001b[0m \u001b[1;33m\u001b[0m\u001b[0m\n\u001b[0;32m    173\u001b[0m         \u001b[1;32mtry\u001b[0m\u001b[1;33m:\u001b[0m\u001b[1;33m\u001b[0m\u001b[1;33m\u001b[0m\u001b[0m\n\u001b[1;32m--> 174\u001b[1;33m             \u001b[1;32mreturn\u001b[0m \u001b[0mself\u001b[0m\u001b[1;33m.\u001b[0m\u001b[0m_convert_to_indexer\u001b[0m\u001b[1;33m(\u001b[0m\u001b[0mkey\u001b[0m\u001b[1;33m,\u001b[0m \u001b[0mis_setter\u001b[0m\u001b[1;33m=\u001b[0m\u001b[1;32mTrue\u001b[0m\u001b[1;33m)\u001b[0m\u001b[1;33m\u001b[0m\u001b[1;33m\u001b[0m\u001b[0m\n\u001b[0m\u001b[0;32m    175\u001b[0m         \u001b[1;32mexcept\u001b[0m \u001b[0mTypeError\u001b[0m \u001b[1;32mas\u001b[0m \u001b[0me\u001b[0m\u001b[1;33m:\u001b[0m\u001b[1;33m\u001b[0m\u001b[1;33m\u001b[0m\u001b[0m\n\u001b[0;32m    176\u001b[0m \u001b[1;33m\u001b[0m\u001b[0m\n",
      "\u001b[1;32m~\\Anaconda3\\lib\\site-packages\\pandas\\core\\indexing.py\u001b[0m in \u001b[0;36m_convert_to_indexer\u001b[1;34m(self, obj, axis, is_setter)\u001b[0m\n\u001b[0;32m   2117\u001b[0m \u001b[1;33m\u001b[0m\u001b[0m\n\u001b[0;32m   2118\u001b[0m         \u001b[1;32mtry\u001b[0m\u001b[1;33m:\u001b[0m\u001b[1;33m\u001b[0m\u001b[1;33m\u001b[0m\u001b[0m\n\u001b[1;32m-> 2119\u001b[1;33m             \u001b[0mself\u001b[0m\u001b[1;33m.\u001b[0m\u001b[0m_validate_key\u001b[0m\u001b[1;33m(\u001b[0m\u001b[0mobj\u001b[0m\u001b[1;33m,\u001b[0m \u001b[0maxis\u001b[0m\u001b[1;33m)\u001b[0m\u001b[1;33m\u001b[0m\u001b[1;33m\u001b[0m\u001b[0m\n\u001b[0m\u001b[0;32m   2120\u001b[0m             \u001b[1;32mreturn\u001b[0m \u001b[0mobj\u001b[0m\u001b[1;33m\u001b[0m\u001b[1;33m\u001b[0m\u001b[0m\n\u001b[0;32m   2121\u001b[0m         \u001b[1;32mexcept\u001b[0m \u001b[0mValueError\u001b[0m\u001b[1;33m:\u001b[0m\u001b[1;33m\u001b[0m\u001b[1;33m\u001b[0m\u001b[0m\n",
      "\u001b[1;32m~\\Anaconda3\\lib\\site-packages\\pandas\\core\\indexing.py\u001b[0m in \u001b[0;36m_validate_key\u001b[1;34m(self, key, axis)\u001b[0m\n\u001b[0;32m   1945\u001b[0m             \u001b[1;32mif\u001b[0m \u001b[0mhasattr\u001b[0m\u001b[1;33m(\u001b[0m\u001b[0mkey\u001b[0m\u001b[1;33m,\u001b[0m \u001b[1;34m'index'\u001b[0m\u001b[1;33m)\u001b[0m \u001b[1;32mand\u001b[0m \u001b[0misinstance\u001b[0m\u001b[1;33m(\u001b[0m\u001b[0mkey\u001b[0m\u001b[1;33m.\u001b[0m\u001b[0mindex\u001b[0m\u001b[1;33m,\u001b[0m \u001b[0mIndex\u001b[0m\u001b[1;33m)\u001b[0m\u001b[1;33m:\u001b[0m\u001b[1;33m\u001b[0m\u001b[1;33m\u001b[0m\u001b[0m\n\u001b[0;32m   1946\u001b[0m                 \u001b[1;32mif\u001b[0m \u001b[0mkey\u001b[0m\u001b[1;33m.\u001b[0m\u001b[0mindex\u001b[0m\u001b[1;33m.\u001b[0m\u001b[0minferred_type\u001b[0m \u001b[1;33m==\u001b[0m \u001b[1;34m'integer'\u001b[0m\u001b[1;33m:\u001b[0m\u001b[1;33m\u001b[0m\u001b[1;33m\u001b[0m\u001b[0m\n\u001b[1;32m-> 1947\u001b[1;33m                     raise NotImplementedError(\"iLocation based boolean \"\n\u001b[0m\u001b[0;32m   1948\u001b[0m                                               \u001b[1;34m\"indexing on an integer type \"\u001b[0m\u001b[1;33m\u001b[0m\u001b[1;33m\u001b[0m\u001b[0m\n\u001b[0;32m   1949\u001b[0m                                               \"is not available\")\n",
      "\u001b[1;31mNotImplementedError\u001b[0m: iLocation based boolean indexing on an integer type is not available"
     ]
    }
   ],
   "source": [
    "mcd_tbl.iloc[0] = [\"부산동명대DT점\", \"부산광역시\", \"남구\"]"
   ]
  },
  {
   "cell_type": "code",
   "execution_count": 301,
   "metadata": {},
   "outputs": [
    {
     "data": {
      "text/plain": [
       "경기도 수원시      13\n",
       "경상남도 창원시     11\n",
       "서울특별시 강남구    10\n",
       "경기도 용인시       9\n",
       "경기도 고양시       9\n",
       "dtype: int64"
      ]
     },
     "execution_count": 301,
     "metadata": {},
     "output_type": "execute_result"
    }
   ],
   "source": [
    "M = mcd_tbl.apply(lambda r: r['d1'] + ' ' + r['d2'], axis=1).value_counts()\n",
    "M.head()"
   ]
  },
  {
   "cell_type": "code",
   "execution_count": 145,
   "metadata": {},
   "outputs": [],
   "source": [
    "def kfc_search_stores_in_dist(num):\n",
    "    KFC_DISTSEARCH_URL = 'https://www.kfckorea.com/store/findStore/{code}'\n",
    "    response = urllib.request.urlopen(KFC_DISTSEARCH_URL.format(code=num))\n",
    "    kfc_data = response.read().decode('utf-8')\n",
    "    soup = bs4.BeautifulSoup(kfc_data)\n",
    "    store_name_idx = soup.findAll('script')[-3].text.find(\"store_name\\\":\\\"\")\n",
    "    store_add_idx = soup.findAll('script')[-3].text.find(\"old_address\\\":\\\"\")\n",
    "    \n",
    "    store_name = soup.findAll('script')[-3].text[store_name_idx+13:].split(\"\\\"\")[0]\n",
    "    store_add = soup.findAll('script')[-3].text[store_add_idx+14:].split(\"\\\"\")[0]\n",
    "    if len(store_name) < 10:\n",
    "        return store_name, store_add\n",
    "    else:\n",
    "        return None, None"
   ]
  },
  {
   "cell_type": "code",
   "execution_count": 146,
   "metadata": {
    "scrolled": false
   },
   "outputs": [
    {
     "name": "stdout",
     "output_type": "stream",
     "text": [
      "processing store code ~ 1100  / count :  37\n",
      "processing store code ~ 1200  / count :  92\n",
      "processing store code ~ 1300  / count :  52\n",
      "processing store code ~ 1400  / count :  1\n",
      "processing store code ~ 1500  / count :  3\n",
      "processing store code ~ 1600  / count :  0\n",
      "processing store code ~ 1700  / count :  0\n",
      "processing store code ~ 1800  / count :  4\n",
      "processing store code ~ 1900  / count :  3\n",
      "processing store code ~ 2000  / count :  0\n",
      "processing store code ~ 2100  / count :  4\n",
      "196\n"
     ]
    }
   ],
   "source": [
    "kfc_list = []\n",
    "count = 0\n",
    "for i in range(1001, 2101): \n",
    "    if i%100 == 0:\n",
    "        print(\"processing store code ~\", i, \" / count : \", count)\n",
    "        count = 0\n",
    "    loc1, loc2 = kfc_search_stores_in_dist(i)\n",
    "    if loc1 != None:\n",
    "        # print(\"name-\", loc1, \"/ address-\",loc2.split()[0], \"-\", loc2.split()[1], end = \" \")\n",
    "        kfc_list.append([loc1, loc2.split()[0], loc2.split()[1]])\n",
    "        count += 1\n",
    "        \n",
    "print(len(kfc_list))"
   ]
  },
  {
   "cell_type": "code",
   "execution_count": 147,
   "metadata": {},
   "outputs": [
    {
     "name": "stdout",
     "output_type": "stream",
     "text": [
      "196\n"
     ]
    }
   ],
   "source": [
    "print(len(kfc_list))\n",
    "kfc_tbl = pd.DataFrame(kfc_list, columns=('store', 'd1', 'd2'))"
   ]
  },
  {
   "cell_type": "code",
   "execution_count": 148,
   "metadata": {},
   "outputs": [
    {
     "data": {
      "text/plain": [
       "array(['서울', '인천', '경북', '경기', '부산', '광주', '경남', '대구', '대전', '전남',\n",
       "       '제주특별자치도', '세종특별자치시', '충남', '울산', '강원', '전북', '충북'], dtype=object)"
      ]
     },
     "execution_count": 148,
     "metadata": {},
     "output_type": "execute_result"
    }
   ],
   "source": [
    "kfc_tbl['d1'].unique()"
   ]
  },
  {
   "cell_type": "code",
   "execution_count": 149,
   "metadata": {},
   "outputs": [
    {
     "data": {
      "text/html": [
       "<div>\n",
       "<style scoped>\n",
       "    .dataframe tbody tr th:only-of-type {\n",
       "        vertical-align: middle;\n",
       "    }\n",
       "\n",
       "    .dataframe tbody tr th {\n",
       "        vertical-align: top;\n",
       "    }\n",
       "\n",
       "    .dataframe thead th {\n",
       "        text-align: right;\n",
       "    }\n",
       "</style>\n",
       "<table border=\"1\" class=\"dataframe\">\n",
       "  <thead>\n",
       "    <tr style=\"text-align: right;\">\n",
       "      <th></th>\n",
       "      <th>store</th>\n",
       "      <th>d1</th>\n",
       "      <th>d2</th>\n",
       "    </tr>\n",
       "  </thead>\n",
       "  <tbody>\n",
       "    <tr>\n",
       "      <th>83</th>\n",
       "      <td>세종이마트</td>\n",
       "      <td>세종특별자치시</td>\n",
       "      <td>가람동</td>\n",
       "    </tr>\n",
       "  </tbody>\n",
       "</table>\n",
       "</div>"
      ],
      "text/plain": [
       "    store       d1   d2\n",
       "83  세종이마트  세종특별자치시  가람동"
      ]
     },
     "execution_count": 149,
     "metadata": {},
     "output_type": "execute_result"
    }
   ],
   "source": [
    "kfc_tbl[kfc_tbl['d1']==\"세종특별자치시\"]"
   ]
  },
  {
   "cell_type": "code",
   "execution_count": 150,
   "metadata": {},
   "outputs": [],
   "source": [
    "kfc_tbl.iloc[83] = [\"세종이마트\", \"충청남도\", \"세종시\"]"
   ]
  },
  {
   "cell_type": "code",
   "execution_count": 151,
   "metadata": {},
   "outputs": [],
   "source": [
    "d1_aliases = \"\"\"서울:서울특별시 인천:인천광역시 강원:강원도 경기:경기도 충남:충청남도 충북:충청북도 경남:경상남도 경북:경상북도\n",
    "전남:전라남도 전북:전라북도 대전:대전광역시 대구:대구광역시 광주:광주광역시 울산:울산광역시 부산:부산광역시\"\"\"\n",
    "d1_aliases = dict(aliasset.split(':') for aliasset in d1_aliases.split())\n",
    "kfc_tbl['d1'] = kfc_tbl['d1'].apply(lambda v: d1_aliases.get(v, v))"
   ]
  },
  {
   "cell_type": "code",
   "execution_count": 152,
   "metadata": {},
   "outputs": [
    {
     "data": {
      "text/plain": [
       "서울특별시 서초구    10\n",
       "서울특별시 강남구     7\n",
       "경기도 수원시       6\n",
       "경기도 성남시       6\n",
       "서울특별시 송파구     5\n",
       "dtype: int64"
      ]
     },
     "execution_count": 152,
     "metadata": {},
     "output_type": "execute_result"
    }
   ],
   "source": [
    "K = kfc_tbl.apply(lambda r: r['d1'] + ' ' + r['d2'], axis=1).value_counts()\n",
    "K.head()"
   ]
  },
  {
   "cell_type": "code",
   "execution_count": 302,
   "metadata": {},
   "outputs": [
    {
     "data": {
      "text/html": [
       "<div>\n",
       "<style scoped>\n",
       "    .dataframe tbody tr th:only-of-type {\n",
       "        vertical-align: middle;\n",
       "    }\n",
       "\n",
       "    .dataframe tbody tr th {\n",
       "        vertical-align: top;\n",
       "    }\n",
       "\n",
       "    .dataframe thead th {\n",
       "        text-align: right;\n",
       "    }\n",
       "</style>\n",
       "<table border=\"1\" class=\"dataframe\">\n",
       "  <thead>\n",
       "    <tr style=\"text-align: right;\">\n",
       "      <th></th>\n",
       "      <th>B</th>\n",
       "      <th>M</th>\n",
       "      <th>K</th>\n",
       "      <th>total</th>\n",
       "    </tr>\n",
       "  </thead>\n",
       "  <tbody>\n",
       "    <tr>\n",
       "      <th>경기도 수원시</th>\n",
       "      <td>13.0</td>\n",
       "      <td>13.0</td>\n",
       "      <td>6.0</td>\n",
       "      <td>32.0</td>\n",
       "    </tr>\n",
       "    <tr>\n",
       "      <th>서울특별시 강남구</th>\n",
       "      <td>13.0</td>\n",
       "      <td>10.0</td>\n",
       "      <td>7.0</td>\n",
       "      <td>30.0</td>\n",
       "    </tr>\n",
       "    <tr>\n",
       "      <th>서울특별시 서초구</th>\n",
       "      <td>7.0</td>\n",
       "      <td>6.0</td>\n",
       "      <td>10.0</td>\n",
       "      <td>23.0</td>\n",
       "    </tr>\n",
       "    <tr>\n",
       "      <th>경기도 성남시</th>\n",
       "      <td>8.0</td>\n",
       "      <td>8.0</td>\n",
       "      <td>6.0</td>\n",
       "      <td>22.0</td>\n",
       "    </tr>\n",
       "    <tr>\n",
       "      <th>경상남도 창원시</th>\n",
       "      <td>6.0</td>\n",
       "      <td>11.0</td>\n",
       "      <td>3.0</td>\n",
       "      <td>20.0</td>\n",
       "    </tr>\n",
       "    <tr>\n",
       "      <th>경기도 고양시</th>\n",
       "      <td>7.0</td>\n",
       "      <td>9.0</td>\n",
       "      <td>4.0</td>\n",
       "      <td>20.0</td>\n",
       "    </tr>\n",
       "    <tr>\n",
       "      <th>경기도 용인시</th>\n",
       "      <td>5.0</td>\n",
       "      <td>9.0</td>\n",
       "      <td>5.0</td>\n",
       "      <td>19.0</td>\n",
       "    </tr>\n",
       "    <tr>\n",
       "      <th>서울특별시 송파구</th>\n",
       "      <td>7.0</td>\n",
       "      <td>4.0</td>\n",
       "      <td>5.0</td>\n",
       "      <td>16.0</td>\n",
       "    </tr>\n",
       "    <tr>\n",
       "      <th>경기도 부천시</th>\n",
       "      <td>4.0</td>\n",
       "      <td>8.0</td>\n",
       "      <td>3.0</td>\n",
       "      <td>15.0</td>\n",
       "    </tr>\n",
       "    <tr>\n",
       "      <th>충청북도 청주시</th>\n",
       "      <td>6.0</td>\n",
       "      <td>6.0</td>\n",
       "      <td>3.0</td>\n",
       "      <td>15.0</td>\n",
       "    </tr>\n",
       "  </tbody>\n",
       "</table>\n",
       "</div>"
      ],
      "text/plain": [
       "              B     M     K  total\n",
       "경기도 수원시    13.0  13.0   6.0   32.0\n",
       "서울특별시 강남구  13.0  10.0   7.0   30.0\n",
       "서울특별시 서초구   7.0   6.0  10.0   23.0\n",
       "경기도 성남시     8.0   8.0   6.0   22.0\n",
       "경상남도 창원시    6.0  11.0   3.0   20.0\n",
       "경기도 고양시     7.0   9.0   4.0   20.0\n",
       "경기도 용인시     5.0   9.0   5.0   19.0\n",
       "서울특별시 송파구   7.0   4.0   5.0   16.0\n",
       "경기도 부천시     4.0   8.0   3.0   15.0\n",
       "충청북도 청주시    6.0   6.0   3.0   15.0"
      ]
     },
     "execution_count": 302,
     "metadata": {},
     "output_type": "execute_result"
    }
   ],
   "source": [
    "BMK = pd.DataFrame({'B': B, 'M': M, 'K': K}).fillna(0)\n",
    "BMK['total'] = BMK.sum(axis=1)\n",
    "BMK = BMK.sort_values(by=['total'], ascending=False)\n",
    "BMK.head(10)"
   ]
  },
  {
   "cell_type": "code",
   "execution_count": 303,
   "metadata": {},
   "outputs": [],
   "source": [
    "from matplotlib import pyplot as plt\n",
    "from matplotlib import rcParams, style\n",
    "style.use('ggplot')\n",
    "rcParams['font.size'] = 12"
   ]
  },
  {
   "cell_type": "code",
   "execution_count": 304,
   "metadata": {},
   "outputs": [
    {
     "data": {
      "text/plain": [
       "<matplotlib.axes._subplots.AxesSubplot at 0x1a22db77128>"
      ]
     },
     "execution_count": 304,
     "metadata": {},
     "output_type": "execute_result"
    },
    {
     "data": {
      "image/png": "[encoded data removed]",
      "text/plain": [
       "<Figure size 288x216 with 1 Axes>"
      ]
     },
     "metadata": {},
     "output_type": "display_data"
    }
   ],
   "source": [
    "plt.figure(figsize=(4, 3))\n",
    "BMK.sum(axis=0).iloc[:3].plot(kind='bar')"
   ]
  },
  {
   "cell_type": "code",
   "execution_count": 156,
   "metadata": {},
   "outputs": [],
   "source": [
    "import scipy.stats"
   ]
  },
  {
   "cell_type": "code",
   "execution_count": 157,
   "metadata": {},
   "outputs": [
    {
     "data": {
      "image/png": "[encoded data removed]",
      "text/plain": [
       "<Figure size 648x216 with 3 Axes>"
      ]
     },
     "metadata": {},
     "output_type": "display_data"
    }
   ],
   "source": [
    "fig = plt.figure(figsize=(9, 3))\n",
    "\n",
    "def plot_nstores(b1, b2, label1, label2):\n",
    "    plt.scatter(BMK[b1] + np.random.random(len(BMK)),\n",
    "                BMK[b2] + np.random.random(len(BMK)),\n",
    "                edgecolor='none', alpha=0.75, s=6, c='black')\n",
    "    plt.xlim(-1, 15)\n",
    "    plt.ylim(-1, 15)\n",
    "    plt.xlabel(label1)\n",
    "    plt.ylabel(label2)\n",
    "    \n",
    "    r = scipy.stats.pearsonr(BMK[b1], BMK[b2])\n",
    "    plt.annotate('r={:.3f}'.format(r[0]), (10, 12.5))\n",
    "\n",
    "ax = fig.add_subplot(1, 3, 1)\n",
    "plot_nstores('B', 'M', 'Burger King', \"McDonald's\")\n",
    "\n",
    "ax = fig.add_subplot(1, 3, 2)\n",
    "plot_nstores('B', 'K', 'Burger King', 'KFC')\n",
    "\n",
    "ax = fig.add_subplot(1, 3, 3)\n",
    "plot_nstores('M', 'K', \"McDonald's\", 'KFC')\n",
    "\n",
    "plt.tight_layout()"
   ]
  },
  {
   "cell_type": "code",
   "execution_count": 158,
   "metadata": {},
   "outputs": [
    {
     "data": {
      "text/plain": [
       "Text(0, 0.5, 'Cumulative fraction')"
      ]
     },
     "execution_count": 158,
     "metadata": {},
     "output_type": "execute_result"
    },
    {
     "data": {
      "image/png": "[encoded data removed]",
      "text/plain": [
       "<Figure size 288x216 with 1 Axes>"
      ]
     },
     "metadata": {},
     "output_type": "display_data"
    }
   ],
   "source": [
    "plt.figure(figsize=(4, 3))\n",
    "for col, label in [('B', 'Burger King'), ('K', 'KFC'), ('M', \"McDonald's\")]:\n",
    "    cumulv = np.cumsum(sorted(BMK[col], reverse=True)) / BMK[col].sum()\n",
    "    plt.plot(cumulv, label='{} ({})'.format(label, int(BMK[col].sum())))\n",
    "plt.legend(loc='best')\n",
    "plt.xlabel('Number of districts (si/gun/gu)')\n",
    "plt.ylabel('Cumulative fraction')"
   ]
  },
  {
   "cell_type": "code",
   "execution_count": 4,
   "metadata": {},
   "outputs": [],
   "source": [
    "LOTTERIA_URL = 'http://www.lotteria.com/Shop/Shop_Ajax.asp'\n",
    "LOTTERIA_VALUES = {\n",
    "    'Page': 1, 'PageSize': 2000, 'BlockSize': 2000,\n",
    "    'SearchArea1': '', 'SearchArea2': '', 'SearchType': \"TEXT\",\n",
    "    'SearchText': '', 'SearchIs24H': '', 'SearchIsWifi': '',\n",
    "    'SearchIsDT': '', 'SearchIsHomeService': '', 'SearchIsGroupOrder': '',\n",
    "    'SearchIsEvent': ''}\n",
    "LOTTERIA_HEADERS = {\n",
    "    'User-Agent': 'Mozilla/5.0 (Macintosh; Intel Mac OS X 10.10; rv:12.0) Gecko/20100101',\n",
    "    'Host': 'www.lotteria.com',\n",
    "    'Accept': 'text/html, */*; q=0.01',\n",
    "    'Accept-Language': 'en-us,en;q=0.5',\n",
    "    'Content-Type': 'application/x-www-form-urlencoded; charset=UTF-8',\n",
    "    'X-Requested-With': 'XMLHttpRequest',\n",
    "    'Referer': 'http://www.lotteria.com/Shop/Shop_List.asp?Page=1&PageSize=2000&BlockSize=2000&Se'\n",
    "               'archArea1=&SearchArea2=&SearchType=TEXT&SearchText=&SearchIs24H=&SearchIsWifi=&Se'\n",
    "               'archIsDT=&SearchIsHomeService=&SearchIsGroupOrder=&SearchIsEvent=',\n",
    "}"
   ]
  },
  {
   "cell_type": "code",
   "execution_count": 5,
   "metadata": {},
   "outputs": [],
   "source": [
    "postdata = urllib.parse.urlencode(LOTTERIA_VALUES).encode('utf-8')\n",
    "req = urllib.request.Request(LOTTERIA_URL, postdata, LOTTERIA_HEADERS)\n",
    "response = urllib.request.urlopen(req)\n",
    "ltr_data = response.read().decode('utf-8')\n",
    "soup = bs4.BeautifulSoup(ltr_data)"
   ]
  },
  {
   "cell_type": "code",
   "execution_count": 8,
   "metadata": {},
   "outputs": [
    {
     "name": "stdout",
     "output_type": "stream",
     "text": [
      "1 롯데마트영통 / 2 구미산동 / 3 미사역 / 4 진해자은 / 5 수원고색 / 6 전북진안 / 7 동탄주거단지 / 8 안성중앙대 / 9 영남대DT / 10 홈플러스중계 / 11 광교 / 12 롯데마트중계 / 13 가평설악 / 14 부산괴정 / 15 경남대 / 16 양수리 / 17 서산해미 / 18 서산테크노밸리 / 19 하나로제주성산 / 20 파주야당역 / 21 홈플러스서부산 / 22 밀양하남 / 23 인천도화 / 24 광주퇴촌 / 25 여수예술랜드 / 26 용인남사 / 27 장생포 / 28 용인송전 / 29 왕십리역사 / 30 화곡역 / 31 홈플러스울산남구 / 32 파주광탄 / 33 부산서동 / 34 인천가정 / 35 순천조례 / 36 롯데마트동래 / 37 서충주신도시 / 38 대전세이 / 39 밀양삼문 / 40 방배역 / 41 안동문화의거리 / 42 경북의성 / 43 오남어람 / 44 전남곡성 / 45 해운대DT / 46 강남일원 / 47 금정역 / 48 제주우도 / 49 서면지하상가 / 50 경북신영주 / 51 음성삼성 / 52 여수죽림 / 53 원주흥업 / 54 동탄CGV / 55 창천 / 56 김포국제공항국내선청사4F / 57 부산연지 / 58 평택세교 / 59 평택진위DT / 60 청주옥산 / 61 춘천장학 / 62 시흥현대시장 / 63 인천공항제2여객터미널3층 / 64 부산광안역 / 65 인천공항제2여객터미널1층 / 66 위례중앙 / 67 구리갈매 / 68 당진기지시 / 69 포항법원 / 70 순천용당 / 71 울산삼산DI / 72 구미신평DT / 73 보라매타운 / 74 진해남문 / 75 시흥휴게소 / 76 청량리역사 / 77 롯데아울렛고양 / 78 용인시청DT / 79 전북장수 / 80 목동킴스클럽 / 81 롯데마트김포한강신도시 / 82 부산지사 / 83 경주보문 / 84 벌교 / 85 용인백암 / 86 울릉도 / 87 마곡나루역 / 88 대전도안 / 89 롯데속초리조트 / 90 의정부휴게소 / 91 내린천휴게소 / 92 별내휴게소 / 93 의정부낙양 / 94 양주옥정 / 95 롯데마트시흥배곧 / 96 울산역사 / 97 송파하비오 / 98 광주하남2지구 / 99 충북혁신도시 / 100 배곧신도시 / 101 제주표선해변 / 102 하나로고양 / 103 부산남산정역 / 104 울산정자해변 / 105 롯데마트서울양평 / 106 마산현동 / 107 부산전포 / 108 해운대백병원 / 109 신부산역사 / 110 양주광적 / 111 천안불당 / 112 울산우정 / 113 하나로마트광주수완 / 114 대전죽동 / 115 향남2신도시 / 116 익산역 / 117 잠실야구장1층 / 118 잠실야구장2층 / 119 잠실야구장3층 / 120 백령도 / 121 평내 / 122 인천서구 / 123 대구신서혁신DT / 124 롯데백창원식품관 / 125 전주평화 / 126 동여의도 / 127 아산테크노밸리 / 128 원주혁신도시 / 129 진주상봉 / 130 김해국제공항 / 131 대전산성 / 132 포항효자 / 133 홈플러스파주운정 / 134 이천 / 135 오산세교DT / 136 순천오천 / 137 안산와동 / 138 장한평역 / 139 충주용산 / 140 안양석수DT / 141 양산증산 / 142 목감신도시 / 143 평택청북 / 144 부산명지국제신도시 / 145 설악산 / 146 중화역 / 147 아산북수 / 148 동탄역사 / 149 수서역사 / 150 대구금호사수 / 151 경북도청 / 152 진주신안 / 153 롯데몰은평 / 154 양산물금 / 155 제기역 / 156 안성휴게소 / 157 대구세천 / 158 수원연무 / 159 경기대역 / 160 진해장천 / 161 파주적성 / 162 양재동 / 163 정읍상동 / 164 영등포롯데 / 165 영등포역사 / 166 대구가창DT / 167 포일IT / 168 안성맞춤휴게소 / 169 안성맞춤휴게소 / 170 죽암휴게소DT / 171 용인모현 / 172 부산해운대좌동 / 173 평택안중DI / 174 화성반월 / 175 남성역 / 176 울산옥동타워 / 177 영주가흥 / 178 전주하가DI / 179 용인천리 / 180 부산재송 / 181 고성간성 / 182 오창2산단 / 183 부산민락 / 184 이천하이닉스 / 185 파주당동 / 186 현풍테크노폴리스 / 187 수지풍덕천 / 188 의정부민락 / 189 광주백운 / 190 세종종촌 / 191 부산신호 / 192 전남함평 / 193 울산명촌 / 194 위례역 / 195 부산키자니아 / 196 안산부곡 / 197 청주내수 / 198 김천혁신도시 / 199 인덕원역 / 200 주안 / 201 모다아울렛인천 / 202 제주한림 / 203 동탄커뮤니티 / 204 구미문성 / 205 충남도청 / 206 평택청북DT / 207 보령동대 / 208 춘천우두 / 209 대구율하중앙 / 210 무주리조트 / 211 진주혁신도시 / 212 롯데마트마산양덕 / 213 마산합성삼성 / 214 만리 / 215 구월아시아드 / 216 울산반구 / 217 시흥하중 / 218 세종부강 / 219 홈플러스송도 / 220 남양주덕소 / 221 인천학산 / 222 창원감계 / 223 전남구례 / 224 거제상문 / 225 김천모다아울렛 / 226 인천공항A/S동편 / 227 서대문역 / 228 인천공항1층 / 229 롯데아울렛광교 / 230 자운대 / 231 청주강내 / 232 삼양사거리 / 233 대구가톨릭대학 / 234 롯데아울렛고양터미널 / 235 모슬포 / 236 부산송도 / 237 용인휴게소 / 238 패션아일랜드대전 / 239 대구역사 / 240 전주도청 / 241 당진신평 / 242 인천공항탑승동 / 243 일산웨스턴돔 / 244 광주선운 / 245 롯데아울렛인천항동 / 246 평택비전 / 247 고양원흥 / 248 천왕역 / 249 아산용화 / 250 아산신창 / 251 외대역 / 252 화성화산DT / 253 청주지웰 / 254 서울대입구역 / 255 대전월평 / 256 신방화역 / 257 강릉주문진 / 258 진주초전DI / 259 서동탄역 / 260 오목천DT / 261 가평현리 / 262 천안통정 / 263 성남도촌 / 264 롯데이천아울렛 / 265 제주외도DT / 266 여주가남 / 267 충남광천 / 268 서울대 / 269 센텀프라자빌딩 / 270 광주농성DT / 271 김포구래 / 272 롯데아울렛동부산1층 / 273 원주반곡 / 274 청주율량2지구 / 275 롯데아울렛동부산3층 / 276 청평DT / 277 나주혁신 / 278 안동용상DT / 279 여수돌산공원 / 280 전남장성 / 281 대구월드컵대로 / 282 부산학장 / 283 경북봉화 / 284 롯데아울렛광명 / 285 세종첫마을 / 286 경남하동 / 287 롯데몰수원 / 288 홈플러스세종 / 289 거제수월 / 290 광주오포 / 291 대전용운 / 292 명덕네거리 / 293 보문역 / 294 빅마켓일산킨텍스 / 295 광주능평 / 296 울산성안 / 297 양평용문 / 298 부산대청 / 299 제주아라 / 300 잠실롯데월드몰3층 / 301 잠실롯데월드몰B1 / 302 홈플러스대전둔산 / 303 메가마트기장 / 304 경북고령 / 305 신호매실 / 306 인천영종하늘도시 / 307 전주혁신 / 308 인천서창 / 309 제주항DT / 310 부산망미 / 311 창원동읍 / 312 천안차암 / 313 양산석산 / 314 천안성거 / 315 금곡 / 316 강릉포남 / 317 수원탑동 / 318 부산물만골역 / 319 구미공단 / 320 전남고흥 / 321 진주하대 / 322 양지파인리조트 / 323 망원 / 324 대구서문시장 / 325 마산진동 / 326 순창DT / 327 이천증포 / 328 부천도당 / 329 광주신용 / 330 서원대 / 331 광주주월DT / 332 대전관저 / 333 고양관산 / 334 김해내외DI / 335 제주삼화지구 / 336 대구진천역 / 337 논산연무 / 338 김포운양 / 339 호매실DI / 340 인천청라호수공원 / 341 부산다대포 / 342 여수디오션콘도 / 343 거제아주 / 344 일산대화역 / 345 동성로2호 / 346 평택지산 / 347 경북풍기 / 348 임실 / 349 부산남포 / 350 부산정관모전 / 351 삼송신원 / 352 여수웅천지구 / 353 광주태전 / 354 대전한밭대 / 355 익산배산 / 356 경남남지 / 357 오금동사거리 / 358 롯데마트여천 / 359 원주태장 / 360 세곡 / 361 롯데백잠실광장 / 362 군자 / 363 보광 / 364 당진 / 365 방이역 / 366 부천시청역 / 367 상일동 / 368 영천DT / 369 완주삼례 / 370 화성조암 / 371 대구청구네거리 / 372 담양DT / 373 인천불로 / 374 서면일번가 / 375 강동구청DT / 376 순천신대 / 377 경남함안 / 378 덕성여대 / 379 송도센트럴파크 / 380 부산토곡 / 381 후암 / 382 울산전하 / 383 대소 / 384 서산호수공원 / 385 부안 / 386 동대구역사2호 / 387 인천검단 / 388 시흥거모 / 389 개봉 / 390 화성사강DT / 391 대전관평 / 392 의정부시청 / 393 성주 / 394 망포역 / 395 봉천역 / 396 개포 / 397 녹번 / 398 휘닉스파크 / 399 홈플러스상봉 / 400 온양DT / 401 용인양지 / 402 수원곡반정 / 403 인천동춘 / 404 화천사내 / 405 분당수내동 / 406 대전터미널 / 407 인천한화 / 408 하나로부산 / 409 학동역 / 410 진주평거 / 411 하남풍산 / 412 구의역 / 413 문경새재 / 414 인천소래포구역 / 415 홈플러스남현 / 416 인천허브DI / 417 천안독립기념관 / 418 만안구청 / 419 순천향대학DT / 420 홈플러스대구수성 / 421 김포사우 / 422 강진 / 423 부산신모라 / 424 경산진량 / 425 부여아울렛 / 426 천안성정 / 427 하나로마트남창원 / 428 양주백석DT / 429 투나송내 / 430 안동터미널 / 431 천안안서DT / 432 홈플러스인천청라 / 433 대전대동 / 434 마산역 / 435 부천약대 / 436 답십리 / 437 홈플러스동대전 / 438 익산동산 / 439 번동DT / 440 대전대사DT / 441 용인동천 / 442 장흥 / 443 문정로데오 / 444 익산영등 / 445 안양호계 / 446 제주공항2호 / 447 전주중화산 / 448 대전가수원 / 449 군산조촌DT / 450 김해아울렛식당가 / 451 역삼 / 452 대구대곡역 / 453 신천 / 454 완주봉동 / 455 부산하단 / 456 천호역 / 457 안양중앙 / 458 홈플러스경산 / 459 원마운트워터파크 / 460 별내신도시 / 461 홈플러스오산세교 / 462 대전가양DT / 463 대전복수 / 464 수원역사 / 465 안산반월 / 466 롯데안양 / 467 창동역 / 468 송산휴게소 / 469 홈플러스포천송우 / 470 인천동양 / 471 홈플러스합정 / 472 광주운암DI / 473 여주375아울렛 / 474 의정부녹양역 / 475 빅마켓도봉 / 476 용인보라 / 477 별내 / 478 대구성당DT / 479 지행역 / 480 홈플러스대구성서 / 481 부산감천 / 482 청주분평DT / 483 전주인후 / 484 인천갈산 / 485 숭실대입구역 / 486 수원호매실 / 487 목포하당 / 488 홈플러스동광주 / 489 엘리시안강촌리조트 / 490 홈플러스인천숭의 / 491 목동 / 492 홈플러스대구 / 493 홈플러스부산가야 / 494 롯데마트서청주 / 495 안양박달DI / 496 인천부개역 / 497 대전카이스트 / 498 대흥역 / 499 경주 / 500 홈플러스인천가좌 / 501 울산방어 / 502 인천석바위 / 503 롯데마트시흥 / 504 롯데마트인천계양 / 505 진해용원 / 506 중랑역 / 507 천안안서 / 508 부산기장 / 509 서산휴게소(下) / 510 속초터미널 / 511 홈플러스원주관설 / 512 문막휴게소 / 513 홈플러스유성 / 514 안양관양 / 515 남원도통 / 516 용인역북 / 517 빅마켓금천 / 518 경주월드리조트 / 519 정선에코리조트 / 520 동묘역 / 521 망상 / 522 온양온천 / 523 부산거제 / 524 강남우성사거리 / 525 선릉 / 526 대전도안신도시 / 527 대전유성 / 528 홈플러스안동 / 529 목포대학 / 530 대전정림 / 531 뚝섬유원지 / 532 송파삼전 / 533 광교DT / 534 구로IT / 535 퇴계원 / 536 홈플러스영등포 / 537 홈플러스김포 / 538 부천중동 / 539 수락산역 / 540 롯데마트행당역 / 541 울산화봉 / 542 롯데마트수원천천 / 543 한남대 / 544 한성대입구역 / 545 전남대 / 546 청구역 / 547 목포용해 / 548 동해쇄운 / 549 롯데씨네마광주수완 / 550 부산화명 / 551 홈플러스부산연산 / 552 강릉DT / 553 부산가야 / 554 진해중앙 / 555 대방역 / 556 철원와수 / 557 전주삼천 / 558 무주 / 559 괴산 / 560 포천운천 / 561 홈플러스칠곡 / 562 원주단계 / 563 롯데마트원주 / 564 동대구역사 / 565 포항문덕 / 566 홈플러스경주 / 567 광주양산 / 568 구미봉곡 / 569 홈플러스안산 / 570 롯데몰김포공항 / 571 대구동호DT / 572 신경주역사 / 573 파주아울렛 / 574 송파 / 575 김포양곡 / 576 중동인성 / 577 오이도DI / 578 중곡 / 579 홈플러스작전 / 580 울산세이브존 / 581 롯데마트송파 / 582 대전와동DT / 583 충주연수 / 584 망우 / 585 인천청라 / 586 롯데마트삼양 / 587 영광 / 588 청양 / 589 NC강서 / 590 광주동강대 / 591 상계 / 592 부산미남역 / 593 일산킨텍스 / 594 강남역 / 595 대구스타디움 / 596 부산명지 / 597 방학 / 598 시흥월곶 / 599 상암 / 600 광양마동 / 601 강일 / 602 발산역 / 603 문막 / 604 대구수성 / 605 목동행복한백화점 / 606 종암 / 607 홈플러스간석 / 608 마산내서 / 609 청주터미널 / 610 천안상록리조트 / 611 광명하안 / 612 광혜원 / 613 부평 / 614 시흥정왕역 / 615 운정한빛 / 616 여의도선착장 / 617 청주하나로 / 618 전주효자서부 / 619 성수역 / 620 아산탕정 / 621 구파발역 / 622 부천범박 / 623 전주세이브존 / 624 남양주진접 / 625 고양 / 626 일산가좌 / 627 홈플러스대전탄방 / 628 롯데몰이시아폴리스점 / 629 키즈마트부산 / 630 군산수송 / 631 암사역 / 632 김포통진 / 633 상봉역 / 634 구리돌다리 / 635 구리인창 / 636 안성공도DT / 637 일산식사 / 638 충북오송 / 639 울산남목 / 640 정릉 / 641 서판교 / 642 인제터미널 / 643 용인흥덕 / 644 포천송우 / 645 완도 / 646 전주송천 / 647 주안DT / 648 용인죽전1동 / 649 방화 / 650 성남테크노밸리 / 651 롯데마트구리 / 652 중앙대 / 653 장호원 / 654 광명역사 / 655 이수역 / 656 수원정자 / 657 평택역사ST / 658 롯데마트창원중앙 / 659 롯데마트천안아산 / 660 창원소답 / 661 공항신도시 / 662 부산범어사역 / 663 롯데마트청주상당 / 664 용산역사ST / 665 천안터미널 / 666 홈플러스김해 / 667 홈플러스창원 / 668 롯데마트제천 / 669 오크밸리리조트S/T / 670 광주수완 / 671 군산산북 / 672 길음뉴타운점 / 673 단양 / 674 수영로타리 / 675 무안 / 676 역곡역 / 677 원주터미널 / 678 대전시청 / 679 용인신봉 / 680 판교DT / 681 구리토평 / 682 홈플러스밀양 / 683 시흥능곡 / 684 목포석현 / 685 문산 / 686 함양 / 687 삼호한마음 / 688 파주운정 / 689 광주두암 / 690 안산고잔 / 691 화천 / 692 천안목천 / 693 충남대 / 694 메가마트언양 / 695 평택송탄 / 696 마석중흥 / 697 양주고읍 / 698 대구율하 / 699 대구동성로 / 700 공릉역 / 701 여수여서 / 702 가든파이브 / 703 진주산업대 / 704 천안아산역사 / 705 홈플러스월곡 / 706 안성공도 / 707 창원상남 / 708 하나로마트울산 / 709 통영죽림 / 710 의왕오전 / 711 부산반송 / 712 익산모현 / 713 대전배재 / 714 부천오정 / 715 오남 / 716 롯데마트진해 / 717 부산대 / 718 의정부신곡 / 719 부천송내DT / 720 남악 / 721 부산동래역 / 722 평택포승한샘마트 / 723 화성센트럴파크 / 724 울산온양 / 725 광주풍암 / 726 롯데마트마산 / 727 키자니아 / 728 인천검암 / 729 청주봉명 / 730 롯데마트춘천 / 731 사당 / 732 오류동역 / 733 의왕부곡 / 734 일산풍동 / 735 화순 / 736 건대역 / 737 대구수성구청 / 738 부산정관 / 739 사가정역 / 740 롯데마트안산 / 741 광주동림 / 742 롯데광복 / 743 용인둔전 / 744 인천간석 / 745 일산후곡 / 746 인천월미마이랜드 / 747 성남단대 / 748 고덕역 / 749 목포 / 750 의정부호원 / 751 목포북항 / 752 미아삼거리 / 753 롯데마트동두천 / 754 인천남동공단 / 755 롯데마트광주수완 / 756 부천뉴코아 / 757 영등포타임스퀘어B2 / 758 롯데노원 / 759 김해율하 / 760 대구서부정류장 / 761 신도림역 / 762 대구서재 / 763 롯데마트서산 / 764 진주금산 / 765 알펜시아리조트 / 766 김포장기 / 767 광주학동 / 768 전주동산 / 769 평촌귀인 / 770 메가마트천안ST / 771 고양행신역 / 772 인천올리브 / 773 롯데마트고양 / 774 양산부산대 / 775 대구사월역 / 776 홈플러스송탄 / 777 롯데마트통영 / 778 롯데마트평택배미 / 779 여수디오션리조트 / 780 대구아양교 / 781 인천송도 / 782 대구스파밸리 / 783 신곡시장 / 784 홈플러스일산 / 785 평택팽성 / 786 대전괴정ST / 787 홈플러스풍무 / 788 용인보정 / 789 화성향남 / 790 아울렛광명 / 791 홈플러스계림 / 792 롯데김해아울렛 / 793 대구황금 / 794 아산둔포 / 795 숙대입구역 / 796 인천논현 / 797 포천DT / 798 홈플러스부산감만 / 799 롯데마트전주송천 / 800 진주터미널 / 801"
     ]
    },
    {
     "name": "stdout",
     "output_type": "stream",
     "text": [
      " 부산경성대 / 802 롯데마트전주 / 803 롯데마트당진 / 804 홈플러스평촌 / 805 동대문광장 / 806 롯데마트대전노은 / 807 태백 / 808 구미양포 / 809 홈플러스오창 / 810 송악 / 811 홈플러스문경 / 812 장승포 / 813 홈플러스서대전 / 814 수원북문 / 815 홈플러스천안 / 816 홈플러스울산동구 / 817 해운대세이브존 / 818 화성봉담 / 819 동해 / 820 다산 / 821 성신여대 / 822 홈플러스진해 / 823 롯데마트시티세븐 / 824 충주터미널 / 825 홈플러스조치원 / 826 포항대흥 / 827 수원성대 / 828 광주치평점 / 829 영덕 / 830 칠곡석적 / 831 홈플러스상인 / 832 홈플러스계산 / 833 홈플러스목포B1 / 834 화성동탄 / 835 구미상모 / 836 롯데슈광주첨단 / 837 롯데마인천삼산B1 / 838 용인상현 / 839 원통 / 840 평촌주공공이 / 841 롯데마트대덕테크노밸리 / 842 인천가좌 / 843 동대문역사문화공원역 / 844 전주터미널 / 845 청주산남 / 846 신당역 / 847 홈플러스전주 / 848 신림역 / 849 홈플러스보령 / 850 원광대 / 851 진주갤러리아 / 852 천안직산 / 853 홈플러스해운대 / 854 청량리 / 855 울산구영 / 856 화성기안 / 857 대전가오 / 858 부천역 / 859 부천역EXP / 860 올림픽공원 / 861 광명 / 862 부산사상 / 863 노량진 / 864 순천풍덕 / 865 홈플러스장림 / 866 용인구성 / 867 인천만수 / 868 대전전민 / 869 홈플러스울산북구 / 870 호평 / 871 의정부제일 / 872 고창 / 873 홈플러스천안신방 / 874 건대스타시티 / 875 롯데마트군산 / 876 파주교하 / 877 인천석남 / 878 롯데마트광주월드컵 / 879 광주문흥 / 880 홈플러스방학 / 881 롯데마트부평 / 882 조치원 / 883 천안역사 / 884 롯데마트목포 / 885 롯데마트익산 / 886 롯데마트장유 / 887 롯데마트천안 / 888 아산배방 / 889 롯데마트안성 / 890 신촌로터리 / 891 용인동백 / 892 춘천카펠라 / 893 광주신창 / 894 경산롯데씨네마 / 895 전주고사 / 896 오산원동 / 897 홈플러스신내 / 898 의정부회룡역 / 899 오창 / 900 롯데마트여수 / 901 홈플러스전주완산 / 902 롯데마트사상 / 903 대전반석 / 904 롯데마트울산진장 / 905 가평 / 906 대산 / 907 진건 / 908 부산역 / 909 마산터미널 / 910 수원팔달 / 911 곤지암 / 912 홈플러스내당 / 913 롯데마트천안성정 / 914 홈플러스마산양덕 / 915 캐슬플라자 / 916 구미동아EXP / 917 홈플러스구미광평 / 918 분당미금아울렛 / 919 의정부가능역점 / 920 홈플러스강서 / 921 서천 / 922 롯데마트구로 / 923 홈플러스인하 / 924 인천원당 / 925 대림역 / 926 롯데마트수지 / 927 화성태안 / 928 롯데마트웅상 / 929 원주무실 / 930 용산역사 / 931 영월 / 932 김해북부 / 933 인천당하 / 934 전주메가월드 / 935 진주롯데씨네마 / 936 신정네거리 / 937 동아쇼핑반월당 / 938 대구칠곡매천 / 939 청도 / 940 김천EXP / 941 성남상대원 / 942 일산대화 / 943 음성 / 944 화성발안 / 945 롯데마트광주 / 946 롯데마트서대전 / 947 롯데마트의왕 / 948 롯데마트첨단 / 949 제천청전 / 950 안양비산 / 951 청주드림플러스 / 952 홈플러스시화 / 953 일산중산 / 954 횡성 / 955 예천 / 956 대전역사 / 957 롯데마트강변 / 958 롯데마트사하 / 959 롯데마트오산 / 960 롯데마트주엽 / 961 롯데마트충주 / 962 롯데마트화명 / 963 금강휴게소 / 964 광주송정 / 965 구미진평 / 966 대구동서변 / 967 구미원평 / 968 순천맘모스 / 969 서울역광장 / 970 서울역사 / 971 구미도량 / 972 양구 / 973 A.G선수촌 / 974 홈플러스금천 / 975 군산대학 / 976 파주법원 / 977 수원율현 / 978 천안두정 / 979 대구월성 / 980 부산대연 / 981 의정부금오 / 982 안산역사 / 983 시흥제일 / 984 강릉교동 / 985 양산중부 / 986 군포당동 / 987 경남합천 / 988 제주공항 / 989 포항죽도 / 990 홈플러스아시아드 / 991 안산제일 / 992 대천광장 / 993 대구칠곡구암 / 994 포항두호 / 995 대구퀸스로드 / 996 분당미금 / 997 마산호계 / 998 인천연희DT / 999 안성중앙 / 1000 종각역 / 1001 수원역광장 / 1002 목포상동 / 1003 부천상동 / 1004 서울랜드2호 / 1005 울산화정 / 1006 GS천안 / 1007 봉일천 / 1008 시흥연성 / 1009 응암오거리 / 1010 대구다사 / 1011 경상대학 / 1012 광주용봉 / 1013 부산주례역 / 1014 대구방촌 / 1015 대전비래 / 1016 야탑역 / 1017 청주금천 / 1018 동인천역전 / 1019 울산호계 / 1020 북수원 / 1021 대전신성 / 1022 안산신도시 / 1023 경주안강 / 1024 장안사거리 / 1025 대전가장 / 1026 대구논공 / 1027 대구나이스수성 / 1028 안동옥동 / 1029 대구안지랑 / 1030 양평 / 1031 창원팔용 / 1032 천안신방 / 1033 여수신기 / 1034 경남창녕 / 1035 시흥시화 / 1036 인천청천 / 1037 혜화 / 1038 금왕 / 1039 염창 / 1040 구미오태DT / 1041 안산초지 / 1042 울산온산 / 1043 울산태화 / 1044 광주금호 / 1045 의정부용현 / 1046 원주엘지EXP / 1047 안양역사 / 1048 홈플러스센텀시티 / 1049 부산안락 / 1050 남양주청학 / 1051 동암남부 / 1052 포항흥해 / 1053 창원도계 / 1054 일산탄현 / 1055 홈플러스동수원 / 1056 광양 / 1057 명지대학 / 1058 개봉역 / 1059 롯데마트울산 / 1060 양산덕계 / 1061 삼천포벌리 / 1062 광주하남 / 1063 인천강화 / 1064 광주진월 / 1065 궁전라벤더 / 1066 익산부송 / 1067 전주아중 / 1068 울진DI / 1069 대전중촌 / 1070 장현 / 1071 인천용현 / 1072 남부터미널 / 1073 LG금촌 / 1074 하남신장 / 1075 홈플러스울산 / 1076 킴스순천 / 1077 화성남양 / 1078 안산본오 / 1079 인천작전 / 1080 김해장유 / 1081 천안쌍용 / 1082 수원터미널 / 1083 부산아쿠아리움 / 1084 석관 / 1085 신김포공항 / 1086 홈플러스구월 / 1087 청주하복대 / 1088 인천학익 / 1089 시흥중앙 / 1090 부산터미날1호 / 1091 청주대학 / 1092 원주하나로 / 1093 삼척 / 1094 수원권선 / 1095 양주덕정 / 1096 시흥은행 / 1097 대전송촌 / 1098 공주신관 / 1099 군산나운 / 1100 광주오치 / 1101 울산범서 / 1102 일산마두 / 1103 평택안중 / 1104 해남 / 1105 고성 / 1106 까치산역 / 1107 대전송강 / 1108 김해진영 / 1109 강원대학 / 1110 구미동아 / 1111 청주사천 / 1112 부산시청DT / 1113 경산사동 / 1114 대구신당 / 1115 북비산 / 1116 창원대학 / 1117 화정역 / 1118 신림녹두 / 1119 일동 / 1120 충주칠금 / 1121 안산한양대 / 1122 진천 / 1123 홈플러스거제 / 1124 구로가산 / 1125 안산중앙역 / 1126 청주분평 / 1127 인천공항3층 / 1128 창원대방 / 1129 대전노은 / 1130 안산DT / 1131 대전갈마 / 1132 경주황성 / 1133 성환 / 1134 포항양덕 / 1135 월드점 / 1136 광주운남 / 1137 인천남동구청 / 1138 청주사창 / 1139 아차산역 / 1140 광양중동 / 1141 울산터미널 / 1142 태안 / 1143 탑마트신다대 / 1144 홈플러스영통 / 1145 인천연수 / 1146 계룡 / 1147 동수원 / 1148 진주상대 / 1149 대구화원 / 1150 시흥정왕 / 1151 청주율량 / 1152 거제옥포 / 1153 여천 / 1154 춘천명동EXP / 1155 먹골역 / 1156 경안제일 / 1157 쌍문역 / 1158 광주일곡 / 1159 순천금당 / 1160 GS마트상계 / 1161 신부여 / 1162 부천고강 / 1163 전곡 / 1164 안양 / 1165 마석 / 1166 나주 / 1167 철원동송 / 1168 부산반여 / 1169 대구평리 / 1170 목동사거리 / 1171 전주효자CGV / 1172 서산터미날 / 1173 대구북부터미날 / 1174 사천 / 1175 인천부개 / 1176 신평탑마트 / 1177 세이브마트 / 1178 옥천 / 1179 남해 / 1180 대구용산 / 1181 인천옥련 / 1182 광주봉선 / 1183 부산대신 / 1184 청주개신 / 1185 천안백석 / 1186 이천중앙 / 1187 주안고려 / 1188 청주용암 / 1189 광주염주 / 1190 연신내역 / 1191 인천구월 / 1192 금산 / 1193 인천병방 / 1194 홍천 / 1195 여주 / 1196 경안 / 1197 마천 / 1198 영대병원 / 1199 전주서신 / 1200 포항오천 / 1201 충북영동 / 1202 부평역 / 1203 신탄진 / 1204 인천계양 / 1205 노원역 / 1206 증평 / 1207 강변씨네마 / 1208 점촌 / 1209 구포 / 1210 금호 / 1211 강변테크노 / 1212 롯데구리 / 1213 영도남항 / 1214 팔달시장 / 1215 명일DT / 1216 면목중앙 / 1217 대전타임월드 / 1218 평택중앙 / 1219 부산장림 / 1220 김해어방 / 1221 북마산 / 1222 신길 / 1223 광주충장 / 1224 인천신기 / 1225 제주시청 / 1226 포천 / 1227 김제 / 1228 순천연향 / 1229 경북왜관 / 1230 수원화서 / 1231 대구대곡 / 1232 영도동삼 / 1233 원주우산 / 1234 구서 / 1235 창원용호 / 1236 구로시장 / 1237 홍성 / 1238 하양 / 1239 대구계명 / 1240 구미인동 / 1241 영천시장 / 1242 대전도마 / 1243 대전은행 / 1244 문현 / 1245 광주터미널 / 1246 용인터미널 / 1247 구미형곡 / 1248 대전중동 / 1249 동두천 / 1250 거창 / 1251 통영 / 1252 인천백운 / 1253 하남덕풍 / 1254 언양 / 1255 신제주 / 1256 덕천 / 1257 제물포 / 1258 산본중앙 / 1259 대구복현 / 1260 대구지산 / 1261 대구효목 / 1262 양주리치마트 / 1263 예산 / 1264 울산대학 / 1265 논산 / 1266 남원 / 1267 부천원미 / 1268 성남양지 / 1269 대구봉덕 / 1270 부천원종 / 1271 정읍 / 1272 롯데부산본점시네마 / 1273 부산비프광장 / 1274 신갈 / 1275 강릉터미날 / 1276 성남수정 / 1277 보은 / 1278 김해부원 / 1279 화곡시장 / 1280 상주 / 1281 대구만촌 / 1282 부산용호 / 1283 양산 / 1284 대천 / 1285 동양터미널 / 1286 금촌 / 1287 여수중앙 / 1288 공주 / 1289 대구신암 / 1290 군산 / 1291 안산선부 / 1292 대구감삼 / 1293 부산역사 / 1294 대구상인 / 1295 안산상록수 / 1296 대전둔산 / 1297 부천송내 / 1298 김천 / 1299 마산창동 / 1300 속초 / 1301 부산진역 / 1302 성대시장 / 1303 서귀포 / 1304 경산 / 1305 응암 / 1306 석계 / 1307 온양 / 1308 성남신흥 / 1309 부산연산 / 1310 인천계산 / 1311 순천 / 1312 수원매탄 / 1313 구로디지털역 / 1314 대전동부 / 1315 영주 / 1316 대전버드내 / 1317 구미 / 1318 부산양정 / 1319 불광 / 1320 광주금남로 / 1321 충주 / 1322 제천 / 1323 원당 / 1324 춘천명동 / 1325 길동 / 1326 포항 / 1327 마들역 / 1328 언더랜드 / 1329 잠실아이스링크 / 1330 서울랜드점 / 1331 소공2호 / 1332 구의 / 1333 봉천 / 1334 강릉 / 1335 원주일산 / 1336 성남 / 1337 대전중앙 / 1338 터미널 / 1339 홈서비스과천 / 1340 홈서비스부암(부산역) / 1341 홈서비스성황 / "
     ]
    }
   ],
   "source": [
    "found = []\n",
    "for tag in soup.findAll('tr', {'class': 'shopSearch'}):\n",
    "    subtag = tag.findAll('td', {'style': 'padding-right:10px;'})\n",
    "    for sub in subtag:\n",
    "        st_name = sub.text.replace(\"D/T\", \"DT\")\n",
    "        st_name = st_name.replace(\"D/I\",\"DI\")\n",
    "        st_name = st_name.replace(\"(상)\",\"\")\n",
    "        st_name = st_name.replace(\"(하)\",\"\")\n",
    "        found.append(st_name)\n",
    "\n",
    "for n in range(len(found)):\n",
    "    print(n+1, found[n], end=\" / \")"
   ]
  },
  {
   "cell_type": "code",
   "execution_count": 7,
   "metadata": {},
   "outputs": [
    {
     "name": "stdout",
     "output_type": "stream",
     "text": [
      "Requirement already satisfied: selenium in c:\\users\\idjoo\\anaconda3\\lib\\site-packages (3.141.0)\n",
      "Requirement already satisfied: urllib3 in c:\\users\\idjoo\\anaconda3\\lib\\site-packages (from selenium) (1.24.1)\n"
     ]
    }
   ],
   "source": [
    "!pip install --trusted-host pypi.org --trusted-host files.pythonhosted.org selenium"
   ]
  },
  {
   "cell_type": "code",
   "execution_count": 9,
   "metadata": {},
   "outputs": [],
   "source": [
    "from selenium import webdriver"
   ]
  },
  {
   "cell_type": "code",
   "execution_count": 10,
   "metadata": {},
   "outputs": [],
   "source": [
    "driver = webdriver.Chrome('./driver/chromedriver')\n",
    "driver.get(\"https://map.naver.com/\")"
   ]
  },
  {
   "cell_type": "code",
   "execution_count": 11,
   "metadata": {},
   "outputs": [],
   "source": [
    "from selenium.webdriver.common.by import By\n",
    "from selenium.webdriver.support.ui import WebDriverWait\n",
    "from selenium.webdriver.support import expected_conditions as EC"
   ]
  },
  {
   "cell_type": "code",
   "execution_count": 12,
   "metadata": {},
   "outputs": [
    {
     "name": "stdout",
     "output_type": "stream",
     "text": [
      "롯데마트영통 / 여수예술랜드 / 대전세이 / 인천공항제2여객터미널3층 / 롯데마트김포한강신도시 / 경주보문 / 롯데마트시흥배곧 / 100 번째\n",
      "하나로고양 / 신부산역사 / 잠실야구장1층 / 잠실야구장2층 / 잠실야구장3층 / 백령도 / 롯데백창원식품관 / 원주혁신도시 / 수서역사 / 안성휴게소 / 안성맞춤휴게소 / 안성맞춤휴게소 / 죽암휴게소DT / 전주하가DI / 오창2산단 / 현풍테크노폴리스 / 부산키자니아 / 200 번째\n",
      "용인휴게소 / 패션아일랜드대전 / 롯데이천아울렛 / 300 번째\n",
      "동대구역사2호 / 화성사강DT / 400 번째\n",
      "인천허브DI / 순천향대학DT / 투나송내 / 원마운트워터파크 / 안산반월 / 롯데안양 / 송산휴게소 / 홈플러스포천송우 / 홈플러스동광주 / 안양박달DI / 500 번째\n",
      "롯데마트시흥 / 서산휴게소(下) / 홈플러스유성 / 안양관양 / 빅마켓금천 / 600 번째\n",
      "목동행복한백화점 / 광명역사 / 용산역사ST / 길음뉴타운점 / 700 번째\n",
      "성남단대 / 부천뉴코아 / 전주동산 / 대전괴정ST / 800 번째\n",
      "해운대세이브존 / 신당역 / 경산롯데씨네마 / 900 번째\n",
      "의정부가능역점 / 동아쇼핑반월당 / 의정부금오 / 포항두호 / 1000 번째\n",
      "1100 번째\n",
      "홈플러스영통 / 1200 번째\n",
      "영천시장 / 성남양지 / 1300 번째\n",
      "잠실아이스링크 / 서울랜드점 / 홈서비스과천 / 홈서비스부암(부산역) / 홈서비스성황 / Fin\n"
     ]
    }
   ],
   "source": [
    "# naver map\n",
    "ltr_list = []\n",
    "count = 1\n",
    "for name in found:\n",
    "    if count%100 == 0:\n",
    "        print(count,\"번째\")\n",
    "    count += 1\n",
    "    \n",
    "    driver.get(\"https://map.naver.com/\")\n",
    "    try:\n",
    "        element = WebDriverWait(driver, 10).until(\n",
    "            EC.presence_of_element_located((By.ID, \"search-input\"))\n",
    "        )\n",
    "    finally:\n",
    "        pass\n",
    "    \n",
    "    str = \"롯데리아 \" + name + \"점\"\n",
    "    driver.find_element_by_id('search-input').clear()\n",
    "    driver.find_element_by_id('search-input').send_keys(str)\n",
    "    element = driver.find_element_by_xpath(\"\"\"//*[@type=\"submit\"]\"\"\")\n",
    "    driver.execute_script(\"arguments[0].click();\", element)\n",
    "    \n",
    "    try:\n",
    "        element = WebDriverWait(driver, 3).until(\n",
    "            EC.presence_of_element_located((By.CLASS_NAME, \"lsnx\"))\n",
    "        )\n",
    "        html = driver.page_source\n",
    "        soup = bs4.BeautifulSoup(html, 'html.parser')\n",
    "        ultag = soup.find(\"ul\", \"lst_site\")\n",
    "        real_name = ultag.find(\"dt\").find(\"a\").text\n",
    "        addr = ultag.find(\"dd\", \"addr\").text\n",
    "        ltr_list.append([name, real_name, addr.split()[0], addr.split()[1]])\n",
    "    except:\n",
    "        print(name, end=\" / \")\n",
    "        ltr_list.append([name, None, None, None])\n",
    "        \n",
    "    finally:\n",
    "        pass\n",
    "print(\"Fin\")"
   ]
  },
  {
   "cell_type": "code",
   "execution_count": 88,
   "metadata": {},
   "outputs": [
    {
     "ename": "AttributeError",
     "evalue": "'NoneType' object has no attribute 'text'",
     "output_type": "error",
     "traceback": [
      "\u001b[1;31m---------------------------------------------------------------------------\u001b[0m",
      "\u001b[1;31mAttributeError\u001b[0m                            Traceback (most recent call last)",
      "\u001b[1;32m<ipython-input-88-8b82ae0f86b6>\u001b[0m in \u001b[0;36m<module>\u001b[1;34m\u001b[0m\n\u001b[0;32m     16\u001b[0m     \u001b[0msoup\u001b[0m \u001b[1;33m=\u001b[0m \u001b[0mbs4\u001b[0m\u001b[1;33m.\u001b[0m\u001b[0mBeautifulSoup\u001b[0m\u001b[1;33m(\u001b[0m\u001b[0mhtml\u001b[0m\u001b[1;33m,\u001b[0m \u001b[1;34m'html.parser'\u001b[0m\u001b[1;33m)\u001b[0m\u001b[1;33m\u001b[0m\u001b[1;33m\u001b[0m\u001b[0m\n\u001b[0;32m     17\u001b[0m     \u001b[0multag\u001b[0m \u001b[1;33m=\u001b[0m \u001b[0msoup\u001b[0m\u001b[1;33m.\u001b[0m\u001b[0mfind\u001b[0m\u001b[1;33m(\u001b[0m\u001b[1;34m\"ul\"\u001b[0m\u001b[1;33m,\u001b[0m \u001b[1;33m{\u001b[0m\u001b[1;34m\"id\"\u001b[0m\u001b[1;33m:\u001b[0m \u001b[1;34m\"info.search.place.list\"\u001b[0m\u001b[1;33m}\u001b[0m\u001b[1;33m)\u001b[0m\u001b[1;33m\u001b[0m\u001b[1;33m\u001b[0m\u001b[0m\n\u001b[1;32m---> 18\u001b[1;33m     \u001b[0mreal_name\u001b[0m \u001b[1;33m=\u001b[0m \u001b[0multag\u001b[0m\u001b[1;33m.\u001b[0m\u001b[0mfind\u001b[0m\u001b[1;33m(\u001b[0m\u001b[1;34m\"a\"\u001b[0m\u001b[1;33m,\u001b[0m \u001b[1;33m{\u001b[0m\u001b[1;34m\"data-id\"\u001b[0m\u001b[1;33m:\u001b[0m \u001b[1;34m\"name\"\u001b[0m\u001b[1;33m}\u001b[0m\u001b[1;33m)\u001b[0m\u001b[1;33m.\u001b[0m\u001b[0mtext\u001b[0m\u001b[1;33m\u001b[0m\u001b[1;33m\u001b[0m\u001b[0m\n\u001b[0m\u001b[0;32m     19\u001b[0m     \u001b[0maddr\u001b[0m \u001b[1;33m=\u001b[0m \u001b[0multag\u001b[0m\u001b[1;33m.\u001b[0m\u001b[0mfind\u001b[0m\u001b[1;33m(\u001b[0m\u001b[1;34m\"p\"\u001b[0m\u001b[1;33m,\u001b[0m \u001b[1;33m{\u001b[0m\u001b[1;34m\"data-id\"\u001b[0m\u001b[1;33m:\u001b[0m \u001b[1;34m\"address\"\u001b[0m\u001b[1;33m}\u001b[0m\u001b[1;33m)\u001b[0m\u001b[1;33m.\u001b[0m\u001b[0mtext\u001b[0m\u001b[1;33m\u001b[0m\u001b[1;33m\u001b[0m\u001b[0m\n\u001b[0;32m     20\u001b[0m     \u001b[0mltr_list\u001b[0m\u001b[1;33m.\u001b[0m\u001b[0mappend\u001b[0m\u001b[1;33m(\u001b[0m\u001b[1;33m[\u001b[0m\u001b[0mname\u001b[0m\u001b[1;33m,\u001b[0m \u001b[0mreal_name\u001b[0m\u001b[1;33m.\u001b[0m\u001b[0mreplace\u001b[0m\u001b[1;33m(\u001b[0m\u001b[1;34m\"롯데리아\"\u001b[0m\u001b[1;33m,\u001b[0m \u001b[1;34m\"\"\u001b[0m\u001b[1;33m)\u001b[0m\u001b[1;33m.\u001b[0m\u001b[0mlstrip\u001b[0m\u001b[1;33m(\u001b[0m\u001b[1;33m)\u001b[0m\u001b[1;33m,\u001b[0m \u001b[0maddr\u001b[0m\u001b[1;33m.\u001b[0m\u001b[0msplit\u001b[0m\u001b[1;33m(\u001b[0m\u001b[1;33m)\u001b[0m\u001b[1;33m[\u001b[0m\u001b[1;36m0\u001b[0m\u001b[1;33m]\u001b[0m\u001b[1;33m,\u001b[0m \u001b[0maddr\u001b[0m\u001b[1;33m.\u001b[0m\u001b[0msplit\u001b[0m\u001b[1;33m(\u001b[0m\u001b[1;33m)\u001b[0m\u001b[1;33m[\u001b[0m\u001b[1;36m1\u001b[0m\u001b[1;33m]\u001b[0m\u001b[1;33m]\u001b[0m\u001b[1;33m)\u001b[0m\u001b[1;33m\u001b[0m\u001b[1;33m\u001b[0m\u001b[0m\n",
      "\u001b[1;31mAttributeError\u001b[0m: 'NoneType' object has no attribute 'text'"
     ]
    }
   ],
   "source": [
    "# kakao map\n",
    "ltr_list = []\n",
    "count = 1\n",
    "for name in found:\n",
    "    if count%100 == 0:\n",
    "        print(count,\"번째\")\n",
    "    count += 1\n",
    "    \n",
    "    str = \"https://map.kakao.com/?q=롯데리아 \" + name + \"점\"\n",
    "    driver.get(str)\n",
    "    \n",
    "    element = WebDriverWait(driver, 5).until(\n",
    "        EC.presence_of_element_located((By.ID, \"info.search.place.list\"))\n",
    "    )\n",
    "    html = driver.page_source\n",
    "    soup = bs4.BeautifulSoup(html, 'html.parser')\n",
    "    ultag = soup.find(\"ul\", {\"id\": \"info.search.place.list\"})\n",
    "    real_name = ultag.find(\"a\", {\"data-id\": \"name\"}).text\n",
    "    addr = ultag.find(\"p\", {\"data-id\": \"address\"}).text\n",
    "    ltr_list.append([name, real_name.replace(\"롯데리아\", \"\").lstrip(), addr.split()[0], addr.split()[1]])\n",
    "    \n",
    "print(\"Fin\")"
   ]
  },
  {
   "cell_type": "code",
   "execution_count": 72,
   "metadata": {},
   "outputs": [
    {
     "data": {
      "text/plain": [
       "1341"
      ]
     },
     "execution_count": 72,
     "metadata": {},
     "output_type": "execute_result"
    }
   ],
   "source": [
    "len(ltr_list)"
   ]
  },
  {
   "cell_type": "code",
   "execution_count": 71,
   "metadata": {},
   "outputs": [],
   "source": [
    "ltr_tbl = pd.DataFrame(ltr_list, columns=('store', 'realname', 'd1', 'd2'))"
   ]
  },
  {
   "cell_type": "code",
   "execution_count": 27,
   "metadata": {},
   "outputs": [],
   "source": [
    "ltr_tbl.to_excel('lotteria.xlsx', sheet_name='sheet1')"
   ]
  },
  {
   "cell_type": "code",
   "execution_count": 75,
   "metadata": {},
   "outputs": [
    {
     "data": {
      "text/html": [
       "<div>\n",
       "<style scoped>\n",
       "    .dataframe tbody tr th:only-of-type {\n",
       "        vertical-align: middle;\n",
       "    }\n",
       "\n",
       "    .dataframe tbody tr th {\n",
       "        vertical-align: top;\n",
       "    }\n",
       "\n",
       "    .dataframe thead th {\n",
       "        text-align: right;\n",
       "    }\n",
       "</style>\n",
       "<table border=\"1\" class=\"dataframe\">\n",
       "  <thead>\n",
       "    <tr style=\"text-align: right;\">\n",
       "      <th></th>\n",
       "      <th>store</th>\n",
       "      <th>realname</th>\n",
       "      <th>d1</th>\n",
       "      <th>d2</th>\n",
       "    </tr>\n",
       "  </thead>\n",
       "  <tbody>\n",
       "  </tbody>\n",
       "</table>\n",
       "</div>"
      ],
      "text/plain": [
       "Empty DataFrame\n",
       "Columns: [store, realname, d1, d2]\n",
       "Index: []"
      ]
     },
     "execution_count": 75,
     "metadata": {},
     "output_type": "execute_result"
    }
   ],
   "source": [
    "ltr_tbl[ltr_tbl['d1'].isnull()]"
   ]
  },
  {
   "cell_type": "code",
   "execution_count": 74,
   "metadata": {},
   "outputs": [],
   "source": [
    "ltr_tbl.iloc[0] = [\"롯데마트영통\", None, \"경기도\", \"수원시\"]\n",
    "ltr_tbl.iloc[24] = [\"여수예술랜드\", None, \"전라북도\", \"여수시\"]\n",
    "ltr_tbl.iloc[37] = [\"대전세이\", None, \"대전광역시\", \"중구\"]\n",
    "ltr_tbl.iloc[62] = [\"인천공항제2여객터미널3층\", None, \"인천광역시\", \"중구\"]\n",
    "ltr_tbl.iloc[80] = [\"롯데마트김포한강신도시\", None, \"경기도\", \"김포시\"]\n",
    "ltr_tbl.iloc[82] = [\"경주보문\", None, \"경상북도\", \"경주시\"]\n",
    "ltr_tbl.iloc[94] = [\"롯데마트시흥배곧\", None, \"경기도\", \"시흥시\"]\n",
    "ltr_tbl.iloc[101] = [\"하나로고양\", None, \"경기도\", \"고양시\"]\n",
    "ltr_tbl.iloc[108] = [\"신부산역사\", None, \"부산광역시\", \"동구\"]\n",
    "ltr_tbl.iloc[116] = [\"잠실야구장1층\", None, \"서울특별시\", \"송파구\"]\n",
    "ltr_tbl.iloc[117] = [\"잠실야구장2층\", None, \"서울특별시\", \"송파구\"]\n",
    "ltr_tbl.iloc[118] = [\"잠실야구장3층\", None, \"서울특별시\", \"송파구\"]\n",
    "ltr_tbl.iloc[119] = [\"백령도\", None, \"인천광역시\", \"옹진군\"]\n",
    "ltr_tbl.iloc[123] = [\"롯데백창원식품관\", None, \"경상남도\", \"창원시\"]\n",
    "ltr_tbl.iloc[127] = [\"원주혁신도시\", None, \"강원도\", \"원주시\"]\n",
    "ltr_tbl.iloc[148] = [\"수서역사\", None, \"서울특별시\", \"강남구\"]\n",
    "ltr_tbl.iloc[155] = [\"안성휴게소\", None, \"경기도\", \"안성시\"]\n",
    "ltr_tbl.iloc[167] = [\"안성맞춤휴게소\", None, \"경기도\", \"안성시\"]\n",
    "ltr_tbl.iloc[168] = [\"안성맞춤휴게소\", None, \"경기도\", \"안성시\"]\n",
    "ltr_tbl.iloc[169] = [\"죽암휴게소DT\", None, \"충청북도\", \"청주시\"]\n",
    "ltr_tbl.iloc[177] = [\"전주하가DI\", None, \"전라북도\", \"전주시\"]\n",
    "ltr_tbl.iloc[181] = [\"오창2산단\", None, \"충청북도\", \"청주시\"]\n",
    "ltr_tbl.iloc[185] = [\"현풍테크노폴리스\", None, \"대구광역시\", \"달성군\"]\n",
    "ltr_tbl.iloc[194] = [\"부산키자니아\", None, \"부산광역시\", \"해운대구\"]\n",
    "ltr_tbl.iloc[236] = [\"용인휴게소\", None, \"경기도\", \"용인시\"]\n",
    "ltr_tbl.iloc[237] = [\"패션아일랜드대전\", None, \"대전광역시\", \"동구\"]\n",
    "ltr_tbl.iloc[263] = [\"롯데이천아울렛\", None, \"경기도\", \"이천시\"]\n",
    "ltr_tbl.iloc[385] = [\"동대구역사2호\", None, \"대구광역시\", \"동구\"]\n",
    "ltr_tbl.iloc[389] = [\"화성사강DT\", None, \"경기도\", \"화성시\"]\n",
    "ltr_tbl.iloc[415] = [\"인천허브DI\", None, \"인천광역시\", \"중구\"]\n",
    "ltr_tbl.iloc[418] = [\"순천향대학DT\", None, \"충청남도\", \"아산시\"]\n",
    "ltr_tbl.iloc[428] = [\"투나송내\", None, \"경기도\", \"부천시\"]\n",
    "ltr_tbl.iloc[458] = [\"원마운트워터파크\", None, \"경기도\", \"고양시\"]\n",
    "ltr_tbl.iloc[464] = [\"안산반월\", None, \"경기도\", \"안산시\"]\n",
    "ltr_tbl.iloc[465] = [\"롯데안양\", None, \"경기도\", \"안양시\"]\n",
    "ltr_tbl.iloc[467] = [\"송산휴게소\", None, \"경기도\", \"화성시\"]\n",
    "ltr_tbl.iloc[468] = [\"홈플러스포천송우\", None, \"경기도\", \"포천시\"]\n",
    "ltr_tbl.iloc[487] = [\"홈플러스동광주\", None, \"광주광역시\", \"북구\"]\n",
    "ltr_tbl.iloc[494] = [\"안양박달DI\", None, \"경기도\", \"안양시\"]\n",
    "ltr_tbl.iloc[502] = [\"롯데마트시흥\", None, \"경기도\", \"시흥시\"]\n",
    "ltr_tbl.iloc[508] = [\"서산휴게소(下)\", None, \"충청남도\", \"서산시\"]\n",
    "ltr_tbl.iloc[512] = [\"홈플러스유성\", None, \"대전광역시\", \"유성구\"]\n",
    "ltr_tbl.iloc[513] = [\"안양관양\", None, \"경기도\", \"안양시\"]\n",
    "ltr_tbl.iloc[516] = [\"빅마켓금천\", None, \"서울특별시\", \"금천구\"]\n",
    "ltr_tbl.iloc[604] = [\"목동행복한백화점\", None, \"서울특별시\", \"양천구\"]\n",
    "ltr_tbl.iloc[653] = [\"광명역사\", None, \"경기도\", \"광명시\"]\n",
    "ltr_tbl.iloc[663] = [\"용산역사ST\", None, \"서울특별시\", \"용산구\"]\n",
    "ltr_tbl.iloc[671] = [\"길음뉴타운점\", None, \"서울특별시\", \"성북구\"]\n",
    "ltr_tbl.iloc[746] = [\"성남단대\", None, \"경기도\", \"성남시\"]\n",
    "ltr_tbl.iloc[755] = [\"부천뉴코아\", None, \"경기도\", \"부천시\"]\n",
    "ltr_tbl.iloc[767] = [\"전주동산\", None, \"전라북도\", \"전주시\"]\n",
    "ltr_tbl.iloc[785] = [\"대전괴정DT\", None, \"대전광역시\", \"서구\"]\n",
    "ltr_tbl.iloc[816] = [\"해운대세이브존\", None, \"부산광역시\", \"해운대구\"]\n",
    "ltr_tbl.iloc[845] = [\"신당역\", None, \"서울특별시\", \"중구\"]\n",
    "ltr_tbl.iloc[893] = [\"경산롯데씨네마\", None, \"경상북도\", \"경산시\"]\n",
    "ltr_tbl.iloc[918] = [\"의정부가능역점\", None, \"경기도\", \"의정부시\"]\n",
    "ltr_tbl.iloc[936] = [\"동아쇼핑반월당\", None, \"대구광역시\", \"중구\"]\n",
    "ltr_tbl.iloc[980] = [\"의정보금오\", None, \"경기도\", \"의정부시\"]\n",
    "ltr_tbl.iloc[993] = [\"포항두호\", None, \"경상북도\", \"포항시\"]\n",
    "ltr_tbl.iloc[1143] = [\"홈플러스영통\", None, \"경기도\", \"수원시\"]\n",
    "ltr_tbl.iloc[1240] = [\"영천시장\", None, \"서울특별시\", \"서대문구\"]\n",
    "ltr_tbl.iloc[1267] = [\"성남양지\", None, \"경기도\", \"성남시\"]\n",
    "ltr_tbl.iloc[1328] = [\"잠실아이스링크\", None, \"서울특별시\", \"송파구\"]\n",
    "ltr_tbl.iloc[1329] = [\"서울랜드점\", None, \"경기도\", \"과천시\"]\n",
    "ltr_tbl.iloc[1338] = [\"홈서비스과천\", None, \"경기도\", \"과천시\"]\n",
    "ltr_tbl.iloc[1339] = [\"홈서비스부암(부산역)\", None, \"부산광역시\", \"부산진구\"]\n",
    "ltr_tbl.iloc[1340] = [\"홈서비스성황\", None, \"충청남도\", \"천안시\"]\n",
    "\n",
    "ltr_tbl.iloc[5] = [\"전북진안\", \"롯데리아 전북진안점\", \"전라북도\", \"진안군\"]"
   ]
  },
  {
   "cell_type": "code",
   "execution_count": 76,
   "metadata": {},
   "outputs": [
    {
     "data": {
      "text/plain": [
       "array(['경기도', '경상북도', '경상남도', '전라북도', '서울특별시', '부산광역시', '충청남도', '제주특별자치도',\n",
       "       '인천광역시', '울산광역시', '전라남도', '충청북도', '대전광역시', '강원도', '광주광역시', '대구광역시',\n",
       "       '세종특별자치시'], dtype=object)"
      ]
     },
     "execution_count": 76,
     "metadata": {},
     "output_type": "execute_result"
    }
   ],
   "source": [
    "ltr_tbl['d1'].unique()"
   ]
  },
  {
   "cell_type": "code",
   "execution_count": 66,
   "metadata": {},
   "outputs": [
    {
     "data": {
      "text/html": [
       "<div>\n",
       "<style scoped>\n",
       "    .dataframe tbody tr th:only-of-type {\n",
       "        vertical-align: middle;\n",
       "    }\n",
       "\n",
       "    .dataframe tbody tr th {\n",
       "        vertical-align: top;\n",
       "    }\n",
       "\n",
       "    .dataframe thead th {\n",
       "        text-align: right;\n",
       "    }\n",
       "</style>\n",
       "<table border=\"1\" class=\"dataframe\">\n",
       "  <thead>\n",
       "    <tr style=\"text-align: right;\">\n",
       "      <th></th>\n",
       "      <th>store</th>\n",
       "      <th>realname</th>\n",
       "      <th>d1</th>\n",
       "      <th>d2</th>\n",
       "    </tr>\n",
       "  </thead>\n",
       "  <tbody>\n",
       "    <tr>\n",
       "      <th>189</th>\n",
       "      <td>세종종촌</td>\n",
       "      <td>롯데리아 세종종촌점</td>\n",
       "      <td>세종특별자치시</td>\n",
       "      <td>종촌동</td>\n",
       "    </tr>\n",
       "    <tr>\n",
       "      <th>217</th>\n",
       "      <td>세종부강</td>\n",
       "      <td>롯데리아 세종부강점</td>\n",
       "      <td>세종특별자치시</td>\n",
       "      <td>부강면</td>\n",
       "    </tr>\n",
       "    <tr>\n",
       "      <th>284</th>\n",
       "      <td>세종첫마을</td>\n",
       "      <td>롯데리아 세종첫마을점</td>\n",
       "      <td>세종특별자치시</td>\n",
       "      <td>나성동</td>\n",
       "    </tr>\n",
       "    <tr>\n",
       "      <th>287</th>\n",
       "      <td>홈플러스세종</td>\n",
       "      <td>롯데리아 홈플러스세종점</td>\n",
       "      <td>세종특별자치시</td>\n",
       "      <td>절재로</td>\n",
       "    </tr>\n",
       "    <tr>\n",
       "      <th>824</th>\n",
       "      <td>홈플러스조치원</td>\n",
       "      <td>롯데리아 홈플러스조치원점</td>\n",
       "      <td>세종특별자치시</td>\n",
       "      <td>조치원읍</td>\n",
       "    </tr>\n",
       "    <tr>\n",
       "      <th>881</th>\n",
       "      <td>조치원</td>\n",
       "      <td>롯데리아 조치원점</td>\n",
       "      <td>세종특별자치시</td>\n",
       "      <td>조치원읍</td>\n",
       "    </tr>\n",
       "  </tbody>\n",
       "</table>\n",
       "</div>"
      ],
      "text/plain": [
       "       store       realname       d1    d2\n",
       "189     세종종촌     롯데리아 세종종촌점  세종특별자치시   종촌동\n",
       "217     세종부강     롯데리아 세종부강점  세종특별자치시   부강면\n",
       "284    세종첫마을    롯데리아 세종첫마을점  세종특별자치시   나성동\n",
       "287   홈플러스세종   롯데리아 홈플러스세종점  세종특별자치시   절재로\n",
       "824  홈플러스조치원  롯데리아 홈플러스조치원점  세종특별자치시  조치원읍\n",
       "881      조치원      롯데리아 조치원점  세종특별자치시  조치원읍"
      ]
     },
     "execution_count": 66,
     "metadata": {},
     "output_type": "execute_result"
    }
   ],
   "source": [
    "ltr_tbl[ltr_tbl['d1']==\"세종특별자치시\"]"
   ]
  },
  {
   "cell_type": "code",
   "execution_count": 67,
   "metadata": {},
   "outputs": [],
   "source": [
    "ltr_tbl.iloc[189] = [\"세종종촌\", \"롯데리아 세종종촌점\", \"충청북도\", \"세종시\"]\n",
    "ltr_tbl.iloc[217] = [\"세종부강\", \"롯데리아 세종부강점\", \"충청북도\", \"세종시\"]\n",
    "ltr_tbl.iloc[284] = [\"세종첫마을\", \"롯데리아 세종첫마을점\", \"충청북도\", \"세종시\"]\n",
    "ltr_tbl.iloc[287] = [\"홈플러스세종\", \"롯데리아 홈플러스세종점\", \"충청북도\", \"세종시\"]\n",
    "ltr_tbl.iloc[824] = [\"홈플러스조치원\", \"롯데리아 홈플러스조치원점\", \"충청북도\", \"세종시\"]\n",
    "ltr_tbl.iloc[881] = [\"조치원\", \"롯데리아 조치원점\", \"충청북도\", \"세종시\"]"
   ]
  },
  {
   "cell_type": "code",
   "execution_count": 69,
   "metadata": {},
   "outputs": [
    {
     "data": {
      "text/plain": [
       "array(['수원시', '구미시', '하남시', '창원시', '진안군', '화성시', '안성시', '경산시', '노원구',\n",
       "       '가평군', '사하구', '양평군', '서산시', '서귀포시', '파주시', '사상구', '밀양시', '미추홀구',\n",
       "       '광주시', '여수시', '용인시', '남구', '성동구', '강서구', '금정구', '서구', '순천시', '동래구',\n",
       "       '충주시', '중구', '서초구', '안동시', '의성군', '남양주시', '곡성군', '해운대구', '강남구',\n",
       "       '군포시', '제주시', '부산진구', '영주시', '음성군', '원주시', '서대문구', '평택시', '청주시',\n",
       "       '춘천시', '금천구', '수영구', '송파구', '구리시', '당진시', '포항시', '동작구', '시흥시',\n",
       "       '동대문구', '고양시', '장수군', '양천구', '김포시', '경주시', '보성군', '울릉군', '속초시',\n",
       "       '의정부시', '인제군', '양주시', '울주군', '광산구', '북구', '영등포구', '동구', '천안시',\n",
       "       '유성구', '익산시', '옹진군', '전주시', '아산시', '진주시', '이천시', '오산시', '안산시',\n",
       "       '안양시', '양산시', '중랑구', '은평구', '달성군', '정읍시', '의왕시', '고성군', '세종시',\n",
       "       '함평군', '성남시', '김천시', '홍성군', '보령시', '무주군', '용산구', '남동구', '연수구',\n",
       "       '구례군', '거제시', '강북구', '구로구', '관악구', '강릉시', '여주시', '기장군', '나주시',\n",
       "       '장성군', '수성구', '봉화군', '광명시', '하동군', '성북구', '고령군', '연제구', '고흥군',\n",
       "       '마포구', '순창군', '부천시', '김해시', '달서구', '논산시', '임실군', '창녕군', '광진구',\n",
       "       '강동구', '영천시', '완주군', '담양군', '함안군', '부안군', '성주군', '평창군', '화천군',\n",
       "       '문경시', '강진군', '부여군', '장흥군', '군산시', '대덕구', '도봉구', '포천시', '계양구',\n",
       "       '동두천시', '부평구', '목포시', '남원시', '정선군', '종로구', '동해시', '무안군', '철원군',\n",
       "       '괴산군', '영광군', '청양군', '광양시', '진천군', '완도군', '제천시', '단양군', '함양군',\n",
       "       '영암군', '통영시', '화순군', '태백시', '영덕군', '칠곡군', '고창군', '서천군', '영월군',\n",
       "       '청도군', '횡성군', '예천군', '옥천군', '양구군', '합천군', '과천시', '사천시', '강화군',\n",
       "       '울진군', '삼척시', '공주시', '해남군', '계룡시', '연천군', '남해군', '금산군', '홍천군',\n",
       "       '영동군', '증평군', '영도구', '김제시', '거창군', '예산군', '보은군', '상주시'],\n",
       "      dtype=object)"
      ]
     },
     "execution_count": 69,
     "metadata": {},
     "output_type": "execute_result"
    }
   ],
   "source": [
    "ltr_tbl['d2'].unique()"
   ]
  },
  {
   "cell_type": "code",
   "execution_count": 77,
   "metadata": {},
   "outputs": [
    {
     "data": {
      "text/plain": [
       "경상남도 창원시    34\n",
       "경기도 수원시     30\n",
       "충청북도 청주시    29\n",
       "경기도 고양시     26\n",
       "경기도 용인시     25\n",
       "dtype: int64"
      ]
     },
     "execution_count": 77,
     "metadata": {},
     "output_type": "execute_result"
    }
   ],
   "source": [
    "L = ltr_tbl.apply(lambda r: r['d1'] + ' ' + r['d2'], axis=1).value_counts()\n",
    "L.head()"
   ]
  },
  {
   "cell_type": "code",
   "execution_count": 86,
   "metadata": {},
   "outputs": [],
   "source": [
    "def moms_search_stores_in_dist(num):\n",
    "    store_list = []\n",
    "    MT_DISTSEARCH_URL = 'http://www.momstouch.co.kr/sub/store/store_01_list.html?pg={code}'\n",
    "    response = urllib.request.urlopen(MT_DISTSEARCH_URL.format(code=num))\n",
    "    mt_data = response.read()\n",
    "    soup = bs4.BeautifulSoup(mt_data)\n",
    "    table = soup.find(\"table\", {\"class\": \"store_List\"})\n",
    "    trs = table.findAll(\"tr\")[1:]\n",
    "    \n",
    "    for tr in trs:\n",
    "        store_name = tr.findAll(\"td\")[1].text\n",
    "        store_add = tr.find(\"td\", {\"class\": \"td_Left\"}).text\n",
    "        store_list.append([store_name, store_add.split()[0], store_add.split()[1]])\n",
    "        \n",
    "    return store_list"
   ]
  },
  {
   "cell_type": "code",
   "execution_count": 87,
   "metadata": {},
   "outputs": [
    {
     "name": "stdout",
     "output_type": "stream",
     "text": [
      "1188\n"
     ]
    }
   ],
   "source": [
    "moms_list = []\n",
    "tmp_list = []\n",
    "for i in range(1, 120): \n",
    "    tmp_list = moms_search_stores_in_dist(i)\n",
    "    moms_list += tmp_list\n",
    "        \n",
    "print(len(moms_list))"
   ]
  },
  {
   "cell_type": "code",
   "execution_count": 89,
   "metadata": {},
   "outputs": [],
   "source": [
    "moms_tbl = pd.DataFrame(moms_list, columns=('store', 'd1', 'd2'))"
   ]
  },
  {
   "cell_type": "code",
   "execution_count": 92,
   "metadata": {},
   "outputs": [
    {
     "data": {
      "text/plain": [
       "array(['서울시', '전주시덕진구', '경기도', '충청남도', '제주', '충남', '서울', '경상남도', '서울특별시',\n",
       "       '세종특별자치시', '충북', '부산시', '대구광역시', '경북', '울산광역시', '전라북도', '부산광역시',\n",
       "       '선릉로64길', '제주특별자치도', '대전광역시', '경상북도', '전북', '경남', '경기', '인천',\n",
       "       '충청북도', '광주광역시', '강원도', '전라남도', '광주', '강원', '대구시', '대구', '울산',\n",
       "       '부산', '대전시', '전남', '대전', '울산시', '고양시', '경기도안산시', '세종시', '세종특별시',\n",
       "       '제주시', '부산해운대구해운대로', '인천광역시', '세종'], dtype=object)"
      ]
     },
     "execution_count": 92,
     "metadata": {},
     "output_type": "execute_result"
    }
   ],
   "source": [
    "moms_tbl['d1'].unique()"
   ]
  },
  {
   "cell_type": "code",
   "execution_count": 95,
   "metadata": {},
   "outputs": [
    {
     "data": {
      "text/html": [
       "<div>\n",
       "<style scoped>\n",
       "    .dataframe tbody tr th:only-of-type {\n",
       "        vertical-align: middle;\n",
       "    }\n",
       "\n",
       "    .dataframe tbody tr th {\n",
       "        vertical-align: top;\n",
       "    }\n",
       "\n",
       "    .dataframe thead th {\n",
       "        text-align: right;\n",
       "    }\n",
       "</style>\n",
       "<table border=\"1\" class=\"dataframe\">\n",
       "  <thead>\n",
       "    <tr style=\"text-align: right;\">\n",
       "      <th></th>\n",
       "      <th>store</th>\n",
       "      <th>d1</th>\n",
       "      <th>d2</th>\n",
       "    </tr>\n",
       "  </thead>\n",
       "  <tbody>\n",
       "  </tbody>\n",
       "</table>\n",
       "</div>"
      ],
      "text/plain": [
       "Empty DataFrame\n",
       "Columns: [store, d1, d2]\n",
       "Index: []"
      ]
     },
     "execution_count": 95,
     "metadata": {},
     "output_type": "execute_result"
    }
   ],
   "source": [
    "moms_tbl[moms_tbl['d1']==\"전주시덕진구\"]"
   ]
  },
  {
   "cell_type": "code",
   "execution_count": 94,
   "metadata": {},
   "outputs": [],
   "source": [
    "moms_tbl.iloc[1] = [\"전주에코시티점\", \"전라북도\", \"전주시\"]"
   ]
  },
  {
   "cell_type": "code",
   "execution_count": 96,
   "metadata": {},
   "outputs": [
    {
     "data": {
      "text/html": [
       "<div>\n",
       "<style scoped>\n",
       "    .dataframe tbody tr th:only-of-type {\n",
       "        vertical-align: middle;\n",
       "    }\n",
       "\n",
       "    .dataframe tbody tr th {\n",
       "        vertical-align: top;\n",
       "    }\n",
       "\n",
       "    .dataframe thead th {\n",
       "        text-align: right;\n",
       "    }\n",
       "</style>\n",
       "<table border=\"1\" class=\"dataframe\">\n",
       "  <thead>\n",
       "    <tr style=\"text-align: right;\">\n",
       "      <th></th>\n",
       "      <th>store</th>\n",
       "      <th>d1</th>\n",
       "      <th>d2</th>\n",
       "    </tr>\n",
       "  </thead>\n",
       "  <tbody>\n",
       "    <tr>\n",
       "      <th>30</th>\n",
       "      <td>한티역점</td>\n",
       "      <td>선릉로64길</td>\n",
       "      <td>11-2,</td>\n",
       "    </tr>\n",
       "  </tbody>\n",
       "</table>\n",
       "</div>"
      ],
      "text/plain": [
       "   store      d1     d2\n",
       "30  한티역점  선릉로64길  11-2,"
      ]
     },
     "execution_count": 96,
     "metadata": {},
     "output_type": "execute_result"
    }
   ],
   "source": [
    "moms_tbl[moms_tbl['d1']==\"선릉로64길\"]"
   ]
  },
  {
   "cell_type": "code",
   "execution_count": 100,
   "metadata": {},
   "outputs": [],
   "source": [
    "moms_tbl.iloc[30] = [\"한티역점\", \"서울특별시\", \"강남구\"]"
   ]
  },
  {
   "cell_type": "code",
   "execution_count": 98,
   "metadata": {},
   "outputs": [
    {
     "data": {
      "text/html": [
       "<div>\n",
       "<style scoped>\n",
       "    .dataframe tbody tr th:only-of-type {\n",
       "        vertical-align: middle;\n",
       "    }\n",
       "\n",
       "    .dataframe tbody tr th {\n",
       "        vertical-align: top;\n",
       "    }\n",
       "\n",
       "    .dataframe thead th {\n",
       "        text-align: right;\n",
       "    }\n",
       "</style>\n",
       "<table border=\"1\" class=\"dataframe\">\n",
       "  <thead>\n",
       "    <tr style=\"text-align: right;\">\n",
       "      <th></th>\n",
       "      <th>store</th>\n",
       "      <th>d1</th>\n",
       "      <th>d2</th>\n",
       "    </tr>\n",
       "  </thead>\n",
       "  <tbody>\n",
       "    <tr>\n",
       "      <th>249</th>\n",
       "      <td>안산한대역점</td>\n",
       "      <td>경기도안산시</td>\n",
       "      <td>상록구</td>\n",
       "    </tr>\n",
       "  </tbody>\n",
       "</table>\n",
       "</div>"
      ],
      "text/plain": [
       "      store      d1   d2\n",
       "249  안산한대역점  경기도안산시  상록구"
      ]
     },
     "execution_count": 98,
     "metadata": {},
     "output_type": "execute_result"
    }
   ],
   "source": [
    "moms_tbl[moms_tbl['d1']==\"경기도안산시\"]"
   ]
  },
  {
   "cell_type": "code",
   "execution_count": 101,
   "metadata": {},
   "outputs": [],
   "source": [
    "moms_tbl.iloc[249] = [\"안산한대역점\", \"경기도\", \"안산시\"]"
   ]
  },
  {
   "cell_type": "code",
   "execution_count": 102,
   "metadata": {},
   "outputs": [
    {
     "data": {
      "text/html": [
       "<div>\n",
       "<style scoped>\n",
       "    .dataframe tbody tr th:only-of-type {\n",
       "        vertical-align: middle;\n",
       "    }\n",
       "\n",
       "    .dataframe tbody tr th {\n",
       "        vertical-align: top;\n",
       "    }\n",
       "\n",
       "    .dataframe thead th {\n",
       "        text-align: right;\n",
       "    }\n",
       "</style>\n",
       "<table border=\"1\" class=\"dataframe\">\n",
       "  <thead>\n",
       "    <tr style=\"text-align: right;\">\n",
       "      <th></th>\n",
       "      <th>store</th>\n",
       "      <th>d1</th>\n",
       "      <th>d2</th>\n",
       "    </tr>\n",
       "  </thead>\n",
       "  <tbody>\n",
       "    <tr>\n",
       "      <th>824</th>\n",
       "      <td>장산역점</td>\n",
       "      <td>부산해운대구해운대로</td>\n",
       "      <td>814</td>\n",
       "    </tr>\n",
       "  </tbody>\n",
       "</table>\n",
       "</div>"
      ],
      "text/plain": [
       "    store          d1   d2\n",
       "824  장산역점  부산해운대구해운대로  814"
      ]
     },
     "execution_count": 102,
     "metadata": {},
     "output_type": "execute_result"
    }
   ],
   "source": [
    "moms_tbl[moms_tbl['d1']==\"부산해운대구해운대로\"]"
   ]
  },
  {
   "cell_type": "code",
   "execution_count": 103,
   "metadata": {},
   "outputs": [],
   "source": [
    "moms_tbl.iloc[824] = [\"장산역점\", \"부산광역시\", \"해운대구\"]"
   ]
  },
  {
   "cell_type": "code",
   "execution_count": 110,
   "metadata": {},
   "outputs": [
    {
     "data": {
      "text/html": [
       "<div>\n",
       "<style scoped>\n",
       "    .dataframe tbody tr th:only-of-type {\n",
       "        vertical-align: middle;\n",
       "    }\n",
       "\n",
       "    .dataframe tbody tr th {\n",
       "        vertical-align: top;\n",
       "    }\n",
       "\n",
       "    .dataframe thead th {\n",
       "        text-align: right;\n",
       "    }\n",
       "</style>\n",
       "<table border=\"1\" class=\"dataframe\">\n",
       "  <thead>\n",
       "    <tr style=\"text-align: right;\">\n",
       "      <th></th>\n",
       "      <th>store</th>\n",
       "      <th>d1</th>\n",
       "      <th>d2</th>\n",
       "    </tr>\n",
       "  </thead>\n",
       "  <tbody>\n",
       "    <tr>\n",
       "      <th>220</th>\n",
       "      <td>고양능곡점</td>\n",
       "      <td>고양시</td>\n",
       "      <td>덕양구</td>\n",
       "    </tr>\n",
       "  </tbody>\n",
       "</table>\n",
       "</div>"
      ],
      "text/plain": [
       "     store   d1   d2\n",
       "220  고양능곡점  고양시  덕양구"
      ]
     },
     "execution_count": 110,
     "metadata": {},
     "output_type": "execute_result"
    }
   ],
   "source": [
    "moms_tbl[moms_tbl['d1']==\"고양시\"]"
   ]
  },
  {
   "cell_type": "code",
   "execution_count": 111,
   "metadata": {},
   "outputs": [],
   "source": [
    "moms_tbl.iloc[220] = [\"고양능곡점\", \"경기도\", \"고양시\"]"
   ]
  },
  {
   "cell_type": "code",
   "execution_count": 116,
   "metadata": {},
   "outputs": [
    {
     "data": {
      "text/html": [
       "<div>\n",
       "<style scoped>\n",
       "    .dataframe tbody tr th:only-of-type {\n",
       "        vertical-align: middle;\n",
       "    }\n",
       "\n",
       "    .dataframe tbody tr th {\n",
       "        vertical-align: top;\n",
       "    }\n",
       "\n",
       "    .dataframe thead th {\n",
       "        text-align: right;\n",
       "    }\n",
       "</style>\n",
       "<table border=\"1\" class=\"dataframe\">\n",
       "  <thead>\n",
       "    <tr style=\"text-align: right;\">\n",
       "      <th></th>\n",
       "      <th>store</th>\n",
       "      <th>d1</th>\n",
       "      <th>d2</th>\n",
       "    </tr>\n",
       "  </thead>\n",
       "  <tbody>\n",
       "    <tr>\n",
       "      <th>783</th>\n",
       "      <td>한라대점</td>\n",
       "      <td>제주시</td>\n",
       "      <td>한라대학로</td>\n",
       "    </tr>\n",
       "    <tr>\n",
       "      <th>849</th>\n",
       "      <td>함덕점</td>\n",
       "      <td>제주시</td>\n",
       "      <td>조천읍</td>\n",
       "    </tr>\n",
       "    <tr>\n",
       "      <th>896</th>\n",
       "      <td>이도점</td>\n",
       "      <td>제주시</td>\n",
       "      <td>이도2동</td>\n",
       "    </tr>\n",
       "    <tr>\n",
       "      <th>898</th>\n",
       "      <td>연삼로점</td>\n",
       "      <td>제주시</td>\n",
       "      <td>연삼로</td>\n",
       "    </tr>\n",
       "  </tbody>\n",
       "</table>\n",
       "</div>"
      ],
      "text/plain": [
       "    store   d1     d2\n",
       "783  한라대점  제주시  한라대학로\n",
       "849   함덕점  제주시    조천읍\n",
       "896   이도점  제주시   이도2동\n",
       "898  연삼로점  제주시    연삼로"
      ]
     },
     "execution_count": 116,
     "metadata": {},
     "output_type": "execute_result"
    }
   ],
   "source": [
    "moms_tbl[moms_tbl['d1']==\"제주시\"]"
   ]
  },
  {
   "cell_type": "code",
   "execution_count": 117,
   "metadata": {},
   "outputs": [],
   "source": [
    "moms_tbl.iloc[783] = [\"한라대점\", \"제주특별자치도\", \"제주시\"]\n",
    "moms_tbl.iloc[849] = [\"함덕점\", \"제주특별자치도\", \"제주시\"]\n",
    "moms_tbl.iloc[896] = [\"이도점\", \"제주특별자치도\", \"제주시\"]\n",
    "moms_tbl.iloc[898] = [\"연삼로점\", \"제주특별자치도\", \"제주시\"]"
   ]
  },
  {
   "cell_type": "code",
   "execution_count": 120,
   "metadata": {},
   "outputs": [
    {
     "data": {
      "text/plain": [
       "array(['서울특별시', '전라북도', '경기도', '충청남도', '제주특별자치도', '경상남도', '세종특별자치시',\n",
       "       '충청북도', '부산광역시', '대구광역시', '경상북도', '울산광역시', '대전광역시', '인천광역시',\n",
       "       '광주광역시', '강원도', '전라남도'], dtype=object)"
      ]
     },
     "execution_count": 120,
     "metadata": {},
     "output_type": "execute_result"
    }
   ],
   "source": [
    "moms_tbl['d1'].unique()"
   ]
  },
  {
   "cell_type": "code",
   "execution_count": 119,
   "metadata": {},
   "outputs": [],
   "source": [
    "d1_aliases = \"\"\"서울:서울특별시 서울시:서울특별시 충남:충청남도 강원:강원도 경기:경기도 충북:충청북도 경남:경상남도 경북:경상북도\n",
    "전남:전라남도 전북:전라북도 제주도:제주특별자치도 제주:제주특별자치도 대전:대전광역시 대전시:대전광역시 대구:대구광역시 대구시:대구광역시 인천:인천광역시\n",
    "광주:광주광역시 광주시:광주광역시 울산:울산광역시 울산시:울산광역시 부산시:부산광역시 부산:부산광역시 인천시:인천광역시 세종:세종특별자치시 세종시:세종특별자치시 세종특별시:세종특별자치시\"\"\"\n",
    "d1_aliases = dict(aliasset.split(':') for aliasset in d1_aliases.split())\n",
    "moms_tbl['d1'] = moms_tbl['d1'].apply(lambda v: d1_aliases.get(v, v))"
   ]
  },
  {
   "cell_type": "code",
   "execution_count": 121,
   "metadata": {},
   "outputs": [
    {
     "data": {
      "text/html": [
       "<div>\n",
       "<style scoped>\n",
       "    .dataframe tbody tr th:only-of-type {\n",
       "        vertical-align: middle;\n",
       "    }\n",
       "\n",
       "    .dataframe tbody tr th {\n",
       "        vertical-align: top;\n",
       "    }\n",
       "\n",
       "    .dataframe thead th {\n",
       "        text-align: right;\n",
       "    }\n",
       "</style>\n",
       "<table border=\"1\" class=\"dataframe\">\n",
       "  <thead>\n",
       "    <tr style=\"text-align: right;\">\n",
       "      <th></th>\n",
       "      <th>store</th>\n",
       "      <th>d1</th>\n",
       "      <th>d2</th>\n",
       "    </tr>\n",
       "  </thead>\n",
       "  <tbody>\n",
       "    <tr>\n",
       "      <th>18</th>\n",
       "      <td>세종도담점</td>\n",
       "      <td>세종특별자치시</td>\n",
       "      <td>도담동</td>\n",
       "    </tr>\n",
       "    <tr>\n",
       "      <th>72</th>\n",
       "      <td>세종대평점</td>\n",
       "      <td>세종특별자치시</td>\n",
       "      <td>시청대로</td>\n",
       "    </tr>\n",
       "    <tr>\n",
       "      <th>112</th>\n",
       "      <td>세종국책연구소점</td>\n",
       "      <td>세종특별자치시</td>\n",
       "      <td>시청대로</td>\n",
       "    </tr>\n",
       "    <tr>\n",
       "      <th>152</th>\n",
       "      <td>세종새롬점</td>\n",
       "      <td>세종특별자치시</td>\n",
       "      <td>새롬중앙로</td>\n",
       "    </tr>\n",
       "    <tr>\n",
       "      <th>259</th>\n",
       "      <td>세종아름점</td>\n",
       "      <td>세종특별자치시</td>\n",
       "      <td>보듬3로</td>\n",
       "    </tr>\n",
       "    <tr>\n",
       "      <th>280</th>\n",
       "      <td>세종보람점</td>\n",
       "      <td>세종특별자치시</td>\n",
       "      <td>남세종로</td>\n",
       "    </tr>\n",
       "    <tr>\n",
       "      <th>383</th>\n",
       "      <td>세종고운점</td>\n",
       "      <td>세종특별자치시</td>\n",
       "      <td>마음로</td>\n",
       "    </tr>\n",
       "    <tr>\n",
       "      <th>432</th>\n",
       "      <td>세종어진점</td>\n",
       "      <td>세종특별자치시</td>\n",
       "      <td>절재로</td>\n",
       "    </tr>\n",
       "    <tr>\n",
       "      <th>456</th>\n",
       "      <td>세종cgv점</td>\n",
       "      <td>세종특별자치시</td>\n",
       "      <td>도움1로</td>\n",
       "    </tr>\n",
       "    <tr>\n",
       "      <th>558</th>\n",
       "      <td>조치원역점</td>\n",
       "      <td>세종특별자치시</td>\n",
       "      <td>조치원읍</td>\n",
       "    </tr>\n",
       "    <tr>\n",
       "      <th>712</th>\n",
       "      <td>한국영상대점</td>\n",
       "      <td>세종특별자치시</td>\n",
       "      <td>장군면</td>\n",
       "    </tr>\n",
       "    <tr>\n",
       "      <th>900</th>\n",
       "      <td>홍익대세종캠퍼스점</td>\n",
       "      <td>세종특별자치시</td>\n",
       "      <td>조치원읍</td>\n",
       "    </tr>\n",
       "    <tr>\n",
       "      <th>925</th>\n",
       "      <td>고려대세종캠퍼스점</td>\n",
       "      <td>세종특별자치시</td>\n",
       "      <td>조치원읍</td>\n",
       "    </tr>\n",
       "    <tr>\n",
       "      <th>1046</th>\n",
       "      <td>신세종첫마을점</td>\n",
       "      <td>세종특별자치시</td>\n",
       "      <td>누리로</td>\n",
       "    </tr>\n",
       "    <tr>\n",
       "      <th>1049</th>\n",
       "      <td>세종부강점</td>\n",
       "      <td>세종특별자치시</td>\n",
       "      <td>부강면</td>\n",
       "    </tr>\n",
       "  </tbody>\n",
       "</table>\n",
       "</div>"
      ],
      "text/plain": [
       "          store       d1     d2\n",
       "18        세종도담점  세종특별자치시    도담동\n",
       "72        세종대평점  세종특별자치시   시청대로\n",
       "112    세종국책연구소점  세종특별자치시   시청대로\n",
       "152       세종새롬점  세종특별자치시  새롬중앙로\n",
       "259       세종아름점  세종특별자치시   보듬3로\n",
       "280       세종보람점  세종특별자치시   남세종로\n",
       "383       세종고운점  세종특별자치시    마음로\n",
       "432       세종어진점  세종특별자치시    절재로\n",
       "456      세종cgv점  세종특별자치시   도움1로\n",
       "558       조치원역점  세종특별자치시   조치원읍\n",
       "712      한국영상대점  세종특별자치시    장군면\n",
       "900   홍익대세종캠퍼스점  세종특별자치시   조치원읍\n",
       "925   고려대세종캠퍼스점  세종특별자치시   조치원읍\n",
       "1046    신세종첫마을점  세종특별자치시    누리로\n",
       "1049      세종부강점  세종특별자치시    부강면"
      ]
     },
     "execution_count": 121,
     "metadata": {},
     "output_type": "execute_result"
    }
   ],
   "source": [
    "moms_tbl[moms_tbl['d1']==\"세종특별자치시\"]"
   ]
  },
  {
   "cell_type": "code",
   "execution_count": 368,
   "metadata": {},
   "outputs": [],
   "source": [
    "moms_tbl.iloc[18] = [\"세종도담점\", \"세종특별자치시\", \"세종특별자치시\"]\n",
    "moms_tbl.iloc[72] = [\"세종대평점\", \"세종특별자치시\", \"세종특별자치시\"]\n",
    "moms_tbl.iloc[112] = [\"세종국책연구소점\", \"세종특별자치시\", \"세종특별자치시\"]\n",
    "moms_tbl.iloc[152] = [\"세종새롬점\", \"세종특별자치시\", \"세종특별자치시\"]\n",
    "moms_tbl.iloc[259] = [\"세종아름점\", \"세종특별자치시\", \"세종특별자치시\"]\n",
    "moms_tbl.iloc[280] = [\"세종보람점\", \"세종특별자치시\", \"세종특별자치시\"]\n",
    "moms_tbl.iloc[383] = [\"세종고운점\", \"세종특별자치시\", \"세종특별자치시\"]\n",
    "moms_tbl.iloc[432] = [\"세종어진점\", \"세종특별자치시\", \"세종특별자치시\"]\n",
    "moms_tbl.iloc[456] = [\"세종cgv점\", \"세종특별자치시\", \"세종특별자치시\"]\n",
    "moms_tbl.iloc[558] = [\"조치원역점\", \"세종특별자치시\", \"세종특별자치시\"]\n",
    "moms_tbl.iloc[712] = [\"한국영상대점\", \"세종특별자치시\", \"세종특별자치시\"]\n",
    "moms_tbl.iloc[900] = [\"홍익대세종캠퍼스점\", \"세종특별자치시\", \"세종특별자치시\"]\n",
    "moms_tbl.iloc[925] = [\"고려대세종캠퍼스점\", \"세종특별자치시\", \"세종특별자치시\"]\n",
    "moms_tbl.iloc[1046] = [\"신세종첫마을점\", \"세종특별자치시\", \"세종특별자치시\"]\n",
    "moms_tbl.iloc[1049] = [\"세종부강점\", \"세종특별자치시\", \"세종특별자치시\"]"
   ]
  },
  {
   "cell_type": "code",
   "execution_count": 369,
   "metadata": {},
   "outputs": [
    {
     "data": {
      "text/plain": [
       "경상남도 창원시    29\n",
       "충청남도 천안시    29\n",
       "충청북도 청주시    27\n",
       "경기도 고양시     26\n",
       "경기도 수원시     22\n",
       "dtype: int64"
      ]
     },
     "execution_count": 369,
     "metadata": {},
     "output_type": "execute_result"
    }
   ],
   "source": [
    "MS = moms_tbl.apply(lambda r: r['d1'] + ' ' + r['d2'], axis=1).value_counts()\n",
    "MS.head()"
   ]
  },
  {
   "cell_type": "code",
   "execution_count": null,
   "metadata": {},
   "outputs": [],
   "source": [
    "# 크롤링 데이터 저장\n",
    "B.to_excel('./export/res_burgerking.xlsx', sheet_name='sheet1')\n",
    "M.to_excel('./export/res_mcdonalds.xlsx', sheet_name='sheet1')\n",
    "K.to_excel('./export/res_kfc.xlsx', sheet_name='sheet1')\n",
    "L.to_excel('./export/res_lotteria.xlsx', sheet_name='sheet1')\n",
    "MS.to_excel('./export/res_momstouch.xlsx', sheet_name='sheet1')"
   ]
  },
  {
   "cell_type": "code",
   "execution_count": 3,
   "metadata": {},
   "outputs": [
    {
     "data": {
      "text/html": [
       "<div>\n",
       "<style scoped>\n",
       "    .dataframe tbody tr th:only-of-type {\n",
       "        vertical-align: middle;\n",
       "    }\n",
       "\n",
       "    .dataframe tbody tr th {\n",
       "        vertical-align: top;\n",
       "    }\n",
       "\n",
       "    .dataframe thead th {\n",
       "        text-align: right;\n",
       "    }\n",
       "</style>\n",
       "<table border=\"1\" class=\"dataframe\">\n",
       "  <thead>\n",
       "    <tr style=\"text-align: right;\">\n",
       "      <th></th>\n",
       "      <th>0</th>\n",
       "    </tr>\n",
       "  </thead>\n",
       "  <tbody>\n",
       "    <tr>\n",
       "      <th>경기도 수원시</th>\n",
       "      <td>13</td>\n",
       "    </tr>\n",
       "    <tr>\n",
       "      <th>서울특별시 강남구</th>\n",
       "      <td>13</td>\n",
       "    </tr>\n",
       "    <tr>\n",
       "      <th>경기도 성남시</th>\n",
       "      <td>8</td>\n",
       "    </tr>\n",
       "    <tr>\n",
       "      <th>서울특별시 중구</th>\n",
       "      <td>8</td>\n",
       "    </tr>\n",
       "    <tr>\n",
       "      <th>경기도 고양시</th>\n",
       "      <td>7</td>\n",
       "    </tr>\n",
       "  </tbody>\n",
       "</table>\n",
       "</div>"
      ],
      "text/plain": [
       "            0\n",
       "경기도 수원시    13\n",
       "서울특별시 강남구  13\n",
       "경기도 성남시     8\n",
       "서울특별시 중구    8\n",
       "경기도 고양시     7"
      ]
     },
     "execution_count": 3,
     "metadata": {},
     "output_type": "execute_result"
    }
   ],
   "source": [
    "# 저장한 데이터 사용\n",
    "B = pd.read_excel('./export/res_burgerking.xlsx')\n",
    "M = pd.read_excel('./export/res_mcdonalds.xlsx')\n",
    "K = pd.read_excel('./export/res_kfc.xlsx')\n",
    "L = pd.read_excel('./export/res_lotteria.xlsx')\n",
    "MS = pd.read_excel('./export/res_momstouch.xlsx')\n",
    "B.head()"
   ]
  },
  {
   "cell_type": "code",
   "execution_count": 4,
   "metadata": {},
   "outputs": [
    {
     "data": {
      "text/html": [
       "<div>\n",
       "<style scoped>\n",
       "    .dataframe tbody tr th:only-of-type {\n",
       "        vertical-align: middle;\n",
       "    }\n",
       "\n",
       "    .dataframe tbody tr th {\n",
       "        vertical-align: top;\n",
       "    }\n",
       "\n",
       "    .dataframe thead th {\n",
       "        text-align: right;\n",
       "    }\n",
       "</style>\n",
       "<table border=\"1\" class=\"dataframe\">\n",
       "  <thead>\n",
       "    <tr style=\"text-align: right;\">\n",
       "      <th></th>\n",
       "      <th>B</th>\n",
       "      <th>M</th>\n",
       "      <th>K</th>\n",
       "      <th>L</th>\n",
       "      <th>MS</th>\n",
       "      <th>total</th>\n",
       "    </tr>\n",
       "  </thead>\n",
       "  <tbody>\n",
       "    <tr>\n",
       "      <th>경기도 수원시</th>\n",
       "      <td>13.0</td>\n",
       "      <td>13.0</td>\n",
       "      <td>6.0</td>\n",
       "      <td>30.0</td>\n",
       "      <td>22.0</td>\n",
       "      <td>84.0</td>\n",
       "    </tr>\n",
       "    <tr>\n",
       "      <th>경상남도 창원시</th>\n",
       "      <td>6.0</td>\n",
       "      <td>11.0</td>\n",
       "      <td>3.0</td>\n",
       "      <td>34.0</td>\n",
       "      <td>29.0</td>\n",
       "      <td>83.0</td>\n",
       "    </tr>\n",
       "    <tr>\n",
       "      <th>경기도 고양시</th>\n",
       "      <td>7.0</td>\n",
       "      <td>9.0</td>\n",
       "      <td>4.0</td>\n",
       "      <td>26.0</td>\n",
       "      <td>26.0</td>\n",
       "      <td>72.0</td>\n",
       "    </tr>\n",
       "    <tr>\n",
       "      <th>충청북도 청주시</th>\n",
       "      <td>6.0</td>\n",
       "      <td>6.0</td>\n",
       "      <td>3.0</td>\n",
       "      <td>29.0</td>\n",
       "      <td>27.0</td>\n",
       "      <td>71.0</td>\n",
       "    </tr>\n",
       "    <tr>\n",
       "      <th>충청남도 천안시</th>\n",
       "      <td>4.0</td>\n",
       "      <td>5.0</td>\n",
       "      <td>3.0</td>\n",
       "      <td>25.0</td>\n",
       "      <td>29.0</td>\n",
       "      <td>66.0</td>\n",
       "    </tr>\n",
       "    <tr>\n",
       "      <th>경기도 용인시</th>\n",
       "      <td>5.0</td>\n",
       "      <td>9.0</td>\n",
       "      <td>5.0</td>\n",
       "      <td>25.0</td>\n",
       "      <td>18.0</td>\n",
       "      <td>62.0</td>\n",
       "    </tr>\n",
       "    <tr>\n",
       "      <th>경기도 부천시</th>\n",
       "      <td>4.0</td>\n",
       "      <td>8.0</td>\n",
       "      <td>3.0</td>\n",
       "      <td>18.0</td>\n",
       "      <td>19.0</td>\n",
       "      <td>52.0</td>\n",
       "    </tr>\n",
       "    <tr>\n",
       "      <th>전라북도 전주시</th>\n",
       "      <td>6.0</td>\n",
       "      <td>6.0</td>\n",
       "      <td>2.0</td>\n",
       "      <td>21.0</td>\n",
       "      <td>15.0</td>\n",
       "      <td>50.0</td>\n",
       "    </tr>\n",
       "    <tr>\n",
       "      <th>경기도 성남시</th>\n",
       "      <td>8.0</td>\n",
       "      <td>8.0</td>\n",
       "      <td>6.0</td>\n",
       "      <td>15.0</td>\n",
       "      <td>11.0</td>\n",
       "      <td>48.0</td>\n",
       "    </tr>\n",
       "    <tr>\n",
       "      <th>서울특별시 송파구</th>\n",
       "      <td>7.0</td>\n",
       "      <td>4.0</td>\n",
       "      <td>5.0</td>\n",
       "      <td>23.0</td>\n",
       "      <td>5.0</td>\n",
       "      <td>44.0</td>\n",
       "    </tr>\n",
       "  </tbody>\n",
       "</table>\n",
       "</div>"
      ],
      "text/plain": [
       "              B     M    K     L    MS  total\n",
       "경기도 수원시    13.0  13.0  6.0  30.0  22.0   84.0\n",
       "경상남도 창원시    6.0  11.0  3.0  34.0  29.0   83.0\n",
       "경기도 고양시     7.0   9.0  4.0  26.0  26.0   72.0\n",
       "충청북도 청주시    6.0   6.0  3.0  29.0  27.0   71.0\n",
       "충청남도 천안시    4.0   5.0  3.0  25.0  29.0   66.0\n",
       "경기도 용인시     5.0   9.0  5.0  25.0  18.0   62.0\n",
       "경기도 부천시     4.0   8.0  3.0  18.0  19.0   52.0\n",
       "전라북도 전주시    6.0   6.0  2.0  21.0  15.0   50.0\n",
       "경기도 성남시     8.0   8.0  6.0  15.0  11.0   48.0\n",
       "서울특별시 송파구   7.0   4.0  5.0  23.0   5.0   44.0"
      ]
     },
     "execution_count": 4,
     "metadata": {},
     "output_type": "execute_result"
    }
   ],
   "source": [
    "BMKLS = pd.DataFrame({'B': B[0], 'M': M[0], 'K': K[0], 'L': L[0], 'MS': MS[0]}).fillna(0)\n",
    "BMKLS['total'] = BMKLS.sum(axis=1)\n",
    "BMKLS = BMKLS.sort_values(by=['total'], ascending=False)\n",
    "BMKLS.head(10)"
   ]
  },
  {
   "cell_type": "code",
   "execution_count": 7,
   "metadata": {},
   "outputs": [],
   "source": [
    "from matplotlib import pyplot as plt\n",
    "from matplotlib import rcParams, style"
   ]
  },
  {
   "cell_type": "code",
   "execution_count": 8,
   "metadata": {},
   "outputs": [
    {
     "data": {
      "text/plain": [
       "<matplotlib.axes._subplots.AxesSubplot at 0x1e79af3c4e0>"
      ]
     },
     "execution_count": 8,
     "metadata": {},
     "output_type": "execute_result"
    },
    {
     "data": {
      "image/png": "[encoded data removed]",
      "text/plain": [
       "<Figure size 288x216 with 1 Axes>"
      ]
     },
     "metadata": {},
     "output_type": "display_data"
    }
   ],
   "source": [
    "style.use('ggplot')\n",
    "rcParams['font.size'] = 12\n",
    "plt.figure(figsize=(4, 3))\n",
    "BMKLS.sum(axis=0).iloc[:5].plot(kind='bar')"
   ]
  },
  {
   "cell_type": "code",
   "execution_count": 13,
   "metadata": {},
   "outputs": [],
   "source": [
    "import scipy.stats\n",
    "from matplotlib import pyplot as plt\n",
    "from matplotlib import rcParams, style\n",
    "from matplotlib import rcParams\n",
    "from matplotlib import cm, colors, _cm\n",
    "rcParams['font.family'] = 'NanumBarunGothic'"
   ]
  },
  {
   "cell_type": "code",
   "execution_count": 14,
   "metadata": {},
   "outputs": [
    {
     "data": {
      "image/png": "[encoded data removed]",
      "text/plain": [
       "<Figure size 864x864 with 10 Axes>"
      ]
     },
     "metadata": {},
     "output_type": "display_data"
    }
   ],
   "source": [
    "fig = plt.figure(figsize=(12, 12))\n",
    "\n",
    "def plot_nstores3(b1, b2, label1, label2):\n",
    "    plt.scatter(BMKLS[b1] + np.random.random(len(BMKLS)),\n",
    "                BMKLS[b2] + np.random.random(len(BMKLS)),\n",
    "                edgecolor='none', alpha=0.75, s=6, c='black')\n",
    "    plt.xlim(-1, 15 if (b1 != 'L') & (b1 != 'MS') else 35)\n",
    "    plt.ylim(-1, 15 if (b2 != 'L') & (b2 != 'MS') else 35)\n",
    "    plt.xlabel(label1)\n",
    "    plt.ylabel(label2)\n",
    "    \n",
    "    r = scipy.stats.pearsonr(BMKLS[b1], BMKLS[b2])\n",
    "    \n",
    "    if r[0]>=0.75:\n",
    "        color='red'\n",
    "    elif r[0]<0.5:\n",
    "        color='blue'\n",
    "    else:\n",
    "        color='black'\n",
    "        \n",
    "    plt.annotate('r={:.3f}'.format(r[0]), (9 if (b1 != 'L') & (b1 != 'MS') else 20, 12.5 if (b2 != 'L') & (b2 != 'MS') else 20), fontsize=14, color=color)\n",
    "\n",
    "bgbrands = [\n",
    "    ('B', '버거킹'), ('K', 'KFC'),\n",
    "    ('M', '맥도날드'), ('L', '롯데리아'), ('MS', '맘스터치'),\n",
    "]\n",
    "\n",
    "for a in range(len(bgbrands) - 1):\n",
    "    for b in range(1, len(bgbrands)):\n",
    "        if a >= b:\n",
    "            continue\n",
    "        ax = fig.add_subplot(len(bgbrands)-1, len(bgbrands)-1, a * 4 + b)\n",
    "        acol, alabel = bgbrands[a]\n",
    "        bcol, blabel = bgbrands[b]\n",
    "        plot_nstores3(bcol, acol, blabel, alabel)\n",
    "\n",
    "plt.tight_layout()\n",
    "plt.savefig(\"./graph/EDA-burgerindex.pdf\")\n"
   ]
  },
  {
   "cell_type": "code",
   "execution_count": 15,
   "metadata": {},
   "outputs": [
    {
     "data": {
      "text/plain": [
       "Text(0, 0.5, 'Cumulative fraction')"
      ]
     },
     "execution_count": 15,
     "metadata": {},
     "output_type": "execute_result"
    },
    {
     "data": {
      "image/png": "[encoded data removed]",
      "text/plain": [
       "<Figure size 720x288 with 1 Axes>"
      ]
     },
     "metadata": {},
     "output_type": "display_data"
    }
   ],
   "source": [
    "plt.figure(figsize=(10, 4))\n",
    "for col, label in [('B', 'Burger King'), ('K', 'KFC'), ('M', \"McDonald's\"), ('L', \"Lotteria\"), ('MS', \"Mom's Touch\")]:\n",
    "    cumulv = np.cumsum(sorted(BMKLS[col], reverse=True)) / BMKLS[col].sum()\n",
    "    plt.plot(cumulv, label='{} ({})'.format(label, int(BMKLS[col].sum())))\n",
    "plt.legend(loc='best')\n",
    "plt.xlabel('Number of districts (si/gun/gu)')\n",
    "plt.ylabel('Cumulative fraction')"
   ]
  },
  {
   "cell_type": "code",
   "execution_count": 16,
   "metadata": {},
   "outputs": [],
   "source": [
    "from sklearn import manifold"
   ]
  },
  {
   "cell_type": "code",
   "execution_count": 20,
   "metadata": {},
   "outputs": [
    {
     "data": {
      "image/png": "[encoded data removed]",
      "text/plain": [
       "<Figure size 432x288 with 1 Axes>"
      ]
     },
     "metadata": {},
     "output_type": "display_data"
    }
   ],
   "source": [
    "bgbrands = [\n",
    "    ('B', '버거킹'), ('K', 'KFC'),\n",
    "    ('M', '맥도날드'), ('L', '롯데리아'), ('MS', '맘스터치'),\n",
    "]\n",
    "totalList = []\n",
    "tempList= None\n",
    "for a in range(len(bgbrands)):\n",
    "    tempList=[]\n",
    "    tempList.append(bgbrands[a][1])\n",
    "    for b in range(len(bgbrands)):\n",
    "        acol, alabel = bgbrands[a]\n",
    "        bcol, blabel = bgbrands[b]\n",
    "        r = scipy.stats.pearsonr(BMKLS[bcol], BMKLS[acol])\n",
    "        if r[0] == 1:\n",
    "            tempList.append(0)\n",
    "        else:\n",
    "            tempList.append((1-r[0])*100)\n",
    "    totalList.append(tempList)\n",
    "\n",
    "dists = []\n",
    "burgers = []\n",
    "for d in totalList:\n",
    "    burgers.append(d[0])\n",
    "    dists.append(d[1:])\n",
    "\n",
    "adist = np.array(dists)\n",
    "\n",
    "mds = manifold.MDS(n_components=2, dissimilarity=\"precomputed\", random_state=5)\n",
    "results = mds.fit(adist)\n",
    "\n",
    "coords = results.embedding_\n",
    "\n",
    "plt.subplots_adjust(bottom = 0.1)\n",
    "plt.scatter(\n",
    "    coords[:, 0], coords[:, 1], marker = 'o'\n",
    "    )\n",
    "for label, x, y in zip(burgers, coords[:, 0], coords[:, 1]):\n",
    "    plt.annotate(\n",
    "        label,\n",
    "        xy = (x, y), xytext = (-5, 5),\n",
    "        textcoords = 'offset points', ha = 'right', va = 'bottom',\n",
    "        bbox = dict(boxstyle = 'round,pad=0.5', fc = 'yellow', alpha = 0.5),\n",
    "        arrowprops = dict(arrowstyle = '->', connectionstyle = 'arc3,rad=0'))\n",
    "\n",
    "plt.show()"
   ]
  }
 ],
 "metadata": {
  "kernelspec": {
   "display_name": "Python 3",
   "language": "python",
   "name": "python3"
  },
  "language_info": {
   "codemirror_mode": {
    "name": "ipython",
    "version": 3
   },
   "file_extension": ".py",
   "mimetype": "text/x-python",
   "name": "python",
   "nbconvert_exporter": "python",
   "pygments_lexer": "ipython3",
   "version": "3.7.1"
  }
 },
 "nbformat": 4,
 "nbformat_minor": 2
}
