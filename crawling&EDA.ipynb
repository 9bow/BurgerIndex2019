{
 "cells": [
  {
   "cell_type": "code",
   "execution_count": null,
   "metadata": {},
   "outputs": [],
   "source": [
    "import urllib.request\n",
    "import json\n",
    "import pandas as pd\n",
    "import bs4\n",
    "import numpy as np"
   ]
  },
  {
   "cell_type": "code",
   "execution_count": null,
   "metadata": {},
   "outputs": [],
   "source": [
    "response = urllib.request.urlopen('http://www.burgerking.co.kr/api/store/searchmap/empty/?areacd=')\n",
    "bgk_data = json.loads(response.read().decode('utf-8'))\n",
    "bgk_tbl = pd.DataFrame(bgk_data)\n",
    "bgk_tbl.head()"
   ]
  },
  {
   "cell_type": "code",
   "execution_count": null,
   "metadata": {},
   "outputs": [],
   "source": [
    "bgk_locs = pd.DataFrame(bgk_tbl['NewAddr'].apply(lambda v: v.split()[:2]).tolist(),\n",
    "                        columns=('d1', 'd2'))\n",
    "bgk_locs.head()"
   ]
  },
  {
   "cell_type": "code",
   "execution_count": null,
   "metadata": {},
   "outputs": [],
   "source": [
    "bgk_locs['d1'].unique()"
   ]
  },
  {
   "cell_type": "code",
   "execution_count": null,
   "metadata": {},
   "outputs": [],
   "source": [
    "d1_aliases = \"\"\"서울시:서울특별시 충남:충청남도 강원:강원도 경기:경기도 충북:충청북도 경남:경상남도 경북:경상북도\n",
    "전남:전라남도 전북:전라북도 제주도:제주특별자치도 제주:제주특별자치도 대전시:대전광역시 대구시:대구광역시 인천:인천광역시\n",
    "광주시:광주광역시 울산시:울산광역시 부산시:부산광역시 부산:부산광역시 인천시:인천광역시\"\"\"\n",
    "d1_aliases = dict(aliasset.split(':') for aliasset in d1_aliases.split())\n",
    "bgk_locs['d1'] = bgk_locs['d1'].apply(lambda v: d1_aliases.get(v, v))"
   ]
  },
  {
   "cell_type": "code",
   "execution_count": null,
   "metadata": {},
   "outputs": [],
   "source": [
    "bgk_locs[bgk_locs['d1'] == '전주시']"
   ]
  },
  {
   "cell_type": "code",
   "execution_count": null,
   "metadata": {},
   "outputs": [],
   "source": [
    "bgk_locs.iloc[341] = ['전라북도', '전주시']"
   ]
  },
  {
   "cell_type": "code",
   "execution_count": null,
   "metadata": {},
   "outputs": [],
   "source": [
    "bgk_locs[bgk_locs['d1'] == '세종특별자치시']"
   ]
  },
  {
   "cell_type": "code",
   "execution_count": null,
   "metadata": {},
   "outputs": [],
   "source": [
    "bgk_locs.iloc[210] = ['충청남도', '세종시']\n",
    "bgk_locs.iloc[232] = ['충청남도', '세종시']\n",
    "bgk_locs.iloc[233] = ['충청남도', '세종시']"
   ]
  },
  {
   "cell_type": "code",
   "execution_count": null,
   "metadata": {},
   "outputs": [],
   "source": [
    "bgk_locs['d2'].unique()"
   ]
  },
  {
   "cell_type": "code",
   "execution_count": null,
   "metadata": {},
   "outputs": [],
   "source": [
    "bgk_locs[bgk_locs['d2'] == '송도국제대로']"
   ]
  },
  {
   "cell_type": "code",
   "execution_count": null,
   "metadata": {},
   "outputs": [],
   "source": [
    "bgk_locs.iloc[182] = ['인천광역시', '연수구']"
   ]
  },
  {
   "cell_type": "code",
   "execution_count": null,
   "metadata": {},
   "outputs": [],
   "source": [
    "B = bgk_locs.apply(lambda r: r['d1'] + ' ' + r['d2'], axis=1).value_counts()\n",
    "B.head()"
   ]
  },
  {
   "cell_type": "code",
   "execution_count": null,
   "metadata": {},
   "outputs": [],
   "source": [
    "MCDONALDS_URL = 'http://www.mcdonalds.co.kr/www/kor/findus/district.do?sSearch_yn=Y&skey=2&pageIndex={page}&skeyword={location}'"
   ]
  },
  {
   "cell_type": "code",
   "execution_count": null,
   "metadata": {},
   "outputs": [],
   "source": [
    "def search_mcdonalds_stores_one_page(location, page):\n",
    "    response = urllib.request.urlopen(\n",
    "        MCDONALDS_URL.format(location=urllib.parse.quote(location.encode('utf-8')), page=page))\n",
    "    mcd_data = response.read().decode('utf-8')\n",
    "    soup = bs4.BeautifulSoup(mcd_data)\n",
    "    \n",
    "    ret = []\n",
    "    for storetag in soup.findAll('dl', attrs={'class': 'clearFix'}):\n",
    "        storename = storetag.findAll('a')[0].contents[-1].strip()\n",
    "        storeaddr = storetag.findAll('dd', attrs={'class': 'road'})[0].contents[0].split(']')[1]\n",
    "        storeaddr_district = storeaddr.split()[:2]\n",
    "        ret.append([storename] + storeaddr_district)\n",
    "\n",
    "    return pd.DataFrame(ret, columns=('store', 'd1', 'd2')) if ret else None"
   ]
  },
  {
   "cell_type": "code",
   "execution_count": null,
   "metadata": {},
   "outputs": [],
   "source": [
    "def search_mcdonalds_stores(location):\n",
    "    from itertools import count\n",
    "    \n",
    "    found = []\n",
    "    for pg in count():\n",
    "        foundinpage = search_mcdonalds_stores_one_page(location, pg+1)\n",
    "        if foundinpage is None:\n",
    "            break\n",
    "        found.append(foundinpage)\n",
    "\n",
    "    return pd.concat(found)"
   ]
  },
  {
   "cell_type": "code",
   "execution_count": null,
   "metadata": {},
   "outputs": [],
   "source": [
    "search_mcdonalds_stores('서울특별시').head()"
   ]
  },
  {
   "cell_type": "code",
   "execution_count": null,
   "metadata": {},
   "outputs": [],
   "source": [
    "found = []\n",
    "for distr in bgk_locs['d1'].unique():\n",
    "    print(\"processing-->\",distr)\n",
    "    found.append(search_mcdonalds_stores(distr))\n",
    "mcd_tbl = pd.concat(found)"
   ]
  },
  {
   "cell_type": "code",
   "execution_count": null,
   "metadata": {},
   "outputs": [],
   "source": [
    "mcd_tbl['store'].value_counts().head()"
   ]
  },
  {
   "cell_type": "code",
   "execution_count": null,
   "metadata": {},
   "outputs": [],
   "source": [
    "mcd_tbl.head()"
   ]
  },
  {
   "cell_type": "code",
   "execution_count": null,
   "metadata": {},
   "outputs": [],
   "source": [
    "mcd_tbl[mcd_tbl['d2']==\"광역시\"] = [\"부산동명대DT점\", \"부산광역시\", \"남구\"]"
   ]
  },
  {
   "cell_type": "code",
   "execution_count": null,
   "metadata": {},
   "outputs": [],
   "source": [
    "mcd_tbl.iloc[0] = [\"부산동명대DT점\", \"부산광역시\", \"남구\"]"
   ]
  },
  {
   "cell_type": "code",
   "execution_count": null,
   "metadata": {},
   "outputs": [],
   "source": [
    "M = mcd_tbl.apply(lambda r: r['d1'] + ' ' + r['d2'], axis=1).value_counts()\n",
    "M.head()"
   ]
  },
  {
   "cell_type": "code",
   "execution_count": null,
   "metadata": {},
   "outputs": [],
   "source": [
    "def kfc_search_stores_in_dist(num):\n",
    "    KFC_DISTSEARCH_URL = 'https://www.kfckorea.com/store/findStore/{code}'\n",
    "    response = urllib.request.urlopen(KFC_DISTSEARCH_URL.format(code=num))\n",
    "    kfc_data = response.read().decode('utf-8')\n",
    "    soup = bs4.BeautifulSoup(kfc_data)\n",
    "    store_name_idx = soup.findAll('script')[-3].text.find(\"store_name\\\":\\\"\")\n",
    "    store_add_idx = soup.findAll('script')[-3].text.find(\"old_address\\\":\\\"\")\n",
    "    \n",
    "    store_name = soup.findAll('script')[-3].text[store_name_idx+13:].split(\"\\\"\")[0]\n",
    "    store_add = soup.findAll('script')[-3].text[store_add_idx+14:].split(\"\\\"\")[0]\n",
    "    if len(store_name) < 10:\n",
    "        return store_name, store_add\n",
    "    else:\n",
    "        return None, None"
   ]
  },
  {
   "cell_type": "code",
   "execution_count": null,
   "metadata": {
    "scrolled": false
   },
   "outputs": [],
   "source": [
    "kfc_list = []\n",
    "count = 0\n",
    "for i in range(1001, 2101): \n",
    "    if i%100 == 0:\n",
    "        print(\"processing store code ~\", i, \" / count : \", count)\n",
    "        count = 0\n",
    "    loc1, loc2 = kfc_search_stores_in_dist(i)\n",
    "    if loc1 != None:\n",
    "        # print(\"name-\", loc1, \"/ address-\",loc2.split()[0], \"-\", loc2.split()[1], end = \" \")\n",
    "        kfc_list.append([loc1, loc2.split()[0], loc2.split()[1]])\n",
    "        count += 1\n",
    "        \n",
    "print(len(kfc_list))"
   ]
  },
  {
   "cell_type": "code",
   "execution_count": null,
   "metadata": {},
   "outputs": [],
   "source": [
    "print(len(kfc_list))\n",
    "kfc_tbl = pd.DataFrame(kfc_list, columns=('store', 'd1', 'd2'))"
   ]
  },
  {
   "cell_type": "code",
   "execution_count": null,
   "metadata": {},
   "outputs": [],
   "source": [
    "kfc_tbl['d1'].unique()"
   ]
  },
  {
   "cell_type": "code",
   "execution_count": null,
   "metadata": {},
   "outputs": [],
   "source": [
    "kfc_tbl[kfc_tbl['d1']==\"세종특별자치시\"]"
   ]
  },
  {
   "cell_type": "code",
   "execution_count": null,
   "metadata": {},
   "outputs": [],
   "source": [
    "kfc_tbl.iloc[83] = [\"세종이마트\", \"충청남도\", \"세종시\"]"
   ]
  },
  {
   "cell_type": "code",
   "execution_count": null,
   "metadata": {},
   "outputs": [],
   "source": [
    "d1_aliases = \"\"\"서울:서울특별시 인천:인천광역시 강원:강원도 경기:경기도 충남:충청남도 충북:충청북도 경남:경상남도 경북:경상북도\n",
    "전남:전라남도 전북:전라북도 대전:대전광역시 대구:대구광역시 광주:광주광역시 울산:울산광역시 부산:부산광역시\"\"\"\n",
    "d1_aliases = dict(aliasset.split(':') for aliasset in d1_aliases.split())\n",
    "kfc_tbl['d1'] = kfc_tbl['d1'].apply(lambda v: d1_aliases.get(v, v))"
   ]
  },
  {
   "cell_type": "code",
   "execution_count": null,
   "metadata": {},
   "outputs": [],
   "source": [
    "K = kfc_tbl.apply(lambda r: r['d1'] + ' ' + r['d2'], axis=1).value_counts()\n",
    "K.head()"
   ]
  },
  {
   "cell_type": "code",
   "execution_count": null,
   "metadata": {},
   "outputs": [],
   "source": [
    "BMK = pd.DataFrame({'B': B, 'M': M, 'K': K}).fillna(0)\n",
    "BMK['total'] = BMK.sum(axis=1)\n",
    "BMK = BMK.sort_values(by=['total'], ascending=False)\n",
    "BMK.head(10)"
   ]
  },
  {
   "cell_type": "code",
   "execution_count": null,
   "metadata": {},
   "outputs": [],
   "source": [
    "from matplotlib import pyplot as plt\n",
    "from matplotlib import rcParams, style\n",
    "style.use('ggplot')\n",
    "rcParams['font.size'] = 12"
   ]
  },
  {
   "cell_type": "code",
   "execution_count": null,
   "metadata": {},
   "outputs": [],
   "source": [
    "plt.figure(figsize=(4, 3))\n",
    "BMK.sum(axis=0).iloc[:3].plot(kind='bar')"
   ]
  },
  {
   "cell_type": "code",
   "execution_count": null,
   "metadata": {},
   "outputs": [],
   "source": [
    "import scipy.stats"
   ]
  },
  {
   "cell_type": "code",
   "execution_count": null,
   "metadata": {},
   "outputs": [],
   "source": [
    "fig = plt.figure(figsize=(9, 3))\n",
    "\n",
    "def plot_nstores(b1, b2, label1, label2):\n",
    "    plt.scatter(BMK[b1] + np.random.random(len(BMK)),\n",
    "                BMK[b2] + np.random.random(len(BMK)),\n",
    "                edgecolor='none', alpha=0.75, s=6, c='black')\n",
    "    plt.xlim(-1, 15)\n",
    "    plt.ylim(-1, 15)\n",
    "    plt.xlabel(label1)\n",
    "    plt.ylabel(label2)\n",
    "    \n",
    "    r = scipy.stats.pearsonr(BMK[b1], BMK[b2])\n",
    "    plt.annotate('r={:.3f}'.format(r[0]), (10, 12.5))\n",
    "\n",
    "ax = fig.add_subplot(1, 3, 1)\n",
    "plot_nstores('B', 'M', 'Burger King', \"McDonald's\")\n",
    "\n",
    "ax = fig.add_subplot(1, 3, 2)\n",
    "plot_nstores('B', 'K', 'Burger King', 'KFC')\n",
    "\n",
    "ax = fig.add_subplot(1, 3, 3)\n",
    "plot_nstores('M', 'K', \"McDonald's\", 'KFC')\n",
    "\n",
    "plt.tight_layout()"
   ]
  },
  {
   "cell_type": "code",
   "execution_count": null,
   "metadata": {},
   "outputs": [],
   "source": [
    "plt.figure(figsize=(4, 3))\n",
    "for col, label in [('B', 'Burger King'), ('K', 'KFC'), ('M', \"McDonald's\")]:\n",
    "    cumulv = np.cumsum(sorted(BMK[col], reverse=True)) / BMK[col].sum()\n",
    "    plt.plot(cumulv, label='{} ({})'.format(label, int(BMK[col].sum())))\n",
    "plt.legend(loc='best')\n",
    "plt.xlabel('Number of districts (si/gun/gu)')\n",
    "plt.ylabel('Cumulative fraction')"
   ]
  },
  {
   "cell_type": "code",
   "execution_count": null,
   "metadata": {},
   "outputs": [],
   "source": [
    "LOTTERIA_URL = 'http://www.lotteria.com/Shop/Shop_Ajax.asp'\n",
    "LOTTERIA_VALUES = {\n",
    "    'Page': 1, 'PageSize': 2000, 'BlockSize': 2000,\n",
    "    'SearchArea1': '', 'SearchArea2': '', 'SearchType': \"TEXT\",\n",
    "    'SearchText': '', 'SearchIs24H': '', 'SearchIsWifi': '',\n",
    "    'SearchIsDT': '', 'SearchIsHomeService': '', 'SearchIsGroupOrder': '',\n",
    "    'SearchIsEvent': ''}\n",
    "LOTTERIA_HEADERS = {\n",
    "    'User-Agent': 'Mozilla/5.0 (Macintosh; Intel Mac OS X 10.10; rv:12.0) Gecko/20100101',\n",
    "    'Host': 'www.lotteria.com',\n",
    "    'Accept': 'text/html, */*; q=0.01',\n",
    "    'Accept-Language': 'en-us,en;q=0.5',\n",
    "    'Content-Type': 'application/x-www-form-urlencoded; charset=UTF-8',\n",
    "    'X-Requested-With': 'XMLHttpRequest',\n",
    "    'Referer': 'http://www.lotteria.com/Shop/Shop_List.asp?Page=1&PageSize=2000&BlockSize=2000&Se'\n",
    "               'archArea1=&SearchArea2=&SearchType=TEXT&SearchText=&SearchIs24H=&SearchIsWifi=&Se'\n",
    "               'archIsDT=&SearchIsHomeService=&SearchIsGroupOrder=&SearchIsEvent=',\n",
    "}"
   ]
  },
  {
   "cell_type": "code",
   "execution_count": null,
   "metadata": {},
   "outputs": [],
   "source": [
    "postdata = urllib.parse.urlencode(LOTTERIA_VALUES).encode('utf-8')\n",
    "req = urllib.request.Request(LOTTERIA_URL, postdata, LOTTERIA_HEADERS)\n",
    "response = urllib.request.urlopen(req)\n",
    "ltr_data = response.read().decode('utf-8')\n",
    "soup = bs4.BeautifulSoup(ltr_data)"
   ]
  },
  {
   "cell_type": "code",
   "execution_count": null,
   "metadata": {},
   "outputs": [],
   "source": [
    "found = []\n",
    "for tag in soup.findAll('tr', {'class': 'shopSearch'}):\n",
    "    subtag = tag.findAll('td', {'style': 'padding-right:10px;'})\n",
    "    for sub in subtag:\n",
    "        st_name = sub.text.replace(\"D/T\", \"DT\")\n",
    "        st_name = st_name.replace(\"D/I\",\"DI\")\n",
    "        st_name = st_name.replace(\"(상)\",\"\")\n",
    "        st_name = st_name.replace(\"(하)\",\"\")\n",
    "        found.append(st_name)\n",
    "\n",
    "for n in range(len(found)):\n",
    "    print(n+1, found[n], end=\" / \")"
   ]
  },
  {
   "cell_type": "code",
   "execution_count": null,
   "metadata": {},
   "outputs": [],
   "source": [
    "!pip install --trusted-host pypi.org --trusted-host files.pythonhosted.org selenium"
   ]
  },
  {
   "cell_type": "code",
   "execution_count": null,
   "metadata": {},
   "outputs": [],
   "source": [
    "from selenium import webdriver"
   ]
  },
  {
   "cell_type": "code",
   "execution_count": null,
   "metadata": {},
   "outputs": [],
   "source": [
    "driver = webdriver.Chrome('./driver/chromedriver')\n",
    "driver.get(\"https://map.naver.com/\")"
   ]
  },
  {
   "cell_type": "code",
   "execution_count": null,
   "metadata": {},
   "outputs": [],
   "source": [
    "from selenium.webdriver.common.by import By\n",
    "from selenium.webdriver.support.ui import WebDriverWait\n",
    "from selenium.webdriver.support import expected_conditions as EC"
   ]
  },
  {
   "cell_type": "code",
   "execution_count": null,
   "metadata": {},
   "outputs": [],
   "source": [
    "# naver map\n",
    "ltr_list = []\n",
    "count = 1\n",
    "for name in found:\n",
    "    if count%100 == 0:\n",
    "        print(count,\"번째\")\n",
    "    count += 1\n",
    "    \n",
    "    driver.get(\"https://map.naver.com/\")\n",
    "    try:\n",
    "        element = WebDriverWait(driver, 10).until(\n",
    "            EC.presence_of_element_located((By.ID, \"search-input\"))\n",
    "        )\n",
    "    finally:\n",
    "        pass\n",
    "    \n",
    "    str = \"롯데리아 \" + name + \"점\"\n",
    "    driver.find_element_by_id('search-input').clear()\n",
    "    driver.find_element_by_id('search-input').send_keys(str)\n",
    "    element = driver.find_element_by_xpath(\"\"\"//*[@type=\"submit\"]\"\"\")\n",
    "    driver.execute_script(\"arguments[0].click();\", element)\n",
    "    \n",
    "    try:\n",
    "        element = WebDriverWait(driver, 3).until(\n",
    "            EC.presence_of_element_located((By.CLASS_NAME, \"lsnx\"))\n",
    "        )\n",
    "        html = driver.page_source\n",
    "        soup = bs4.BeautifulSoup(html, 'html.parser')\n",
    "        ultag = soup.find(\"ul\", \"lst_site\")\n",
    "        real_name = ultag.find(\"dt\").find(\"a\").text\n",
    "        addr = ultag.find(\"dd\", \"addr\").text\n",
    "        ltr_list.append([name, real_name, addr.split()[0], addr.split()[1]])\n",
    "    except:\n",
    "        print(name, end=\" / \")\n",
    "        ltr_list.append([name, None, None, None])\n",
    "        \n",
    "    finally:\n",
    "        pass\n",
    "print(\"Fin\")"
   ]
  },
  {
   "cell_type": "code",
   "execution_count": null,
   "metadata": {},
   "outputs": [],
   "source": [
    "# kakao map\n",
    "ltr_list = []\n",
    "count = 1\n",
    "for name in found:\n",
    "    if count%100 == 0:\n",
    "        print(count,\"번째\")\n",
    "    count += 1\n",
    "    \n",
    "    str = \"https://map.kakao.com/?q=롯데리아 \" + name + \"점\"\n",
    "    driver.get(str)\n",
    "    \n",
    "    element = WebDriverWait(driver, 5).until(\n",
    "        EC.presence_of_element_located((By.ID, \"info.search.place.list\"))\n",
    "    )\n",
    "    html = driver.page_source\n",
    "    soup = bs4.BeautifulSoup(html, 'html.parser')\n",
    "    ultag = soup.find(\"ul\", {\"id\": \"info.search.place.list\"})\n",
    "    real_name = ultag.find(\"a\", {\"data-id\": \"name\"}).text\n",
    "    addr = ultag.find(\"p\", {\"data-id\": \"address\"}).text\n",
    "    ltr_list.append([name, real_name.replace(\"롯데리아\", \"\").lstrip(), addr.split()[0], addr.split()[1]])\n",
    "    \n",
    "print(\"Fin\")"
   ]
  },
  {
   "cell_type": "code",
   "execution_count": null,
   "metadata": {},
   "outputs": [],
   "source": [
    "len(ltr_list)"
   ]
  },
  {
   "cell_type": "code",
   "execution_count": null,
   "metadata": {},
   "outputs": [],
   "source": [
    "ltr_tbl = pd.DataFrame(ltr_list, columns=('store', 'realname', 'd1', 'd2'))"
   ]
  },
  {
   "cell_type": "code",
   "execution_count": null,
   "metadata": {},
   "outputs": [],
   "source": [
    "ltr_tbl.to_excel('lotteria.xlsx', sheet_name='sheet1')"
   ]
  },
  {
   "cell_type": "code",
   "execution_count": null,
   "metadata": {},
   "outputs": [],
   "source": [
    "ltr_tbl[ltr_tbl['d1'].isnull()]"
   ]
  },
  {
   "cell_type": "code",
   "execution_count": null,
   "metadata": {},
   "outputs": [],
   "source": [
    "ltr_tbl.iloc[0] = [\"롯데마트영통\", None, \"경기도\", \"수원시\"]\n",
    "ltr_tbl.iloc[24] = [\"여수예술랜드\", None, \"전라북도\", \"여수시\"]\n",
    "ltr_tbl.iloc[37] = [\"대전세이\", None, \"대전광역시\", \"중구\"]\n",
    "ltr_tbl.iloc[62] = [\"인천공항제2여객터미널3층\", None, \"인천광역시\", \"중구\"]\n",
    "ltr_tbl.iloc[80] = [\"롯데마트김포한강신도시\", None, \"경기도\", \"김포시\"]\n",
    "ltr_tbl.iloc[82] = [\"경주보문\", None, \"경상북도\", \"경주시\"]\n",
    "ltr_tbl.iloc[94] = [\"롯데마트시흥배곧\", None, \"경기도\", \"시흥시\"]\n",
    "ltr_tbl.iloc[101] = [\"하나로고양\", None, \"경기도\", \"고양시\"]\n",
    "ltr_tbl.iloc[108] = [\"신부산역사\", None, \"부산광역시\", \"동구\"]\n",
    "ltr_tbl.iloc[116] = [\"잠실야구장1층\", None, \"서울특별시\", \"송파구\"]\n",
    "ltr_tbl.iloc[117] = [\"잠실야구장2층\", None, \"서울특별시\", \"송파구\"]\n",
    "ltr_tbl.iloc[118] = [\"잠실야구장3층\", None, \"서울특별시\", \"송파구\"]\n",
    "ltr_tbl.iloc[119] = [\"백령도\", None, \"인천광역시\", \"옹진군\"]\n",
    "ltr_tbl.iloc[123] = [\"롯데백창원식품관\", None, \"경상남도\", \"창원시\"]\n",
    "ltr_tbl.iloc[127] = [\"원주혁신도시\", None, \"강원도\", \"원주시\"]\n",
    "ltr_tbl.iloc[148] = [\"수서역사\", None, \"서울특별시\", \"강남구\"]\n",
    "ltr_tbl.iloc[155] = [\"안성휴게소\", None, \"경기도\", \"안성시\"]\n",
    "ltr_tbl.iloc[167] = [\"안성맞춤휴게소\", None, \"경기도\", \"안성시\"]\n",
    "ltr_tbl.iloc[168] = [\"안성맞춤휴게소\", None, \"경기도\", \"안성시\"]\n",
    "ltr_tbl.iloc[169] = [\"죽암휴게소DT\", None, \"충청북도\", \"청주시\"]\n",
    "ltr_tbl.iloc[177] = [\"전주하가DI\", None, \"전라북도\", \"전주시\"]\n",
    "ltr_tbl.iloc[181] = [\"오창2산단\", None, \"충청북도\", \"청주시\"]\n",
    "ltr_tbl.iloc[185] = [\"현풍테크노폴리스\", None, \"대구광역시\", \"달성군\"]\n",
    "ltr_tbl.iloc[194] = [\"부산키자니아\", None, \"부산광역시\", \"해운대구\"]\n",
    "ltr_tbl.iloc[236] = [\"용인휴게소\", None, \"경기도\", \"용인시\"]\n",
    "ltr_tbl.iloc[237] = [\"패션아일랜드대전\", None, \"대전광역시\", \"동구\"]\n",
    "ltr_tbl.iloc[263] = [\"롯데이천아울렛\", None, \"경기도\", \"이천시\"]\n",
    "ltr_tbl.iloc[385] = [\"동대구역사2호\", None, \"대구광역시\", \"동구\"]\n",
    "ltr_tbl.iloc[389] = [\"화성사강DT\", None, \"경기도\", \"화성시\"]\n",
    "ltr_tbl.iloc[415] = [\"인천허브DI\", None, \"인천광역시\", \"중구\"]\n",
    "ltr_tbl.iloc[418] = [\"순천향대학DT\", None, \"충청남도\", \"아산시\"]\n",
    "ltr_tbl.iloc[428] = [\"투나송내\", None, \"경기도\", \"부천시\"]\n",
    "ltr_tbl.iloc[458] = [\"원마운트워터파크\", None, \"경기도\", \"고양시\"]\n",
    "ltr_tbl.iloc[464] = [\"안산반월\", None, \"경기도\", \"안산시\"]\n",
    "ltr_tbl.iloc[465] = [\"롯데안양\", None, \"경기도\", \"안양시\"]\n",
    "ltr_tbl.iloc[467] = [\"송산휴게소\", None, \"경기도\", \"화성시\"]\n",
    "ltr_tbl.iloc[468] = [\"홈플러스포천송우\", None, \"경기도\", \"포천시\"]\n",
    "ltr_tbl.iloc[487] = [\"홈플러스동광주\", None, \"광주광역시\", \"북구\"]\n",
    "ltr_tbl.iloc[494] = [\"안양박달DI\", None, \"경기도\", \"안양시\"]\n",
    "ltr_tbl.iloc[502] = [\"롯데마트시흥\", None, \"경기도\", \"시흥시\"]\n",
    "ltr_tbl.iloc[508] = [\"서산휴게소(下)\", None, \"충청남도\", \"서산시\"]\n",
    "ltr_tbl.iloc[512] = [\"홈플러스유성\", None, \"대전광역시\", \"유성구\"]\n",
    "ltr_tbl.iloc[513] = [\"안양관양\", None, \"경기도\", \"안양시\"]\n",
    "ltr_tbl.iloc[516] = [\"빅마켓금천\", None, \"서울특별시\", \"금천구\"]\n",
    "ltr_tbl.iloc[604] = [\"목동행복한백화점\", None, \"서울특별시\", \"양천구\"]\n",
    "ltr_tbl.iloc[653] = [\"광명역사\", None, \"경기도\", \"광명시\"]\n",
    "ltr_tbl.iloc[663] = [\"용산역사ST\", None, \"서울특별시\", \"용산구\"]\n",
    "ltr_tbl.iloc[671] = [\"길음뉴타운점\", None, \"서울특별시\", \"성북구\"]\n",
    "ltr_tbl.iloc[746] = [\"성남단대\", None, \"경기도\", \"성남시\"]\n",
    "ltr_tbl.iloc[755] = [\"부천뉴코아\", None, \"경기도\", \"부천시\"]\n",
    "ltr_tbl.iloc[767] = [\"전주동산\", None, \"전라북도\", \"전주시\"]\n",
    "ltr_tbl.iloc[785] = [\"대전괴정DT\", None, \"대전광역시\", \"서구\"]\n",
    "ltr_tbl.iloc[816] = [\"해운대세이브존\", None, \"부산광역시\", \"해운대구\"]\n",
    "ltr_tbl.iloc[845] = [\"신당역\", None, \"서울특별시\", \"중구\"]\n",
    "ltr_tbl.iloc[893] = [\"경산롯데씨네마\", None, \"경상북도\", \"경산시\"]\n",
    "ltr_tbl.iloc[918] = [\"의정부가능역점\", None, \"경기도\", \"의정부시\"]\n",
    "ltr_tbl.iloc[936] = [\"동아쇼핑반월당\", None, \"대구광역시\", \"중구\"]\n",
    "ltr_tbl.iloc[980] = [\"의정보금오\", None, \"경기도\", \"의정부시\"]\n",
    "ltr_tbl.iloc[993] = [\"포항두호\", None, \"경상북도\", \"포항시\"]\n",
    "ltr_tbl.iloc[1143] = [\"홈플러스영통\", None, \"경기도\", \"수원시\"]\n",
    "ltr_tbl.iloc[1240] = [\"영천시장\", None, \"서울특별시\", \"서대문구\"]\n",
    "ltr_tbl.iloc[1267] = [\"성남양지\", None, \"경기도\", \"성남시\"]\n",
    "ltr_tbl.iloc[1328] = [\"잠실아이스링크\", None, \"서울특별시\", \"송파구\"]\n",
    "ltr_tbl.iloc[1329] = [\"서울랜드점\", None, \"경기도\", \"과천시\"]\n",
    "ltr_tbl.iloc[1338] = [\"홈서비스과천\", None, \"경기도\", \"과천시\"]\n",
    "ltr_tbl.iloc[1339] = [\"홈서비스부암(부산역)\", None, \"부산광역시\", \"부산진구\"]\n",
    "ltr_tbl.iloc[1340] = [\"홈서비스성황\", None, \"충청남도\", \"천안시\"]\n",
    "\n",
    "ltr_tbl.iloc[5] = [\"전북진안\", \"롯데리아 전북진안점\", \"전라북도\", \"진안군\"]"
   ]
  },
  {
   "cell_type": "code",
   "execution_count": null,
   "metadata": {},
   "outputs": [],
   "source": [
    "ltr_tbl['d1'].unique()"
   ]
  },
  {
   "cell_type": "code",
   "execution_count": null,
   "metadata": {},
   "outputs": [],
   "source": [
    "ltr_tbl[ltr_tbl['d1']==\"세종특별자치시\"]"
   ]
  },
  {
   "cell_type": "code",
   "execution_count": null,
   "metadata": {},
   "outputs": [],
   "source": [
    "ltr_tbl.iloc[189] = [\"세종종촌\", \"롯데리아 세종종촌점\", \"충청북도\", \"세종시\"]\n",
    "ltr_tbl.iloc[217] = [\"세종부강\", \"롯데리아 세종부강점\", \"충청북도\", \"세종시\"]\n",
    "ltr_tbl.iloc[284] = [\"세종첫마을\", \"롯데리아 세종첫마을점\", \"충청북도\", \"세종시\"]\n",
    "ltr_tbl.iloc[287] = [\"홈플러스세종\", \"롯데리아 홈플러스세종점\", \"충청북도\", \"세종시\"]\n",
    "ltr_tbl.iloc[824] = [\"홈플러스조치원\", \"롯데리아 홈플러스조치원점\", \"충청북도\", \"세종시\"]\n",
    "ltr_tbl.iloc[881] = [\"조치원\", \"롯데리아 조치원점\", \"충청북도\", \"세종시\"]"
   ]
  },
  {
   "cell_type": "code",
   "execution_count": null,
   "metadata": {},
   "outputs": [],
   "source": [
    "ltr_tbl['d2'].unique()"
   ]
  },
  {
   "cell_type": "code",
   "execution_count": null,
   "metadata": {},
   "outputs": [],
   "source": [
    "L = ltr_tbl.apply(lambda r: r['d1'] + ' ' + r['d2'], axis=1).value_counts()\n",
    "L.head()"
   ]
  },
  {
   "cell_type": "code",
   "execution_count": null,
   "metadata": {},
   "outputs": [],
   "source": [
    "def moms_search_stores_in_dist(num):\n",
    "    store_list = []\n",
    "    MT_DISTSEARCH_URL = 'http://www.momstouch.co.kr/sub/store/store_01_list.html?pg={code}'\n",
    "    response = urllib.request.urlopen(MT_DISTSEARCH_URL.format(code=num))\n",
    "    mt_data = response.read()\n",
    "    soup = bs4.BeautifulSoup(mt_data)\n",
    "    table = soup.find(\"table\", {\"class\": \"store_List\"})\n",
    "    trs = table.findAll(\"tr\")[1:]\n",
    "    \n",
    "    for tr in trs:\n",
    "        store_name = tr.findAll(\"td\")[1].text\n",
    "        store_add = tr.find(\"td\", {\"class\": \"td_Left\"}).text\n",
    "        store_list.append([store_name, store_add.split()[0], store_add.split()[1]])\n",
    "        \n",
    "    return store_list"
   ]
  },
  {
   "cell_type": "code",
   "execution_count": null,
   "metadata": {},
   "outputs": [],
   "source": [
    "moms_list = []\n",
    "tmp_list = []\n",
    "for i in range(1, 120): \n",
    "    tmp_list = moms_search_stores_in_dist(i)\n",
    "    moms_list += tmp_list\n",
    "        \n",
    "print(len(moms_list))"
   ]
  },
  {
   "cell_type": "code",
   "execution_count": null,
   "metadata": {},
   "outputs": [],
   "source": [
    "moms_tbl = pd.DataFrame(moms_list, columns=('store', 'd1', 'd2'))"
   ]
  },
  {
   "cell_type": "code",
   "execution_count": null,
   "metadata": {},
   "outputs": [],
   "source": [
    "moms_tbl['d1'].unique()"
   ]
  },
  {
   "cell_type": "code",
   "execution_count": null,
   "metadata": {},
   "outputs": [],
   "source": [
    "moms_tbl[moms_tbl['d1']==\"전주시덕진구\"]"
   ]
  },
  {
   "cell_type": "code",
   "execution_count": null,
   "metadata": {},
   "outputs": [],
   "source": [
    "moms_tbl.iloc[1] = [\"전주에코시티점\", \"전라북도\", \"전주시\"]"
   ]
  },
  {
   "cell_type": "code",
   "execution_count": null,
   "metadata": {},
   "outputs": [],
   "source": [
    "moms_tbl[moms_tbl['d1']==\"선릉로64길\"]"
   ]
  },
  {
   "cell_type": "code",
   "execution_count": null,
   "metadata": {},
   "outputs": [],
   "source": [
    "moms_tbl.iloc[30] = [\"한티역점\", \"서울특별시\", \"강남구\"]"
   ]
  },
  {
   "cell_type": "code",
   "execution_count": null,
   "metadata": {},
   "outputs": [],
   "source": [
    "moms_tbl[moms_tbl['d1']==\"경기도안산시\"]"
   ]
  },
  {
   "cell_type": "code",
   "execution_count": null,
   "metadata": {},
   "outputs": [],
   "source": [
    "moms_tbl.iloc[249] = [\"안산한대역점\", \"경기도\", \"안산시\"]"
   ]
  },
  {
   "cell_type": "code",
   "execution_count": null,
   "metadata": {},
   "outputs": [],
   "source": [
    "moms_tbl[moms_tbl['d1']==\"부산해운대구해운대로\"]"
   ]
  },
  {
   "cell_type": "code",
   "execution_count": null,
   "metadata": {},
   "outputs": [],
   "source": [
    "moms_tbl.iloc[824] = [\"장산역점\", \"부산광역시\", \"해운대구\"]"
   ]
  },
  {
   "cell_type": "code",
   "execution_count": null,
   "metadata": {},
   "outputs": [],
   "source": [
    "moms_tbl[moms_tbl['d1']==\"고양시\"]"
   ]
  },
  {
   "cell_type": "code",
   "execution_count": null,
   "metadata": {},
   "outputs": [],
   "source": [
    "moms_tbl.iloc[220] = [\"고양능곡점\", \"경기도\", \"고양시\"]"
   ]
  },
  {
   "cell_type": "code",
   "execution_count": null,
   "metadata": {},
   "outputs": [],
   "source": [
    "moms_tbl[moms_tbl['d1']==\"제주시\"]"
   ]
  },
  {
   "cell_type": "code",
   "execution_count": null,
   "metadata": {},
   "outputs": [],
   "source": [
    "moms_tbl.iloc[783] = [\"한라대점\", \"제주특별자치도\", \"제주시\"]\n",
    "moms_tbl.iloc[849] = [\"함덕점\", \"제주특별자치도\", \"제주시\"]\n",
    "moms_tbl.iloc[896] = [\"이도점\", \"제주특별자치도\", \"제주시\"]\n",
    "moms_tbl.iloc[898] = [\"연삼로점\", \"제주특별자치도\", \"제주시\"]"
   ]
  },
  {
   "cell_type": "code",
   "execution_count": null,
   "metadata": {},
   "outputs": [],
   "source": [
    "moms_tbl['d1'].unique()"
   ]
  },
  {
   "cell_type": "code",
   "execution_count": null,
   "metadata": {},
   "outputs": [],
   "source": [
    "d1_aliases = \"\"\"서울:서울특별시 서울시:서울특별시 충남:충청남도 강원:강원도 경기:경기도 충북:충청북도 경남:경상남도 경북:경상북도\n",
    "전남:전라남도 전북:전라북도 제주도:제주특별자치도 제주:제주특별자치도 대전:대전광역시 대전시:대전광역시 대구:대구광역시 대구시:대구광역시 인천:인천광역시\n",
    "광주:광주광역시 광주시:광주광역시 울산:울산광역시 울산시:울산광역시 부산시:부산광역시 부산:부산광역시 인천시:인천광역시 세종:세종특별자치시 세종시:세종특별자치시 세종특별시:세종특별자치시\"\"\"\n",
    "d1_aliases = dict(aliasset.split(':') for aliasset in d1_aliases.split())\n",
    "moms_tbl['d1'] = moms_tbl['d1'].apply(lambda v: d1_aliases.get(v, v))"
   ]
  },
  {
   "cell_type": "code",
   "execution_count": null,
   "metadata": {},
   "outputs": [],
   "source": [
    "moms_tbl[moms_tbl['d1']==\"세종특별자치시\"]"
   ]
  },
  {
   "cell_type": "code",
   "execution_count": null,
   "metadata": {},
   "outputs": [],
   "source": [
    "moms_tbl.iloc[18] = [\"세종도담점\", \"세종특별자치시\", \"세종특별자치시\"]\n",
    "moms_tbl.iloc[72] = [\"세종대평점\", \"세종특별자치시\", \"세종특별자치시\"]\n",
    "moms_tbl.iloc[112] = [\"세종국책연구소점\", \"세종특별자치시\", \"세종특별자치시\"]\n",
    "moms_tbl.iloc[152] = [\"세종새롬점\", \"세종특별자치시\", \"세종특별자치시\"]\n",
    "moms_tbl.iloc[259] = [\"세종아름점\", \"세종특별자치시\", \"세종특별자치시\"]\n",
    "moms_tbl.iloc[280] = [\"세종보람점\", \"세종특별자치시\", \"세종특별자치시\"]\n",
    "moms_tbl.iloc[383] = [\"세종고운점\", \"세종특별자치시\", \"세종특별자치시\"]\n",
    "moms_tbl.iloc[432] = [\"세종어진점\", \"세종특별자치시\", \"세종특별자치시\"]\n",
    "moms_tbl.iloc[456] = [\"세종cgv점\", \"세종특별자치시\", \"세종특별자치시\"]\n",
    "moms_tbl.iloc[558] = [\"조치원역점\", \"세종특별자치시\", \"세종특별자치시\"]\n",
    "moms_tbl.iloc[712] = [\"한국영상대점\", \"세종특별자치시\", \"세종특별자치시\"]\n",
    "moms_tbl.iloc[900] = [\"홍익대세종캠퍼스점\", \"세종특별자치시\", \"세종특별자치시\"]\n",
    "moms_tbl.iloc[925] = [\"고려대세종캠퍼스점\", \"세종특별자치시\", \"세종특별자치시\"]\n",
    "moms_tbl.iloc[1046] = [\"신세종첫마을점\", \"세종특별자치시\", \"세종특별자치시\"]\n",
    "moms_tbl.iloc[1049] = [\"세종부강점\", \"세종특별자치시\", \"세종특별자치시\"]"
   ]
  },
  {
   "cell_type": "code",
   "execution_count": null,
   "metadata": {},
   "outputs": [],
   "source": [
    "MS = moms_tbl.apply(lambda r: r['d1'] + ' ' + r['d2'], axis=1).value_counts()\n",
    "MS.head()"
   ]
  },
  {
   "cell_type": "code",
   "execution_count": null,
   "metadata": {},
   "outputs": [],
   "source": [
    "# 크롤링 데이터 저장\n",
    "B.to_excel('./export/res_burgerking.xlsx', sheet_name='sheet1')\n",
    "M.to_excel('./export/res_mcdonalds.xlsx', sheet_name='sheet1')\n",
    "K.to_excel('./export/res_kfc.xlsx', sheet_name='sheet1')\n",
    "L.to_excel('./export/res_lotteria.xlsx', sheet_name='sheet1')\n",
    "MS.to_excel('./export/res_momstouch.xlsx', sheet_name='sheet1')"
   ]
  },
  {
   "cell_type": "code",
   "execution_count": null,
   "metadata": {},
   "outputs": [],
   "source": [
    "# 저장한 데이터 사용\n",
    "B = pd.read_excel('./export/res_burgerking.xlsx')\n",
    "M = pd.read_excel('./export/res_mcdonalds.xlsx')\n",
    "K = pd.read_excel('./export/res_kfc.xlsx')\n",
    "L = pd.read_excel('./export/res_lotteria.xlsx')\n",
    "MS = pd.read_excel('./export/res_momstouch.xlsx')\n",
    "B.head()"
   ]
  },
  {
   "cell_type": "code",
   "execution_count": null,
   "metadata": {},
   "outputs": [],
   "source": [
    "BMKLS = pd.DataFrame({'B': B[0], 'M': M[0], 'K': K[0], 'L': L[0], 'MS': MS[0]}).fillna(0)\n",
    "BMKLS['total'] = BMKLS.sum(axis=1)\n",
    "BMKLS = BMKLS.sort_values(by=['total'], ascending=False)\n",
    "BMKLS.head(10)"
   ]
  },
  {
   "cell_type": "code",
   "execution_count": null,
   "metadata": {},
   "outputs": [],
   "source": [
    "from matplotlib import pyplot as plt\n",
    "from matplotlib import rcParams, style"
   ]
  },
  {
   "cell_type": "code",
   "execution_count": null,
   "metadata": {},
   "outputs": [],
   "source": [
    "style.use('ggplot')\n",
    "rcParams['font.size'] = 12\n",
    "plt.figure(figsize=(4, 3))\n",
    "BMKLS.sum(axis=0).iloc[:5].plot(kind='bar')"
   ]
  },
  {
   "cell_type": "code",
   "execution_count": null,
   "metadata": {},
   "outputs": [],
   "source": [
    "import scipy.stats\n",
    "from matplotlib import pyplot as plt\n",
    "from matplotlib import rcParams, style\n",
    "from matplotlib import rcParams\n",
    "from matplotlib import cm, colors, _cm\n",
    "rcParams['font.family'] = 'NanumBarunGothic'"
   ]
  },
  {
   "cell_type": "code",
   "execution_count": null,
   "metadata": {},
   "outputs": [],
   "source": [
    "fig = plt.figure(figsize=(12, 12))\n",
    "\n",
    "def plot_nstores3(b1, b2, label1, label2):\n",
    "    plt.scatter(BMKLS[b1] + np.random.random(len(BMKLS)),\n",
    "                BMKLS[b2] + np.random.random(len(BMKLS)),\n",
    "                edgecolor='none', alpha=0.75, s=6, c='black')\n",
    "    plt.xlim(-1, 15 if (b1 != 'L') & (b1 != 'MS') else 35)\n",
    "    plt.ylim(-1, 15 if (b2 != 'L') & (b2 != 'MS') else 35)\n",
    "    plt.xlabel(label1)\n",
    "    plt.ylabel(label2)\n",
    "    \n",
    "    r = scipy.stats.pearsonr(BMKLS[b1], BMKLS[b2])\n",
    "    \n",
    "    if r[0]>=0.75:\n",
    "        color='red'\n",
    "    elif r[0]<0.5:\n",
    "        color='blue'\n",
    "    else:\n",
    "        color='black'\n",
    "        \n",
    "    plt.annotate('r={:.3f}'.format(r[0]), (9 if (b1 != 'L') & (b1 != 'MS') else 20, 12.5 if (b2 != 'L') & (b2 != 'MS') else 20), fontsize=14, color=color)\n",
    "\n",
    "bgbrands = [\n",
    "    ('B', '버거킹'), ('K', 'KFC'),\n",
    "    ('M', '맥도날드'), ('L', '롯데리아'), ('MS', '맘스터치'),\n",
    "]\n",
    "\n",
    "for a in range(len(bgbrands) - 1):\n",
    "    for b in range(1, len(bgbrands)):\n",
    "        if a >= b:\n",
    "            continue\n",
    "        ax = fig.add_subplot(len(bgbrands)-1, len(bgbrands)-1, a * 4 + b)\n",
    "        acol, alabel = bgbrands[a]\n",
    "        bcol, blabel = bgbrands[b]\n",
    "        plot_nstores3(bcol, acol, blabel, alabel)\n",
    "\n",
    "plt.tight_layout()\n",
    "plt.savefig(\"./graph/EDA-burgerindex.pdf\")\n"
   ]
  },
  {
   "cell_type": "code",
   "execution_count": null,
   "metadata": {},
   "outputs": [],
   "source": [
    "plt.figure(figsize=(10, 4))\n",
    "for col, label in [('B', 'Burger King'), ('K', 'KFC'), ('M', \"McDonald's\"), ('L', \"Lotteria\"), ('MS', \"Mom's Touch\")]:\n",
    "    cumulv = np.cumsum(sorted(BMKLS[col], reverse=True)) / BMKLS[col].sum()\n",
    "    plt.plot(cumulv, label='{} ({})'.format(label, int(BMKLS[col].sum())))\n",
    "plt.legend(loc='best')\n",
    "plt.xlabel('Number of districts (si/gun/gu)')\n",
    "plt.ylabel('Cumulative fraction')"
   ]
  },
  {
   "cell_type": "code",
   "execution_count": null,
   "metadata": {},
   "outputs": [],
   "source": [
    "from sklearn import manifold"
   ]
  },
  {
   "cell_type": "code",
   "execution_count": null,
   "metadata": {},
   "outputs": [],
   "source": [
    "bgbrands = [\n",
    "    ('B', '버거킹'), ('K', 'KFC'),\n",
    "    ('M', '맥도날드'), ('L', '롯데리아'), ('MS', '맘스터치'),\n",
    "]\n",
    "totalList = []\n",
    "tempList= None\n",
    "for a in range(len(bgbrands)):\n",
    "    tempList=[]\n",
    "    tempList.append(bgbrands[a][1])\n",
    "    for b in range(len(bgbrands)):\n",
    "        acol, alabel = bgbrands[a]\n",
    "        bcol, blabel = bgbrands[b]\n",
    "        r = scipy.stats.pearsonr(BMKLS[bcol], BMKLS[acol])\n",
    "        if r[0] == 1:\n",
    "            tempList.append(0)\n",
    "        else:\n",
    "            tempList.append((1-r[0])*100)\n",
    "    totalList.append(tempList)\n",
    "\n",
    "dists = []\n",
    "burgers = []\n",
    "for d in totalList:\n",
    "    burgers.append(d[0])\n",
    "    dists.append(d[1:])\n",
    "\n",
    "adist = np.array(dists)\n",
    "\n",
    "mds = manifold.MDS(n_components=2, dissimilarity=\"precomputed\", random_state=5)\n",
    "results = mds.fit(adist)\n",
    "\n",
    "coords = results.embedding_\n",
    "\n",
    "plt.subplots_adjust(bottom = 0.1)\n",
    "plt.scatter(\n",
    "    coords[:, 0], coords[:, 1], marker = 'o'\n",
    "    )\n",
    "for label, x, y in zip(burgers, coords[:, 0], coords[:, 1]):\n",
    "    plt.annotate(\n",
    "        label,\n",
    "        xy = (x, y), xytext = (-5, 5),\n",
    "        textcoords = 'offset points', ha = 'right', va = 'bottom',\n",
    "        bbox = dict(boxstyle = 'round,pad=0.5', fc = 'yellow', alpha = 0.5),\n",
    "        arrowprops = dict(arrowstyle = '->', connectionstyle = 'arc3,rad=0'))\n",
    "\n",
    "plt.show()"
   ]
  }
 ],
 "metadata": {
  "kernelspec": {
   "display_name": "Python 3",
   "language": "python",
   "name": "python3"
  },
  "language_info": {
   "codemirror_mode": {
    "name": "ipython",
    "version": 3
   },
   "file_extension": ".py",
   "mimetype": "text/x-python",
   "name": "python",
   "nbconvert_exporter": "python",
   "pygments_lexer": "ipython3",
   "version": "3.7.1"
  }
 },
 "nbformat": 4,
 "nbformat_minor": 2
}
